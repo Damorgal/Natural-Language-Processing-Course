{
 "cells": [
  {
   "cell_type": "markdown",
   "metadata": {},
   "source": [
    "# **NLP. Tarea 1: Python (Conferencias)**.\n",
    "\n",
    "*Diego Moreno*"
   ]
  },
  {
   "cell_type": "markdown",
   "metadata": {},
   "source": [
    "# 1. Construcción de un corpus.\n",
    "\n",
    "A continuación la liga para la carpeta creada del corpus. Los datos se encuentran en la subcarpeta llamada ***estenograficas_limpias_por_fecha***."
   ]
  },
  {
   "cell_type": "markdown",
   "metadata": {},
   "source": [
    "https://drive.google.com/drive/folders/1HO27SlvNyk7LMBoA12112MkQ8wGj3XW5?usp=sharing"
   ]
  },
  {
   "cell_type": "markdown",
   "metadata": {},
   "source": [
    "# 2. Vistazo a los datos."
   ]
  },
  {
   "cell_type": "markdown",
   "metadata": {},
   "source": [
    "Importamos las librerías neccesarias para la tarea:"
   ]
  },
  {
   "cell_type": "code",
   "execution_count": 181,
   "metadata": {},
   "outputs": [],
   "source": [
    "import nltk\n",
    "import glob\n",
    "from nltk import FreqDist\n",
    "from nltk.tokenize import RegexpTokenizer\n",
    "from nltk.text import Text\n",
    "from nltk.tokenize import TweetTokenizer \n",
    "from datetime import datetime\n",
    "import matplotlib.pyplot as plt\n",
    "from nltk.corpus import stopwords"
   ]
  },
  {
   "cell_type": "markdown",
   "metadata": {},
   "source": [
    "1. Colocamos todas las conferencias en un string y separamos:"
   ]
  },
  {
   "cell_type": "code",
   "execution_count": 12,
   "metadata": {},
   "outputs": [],
   "source": [
    "str_conferencias = []\n",
    "\n",
    "# Ciclo para abrir todos los archivos de las conferencias\n",
    "for f_page in glob.glob('./corpus/*'):\n",
    "    conf_i = open(f_page, 'r', encoding='utf-8').read()\n",
    "    # Separamos la conferencia i por palabras separadas por espacio\n",
    "    conf_s = conf_i.split()\n",
    "    # Agregamos a la lista de conferencias\n",
    "    str_conferencias += conf_s"
   ]
  },
  {
   "cell_type": "markdown",
   "metadata": {},
   "source": [
    "2. Medimos la cantidad de palabras en las conferencias:"
   ]
  },
  {
   "cell_type": "code",
   "execution_count": 18,
   "metadata": {},
   "outputs": [
    {
     "name": "stdout",
     "output_type": "stream",
     "text": [
      "La cantidad de palabras en las conferencias:\n",
      "5843211\n"
     ]
    }
   ],
   "source": [
    "print('La cantidad de palabras en las conferencias:')\n",
    "print(len(str_conferencias))"
   ]
  },
  {
   "cell_type": "markdown",
   "metadata": {},
   "source": [
    "3. Extraemos el vocabulario y medimos su longitud:"
   ]
  },
  {
   "cell_type": "code",
   "execution_count": 20,
   "metadata": {},
   "outputs": [
    {
     "name": "stdout",
     "output_type": "stream",
     "text": [
      "Cantidad de palabras en las conferencias SIN repetición (Vocabulario):\n",
      "141701\n"
     ]
    }
   ],
   "source": [
    "voca = set(str_conferencias)\n",
    "print('Cantidad de palabras en las conferencias SIN repetición (Vocabulario):')\n",
    "print(len(voca))"
   ]
  },
  {
   "cell_type": "markdown",
   "metadata": {},
   "source": [
    "4. Medimos la riqueza del vocabulario con la siguinete función para medir la diversidad:"
   ]
  },
  {
   "cell_type": "code",
   "execution_count": 23,
   "metadata": {},
   "outputs": [],
   "source": [
    "def lexical_diversity(text):\n",
    "    return len(text)/len(set(text))\n",
    "\n",
    "def porcentaje(a, b):\n",
    "    return 100*a/b"
   ]
  },
  {
   "cell_type": "code",
   "execution_count": 22,
   "metadata": {},
   "outputs": [
    {
     "name": "stdout",
     "output_type": "stream",
     "text": [
      "La riqueza del vocabulario: 41.23620157938194\n"
     ]
    }
   ],
   "source": [
    "print('La riqueza del vocabulario:', lexical_diversity(str_conferencias))"
   ]
  },
  {
   "cell_type": "markdown",
   "metadata": {},
   "source": [
    "Si riqueza es de 41, esto nos dice que una palabra se usa en promedio 41 veces a lo largo de todas las conferencias.\n",
    "\n",
    "Por otro lado, una palabra que dice mucho AMLO es «corrupción» veamos que tan frecuente es:"
   ]
  },
  {
   "cell_type": "code",
   "execution_count": 92,
   "metadata": {},
   "outputs": [
    {
     "data": {
      "text/plain": [
       "0.0832932440741914"
      ]
     },
     "execution_count": 92,
     "metadata": {},
     "output_type": "execute_result"
    }
   ],
   "source": [
    "porcentaje(str_conferencias.count('corrupción')+str_conferencias.count('corrupción.')+\n",
    "           str_conferencias.count('corrupción,')+str_conferencias.count('corrupción?')+str_conferencias.count('corrupción!'), \n",
    "           len(str_conferencias))"
   ]
  },
  {
   "cell_type": "markdown",
   "metadata": {},
   "source": [
    "Es alto el porcentaje en comparación de las palabras totales, puesto que equivale a 4867 veces cuando la riqueza del vocabulario es de 41 veces cada palabra.\n",
    "\n",
    "Una de las famosas, es la frase «me canso ganso». Veamos que tan frecuente es la palabra «ganso»."
   ]
  },
  {
   "cell_type": "code",
   "execution_count": 96,
   "metadata": {},
   "outputs": [
    {
     "data": {
      "text/plain": [
       "40"
      ]
     },
     "execution_count": 96,
     "metadata": {},
     "output_type": "execute_result"
    }
   ],
   "source": [
    "str_conferencias.count('ganso')+str_conferencias.count('ganso,')+str_conferencias.count('ganso.')+str_conferencias.count('ganso!')+str_conferencias.count('ganso?')"
   ]
  },
  {
   "cell_type": "markdown",
   "metadata": {},
   "source": [
    "Al parecer solo se ha dicho 40 veces en todas las conferencias :(\n",
    "\n",
    "Finalmente, las 30 palabras más frecuentes son:\n"
   ]
  },
  {
   "cell_type": "code",
   "execution_count": 57,
   "metadata": {},
   "outputs": [
    {
     "data": {
      "image/png": "[encoded data removed]",
      "text/plain": [
       "<Figure size 432x288 with 1 Axes>"
      ]
     },
     "metadata": {
      "needs_background": "light"
     },
     "output_type": "display_data"
    },
    {
     "data": {
      "text/plain": [
       "<AxesSubplot:xlabel='Samples', ylabel='Counts'>"
      ]
     },
     "execution_count": 57,
     "metadata": {},
     "output_type": "execute_result"
    }
   ],
   "source": [
    "frec = FreqDist(str_conferencias)\n",
    "frec.plot(30, cumulative=False)"
   ]
  },
  {
   "cell_type": "markdown",
   "metadata": {},
   "source": [
    "Hasta ahora son solamente artículos, los cuales son palabras que comparten todos los documentos."
   ]
  },
  {
   "cell_type": "markdown",
   "metadata": {},
   "source": [
    "5. Hacemos la conversión a minúsculas y vemos los resultados de los pasos anteriores\n",
    "\n",
    "5.1. Obtenemos las conferencias convirtiendo a minúsculas."
   ]
  },
  {
   "cell_type": "code",
   "execution_count": 73,
   "metadata": {},
   "outputs": [],
   "source": [
    "str_conf_low = []\n",
    "\n",
    "# Ciclo para abrir todos los archivos de las conferencias\n",
    "for f_page in glob.glob('./corpus/*'):\n",
    "    # Convertimos a minúsculas con la funcion lower()\n",
    "    conf_i = open(f_page, 'r', encoding='utf-8').read().lower()\n",
    "    # Separamos la conferencia i por palabras separadas por espacio\n",
    "    conf_s = conf_i.split()\n",
    "    # Agregamos a la lista de conferencias\n",
    "    str_conf_low += conf_s"
   ]
  },
  {
   "cell_type": "markdown",
   "metadata": {},
   "source": [
    "5.2. Medimos la cantidad de palabras en las conferencias (debería ser el mismo):"
   ]
  },
  {
   "cell_type": "code",
   "execution_count": 74,
   "metadata": {},
   "outputs": [
    {
     "name": "stdout",
     "output_type": "stream",
     "text": [
      "La cantidad de palabras en las conferencias:\n",
      "5843211\n"
     ]
    }
   ],
   "source": [
    "print('La cantidad de palabras en las conferencias:')\n",
    "print(len(str_conf_low))"
   ]
  },
  {
   "cell_type": "markdown",
   "metadata": {},
   "source": [
    "5.3. Extraemos el vocabulario y medimos su longitud (debe ser distinta y menor):"
   ]
  },
  {
   "cell_type": "code",
   "execution_count": 75,
   "metadata": {},
   "outputs": [
    {
     "name": "stdout",
     "output_type": "stream",
     "text": [
      "Cantidad de palabras en las conferencias SIN repetición (Vocabulario):\n",
      "130912\n"
     ]
    }
   ],
   "source": [
    "voca_low = set(str_conf_low)\n",
    "print('Cantidad de palabras en las conferencias SIN repetición (Vocabulario):')\n",
    "print(len(voca_low))"
   ]
  },
  {
   "cell_type": "markdown",
   "metadata": {},
   "source": [
    "Con lo que se bajo del orden de 140mil palabras en el vocabulario a 130mil.\n",
    "\n",
    "5.4. Medimos la riqueza del vocabulario con la siguinete función para medir la diversidad:"
   ]
  },
  {
   "cell_type": "code",
   "execution_count": 77,
   "metadata": {},
   "outputs": [
    {
     "name": "stdout",
     "output_type": "stream",
     "text": [
      "La riqueza del vocabulario: 44.634647702273284\n"
     ]
    }
   ],
   "source": [
    "print('La riqueza del vocabulario:', lexical_diversity(str_conf_low))"
   ]
  },
  {
   "cell_type": "markdown",
   "metadata": {},
   "source": [
    "La riqueza fue más pobre, pues de 41 subió a 44 dando como resultado que una palabra se repite en promedio 44 veces.\n",
    "\n",
    "Por otro lado, la palabra «corrupción» tiene un porcentaje mayor al anterior con ocurrencias de 4914. La palabra de «ganso» ahora ocurre las mismas veces. "
   ]
  },
  {
   "cell_type": "code",
   "execution_count": 97,
   "metadata": {},
   "outputs": [
    {
     "data": {
      "text/plain": [
       "0.0840975963387254"
      ]
     },
     "execution_count": 97,
     "metadata": {},
     "output_type": "execute_result"
    }
   ],
   "source": [
    "porcentaje(str_conf_low.count('corrupción')+str_conf_low.count('corrupción.')+str_conf_low.count('corrupción,')+\n",
    "           str_conf_low.count('corrupción!')+str_conf_low.count('corrupción?'), \n",
    "           len(str_conf_low))"
   ]
  },
  {
   "cell_type": "code",
   "execution_count": 100,
   "metadata": {},
   "outputs": [
    {
     "data": {
      "text/plain": [
       "40"
      ]
     },
     "execution_count": 100,
     "metadata": {},
     "output_type": "execute_result"
    }
   ],
   "source": [
    "str_conf_low.count('ganso')+str_conf_low.count('ganso.')+str_conf_low.count('ganso,')+str_conf_low.count('ganso!')+str_conf_low.count('ganso?')"
   ]
  },
  {
   "cell_type": "markdown",
   "metadata": {},
   "source": [
    "Finalmente las 30 palabras más frecuentes son:"
   ]
  },
  {
   "cell_type": "code",
   "execution_count": 102,
   "metadata": {},
   "outputs": [
    {
     "data": {
      "image/png": "[encoded data removed]",
      "text/plain": [
       "<Figure size 432x288 with 1 Axes>"
      ]
     },
     "metadata": {
      "needs_background": "light"
     },
     "output_type": "display_data"
    },
    {
     "data": {
      "text/plain": [
       "<AxesSubplot:xlabel='Samples', ylabel='Counts'>"
      ]
     },
     "execution_count": 102,
     "metadata": {},
     "output_type": "execute_result"
    }
   ],
   "source": [
    "frec_low = FreqDist(str_conf_low)\n",
    "frec_low.plot(30)"
   ]
  },
  {
   "cell_type": "markdown",
   "metadata": {},
   "source": [
    "El cambio más notable fue en la palabra presidente la cual antes no aparecía como frecuente."
   ]
  },
  {
   "cell_type": "markdown",
   "metadata": {},
   "source": [
    "6. Usamos la funcion de RegExp de tokenizer de la librería NLTK\n",
    "\n",
    "6.1. Obtenemos las conferencias tokenizando con regexp y agregando a un text de nltk"
   ]
  },
  {
   "cell_type": "code",
   "execution_count": 192,
   "metadata": {},
   "outputs": [],
   "source": [
    "str_conf_regexp = []\n",
    "# Tokenizador con expresion regular solo para letras mayúsculas o minúsculas\n",
    "tokenizer = RegexpTokenizer('[A-Z]\\w+|[a-z]\\w+')\n",
    "\n",
    "# Ciclo para abrir todos los archivos de las conferencias\n",
    "for f_page in glob.glob('./corpus/*'):\n",
    "    conf_i = open(f_page, 'r', encoding='utf-8').read()\n",
    "    # Separamos la conferencia i por palabras separadas por espacio\n",
    "    conf_s = tokenizer.tokenize(conf_i)\n",
    "    # Agregamos a la lista de conferencias\n",
    "    str_conf_regexp += conf_s\n",
    "\n",
    "# Descargamos los datos de la lista a un Text\n",
    "text_conf = Text(str_conf_regexp)"
   ]
  },
  {
   "cell_type": "markdown",
   "metadata": {},
   "source": [
    "6.2. Medimos la cantidad de palabras en las conferencias:"
   ]
  },
  {
   "cell_type": "code",
   "execution_count": 193,
   "metadata": {},
   "outputs": [
    {
     "data": {
      "text/plain": [
       "5807509"
      ]
     },
     "execution_count": 193,
     "metadata": {},
     "output_type": "execute_result"
    }
   ],
   "source": [
    "len(text_conf)"
   ]
  },
  {
   "cell_type": "markdown",
   "metadata": {},
   "source": [
    "6.3. Extraemos el vocabulario y medimos su longitud:"
   ]
  },
  {
   "cell_type": "code",
   "execution_count": 194,
   "metadata": {},
   "outputs": [
    {
     "name": "stdout",
     "output_type": "stream",
     "text": [
      "Cantidad de palabras en las conferencias SIN repetición (Vocabulario): 73770\n"
     ]
    }
   ],
   "source": [
    "voca_text = set(text_conf)\n",
    "print('Cantidad de palabras en las conferencias SIN repetición (Vocabulario): %d' % len(voca_text))"
   ]
  },
  {
   "cell_type": "markdown",
   "metadata": {},
   "source": [
    "Con lo cual se reduce drásticamente la cantidad de tokens.\n",
    "\n",
    "7. Realizamos lo mismo para el copus pero ahora convirtiendo en minúsculas el texto y usando la función de tweetTokenizer:\n",
    "\n",
    "7.1 Obtenemos los datos de la conferencia usando la función TweetTokenizer "
   ]
  },
  {
   "cell_type": "code",
   "execution_count": 188,
   "metadata": {},
   "outputs": [],
   "source": [
    "str_conf_ttok = []\n",
    "# Creamos la clase TweetTokenizer \n",
    "ttokenizer = TweetTokenizer() \n",
    "\n",
    "# Ciclo para abrir todos los archivos de las conferencias\n",
    "for f_page in glob.glob('./corpus/*'):\n",
    "    # Leemos el texto en minúsculas\n",
    "    conf_i = open(f_page, 'r', encoding='utf-8').read().lower()\n",
    "    # Separamos la conferencia i por palabras separadas por espacio\n",
    "    conf_s = ttokenizer.tokenize(conf_i)\n",
    "    # Agregamos a la lista de conferencias\n",
    "    str_conf_ttok += conf_s\n",
    "\n",
    "# Descargamos los datos de la lista a un Text\n",
    "text_conf_ttok = Text(str_conf_ttok)"
   ]
  },
  {
   "cell_type": "markdown",
   "metadata": {},
   "source": [
    "7.2. Medimos la cantidad de palabras en las conferencias:"
   ]
  },
  {
   "cell_type": "code",
   "execution_count": 189,
   "metadata": {},
   "outputs": [
    {
     "data": {
      "text/plain": [
       "8167938"
      ]
     },
     "execution_count": 189,
     "metadata": {},
     "output_type": "execute_result"
    }
   ],
   "source": [
    "len(text_conf_ttok)"
   ]
  },
  {
   "cell_type": "markdown",
   "metadata": {},
   "source": [
    "La cantidad de palabras con esta función sube a 8 millones cuando con regExp teniamos 5 millones. Esto es debido a que anteriormente no considerabamos números y al parecer, TweetTokenizer sí considera algún tipo de números.\n",
    "\n",
    "7.3. Extraemos el vocabulario y medimos su longitud:"
   ]
  },
  {
   "cell_type": "code",
   "execution_count": 190,
   "metadata": {},
   "outputs": [
    {
     "name": "stdout",
     "output_type": "stream",
     "text": [
      "Cantidad de palabras en las conferencias SIN repetición (Vocabulario): 73682\n"
     ]
    }
   ],
   "source": [
    "voca_ttok = set(text_conf_ttok)\n",
    "print('Cantidad de palabras en las conferencias SIN repetición (Vocabulario): %d' % len(voca_ttok))"
   ]
  },
  {
   "cell_type": "markdown",
   "metadata": {},
   "source": [
    "Al final se obtiene una cantidad similar de palabras en el vocabulario. Por lo tanto, el trabajo anterior, puede ser resumido al solamente usar la función de TweetTokenizer. "
   ]
  },
  {
   "cell_type": "markdown",
   "metadata": {},
   "source": [
    "# 3. Funciones NLTK"
   ]
  },
  {
   "cell_type": "markdown",
   "metadata": {},
   "source": [
    "1. Vemos el contexto en que se usan algunas palabras homógrafas y otras interesantes de saber el contexto. Por ejemplo las palabras «armando», «ganso», «bien», «vino» y «malo»."
   ]
  },
  {
   "cell_type": "code",
   "execution_count": 198,
   "metadata": {},
   "outputs": [
    {
     "name": "stdout",
     "output_type": "stream",
     "text": [
      "Displaying 25 of 39 matches:\n",
      "n entre los nombres , por ejemplo , armando casas , no sé si nos puede comentar\n",
      "sco que cubrió sus campañas y jorge armando rocha gutiérrez que están en lo dig\n",
      "linterpretar , es roger bartra , no armando bartra , porque armando bartra es u\n",
      "bartra , no armando bartra , porque armando bartra es un hombre , también un in\n",
      "municipal de ciudad juárez , héctor armando cabada . y estamos unidos porque de\n",
      "mos pasar el video que nos ayudaron armando la gente de la cirt . no sé si lo t\n",
      "diplomado del estado mayor , sergio armando barreras salcedo , que es comandant\n",
      "ente al general de brigada , sergio armando barrera , y al final escribe : ‘ es\n",
      " y creo que también le prepusimos a armando bartra y también lo mismo , que pre\n",
      "los nuevos herederos de zapata , de armando bartra ; o un ensayo de miguel ánge\n",
      "ios . el tema del metrobús . estuvo armando navarro , delegado de morena en dur\n",
      "n contralínea documentamos que juan armando hinojosa cantú es uno de los benefi\n",
      "lave de radio ‘ libra ’ , y otro es armando hernández velasco , con el nombre d\n",
      " comercializa . recibe el ingeniero armando sánchez mabarak , representante de \n",
      "ema público de radio y televisión , armando carrillo . es un sistema constituid\n",
      " coordinación . ante la renuncia de armando carrillo , voy a proponer al senado\n",
      "a el canal 22 estamos proponiendo a armando casas , que creo que también está a\n",
      "tro país . ’ ‘ atentamente , doctor armando tomás castillo peña ’ . presidente \n",
      "dores . la que no se dejó verificar armando garcía aguilar , en texcoco , estad\n",
      " del organigrama de quienes estaban armando toda la campaña en su contra estaba\n",
      "s . según un boletín del legislador armando guadiana , el senador , decía que a\n",
      "a las denunciantes por la muerte de armando vega-gil , el músico que se suicidó\n",
      "l legislador de morena , el senador armando guadiana , y fueron también acompañ\n",
      "depender de estados unidos . lo que armando guadiana argumenta es que poco a po\n",
      "formando , del fallecimiento de don armando manzanero , que es algo muy triste \n"
     ]
    }
   ],
   "source": [
    "text_conf_ttok.concordance('armando')"
   ]
  },
  {
   "cell_type": "markdown",
   "metadata": {},
   "source": [
    "Notamos que en varias ocasiones se usa de manera de armar y otras como nombre propio, por lo que pudiera ser una confusión si no vemos el contexto."
   ]
  },
  {
   "cell_type": "code",
   "execution_count": 186,
   "metadata": {},
   "outputs": [
    {
     "name": "stdout",
     "output_type": "stream",
     "text": [
      "Displaying 25 of 40 matches:\n",
      " para limpiar las aduanas y me canso ganso que lo vamos a lograr . reiteramos e\n",
      "a acabar con la impunidad , me canso ganso . el problema de méxico no es la fal\n",
      "establecida la democracia . me canso ganso . se va a acabar el fraude electoral\n",
      " va a acabar la impunidad . me canso ganso . pregunta : ( inaudible ) . preside\n",
      " va a caminar el elefante . me canso ganso . interlocutor : presidente , en el \n",
      "va a acabar la corrupción . me canso ganso . pero aquí hay la virtud de la hone\n",
      "el , sin derecho a fianza . me canso ganso . entonces , no va a haber ninguna l\n",
      " acabar con la corrupción , me canso ganso , y con el apoyo del pueblo va a hab\n",
      "sí como lo vengo diciendo : me canso ganso . va porque va . y lo vamos a hacer \n",
      "corrupción y la impunidad . me canso ganso , es en serio . estas empresas son l\n",
      " se acaba porque se acaba . me canso ganso . aunque haya protestas y presiones \n",
      "n y se acaba la impunidad . me canso ganso . pregunta : nada más para una preci\n",
      "a a poder , se va a poder , me canso ganso , pero si tenemos el apoyo de la gen\n",
      "va a acabar la corrupción . me canso ganso . yo estoy , por eso , muy contento \n",
      "amine , pero va a caminar , me canso ganso , va a caminar , va a trotar , va a \n",
      "acaba el fraude electoral . me canso ganso . interlocutora : presidente , para \n",
      ", pero vamos a resolverlo , me canso ganso . interlocutora : finalmente , presi\n",
      "ién se cansa primero . pero me canso ganso de que vamos a poner orden . imagíne\n",
      "zar y lo seguiré haciendo . me canso ganso . muchas gracias . y cedo la palabra\n",
      " a terminar la corrupción , me canso ganso . y eso va a mejorar las condiciones\n",
      " . se acabó la corrupción . me canso ganso . pregunta : buenos días . president\n",
      "presidente ’ . y les dije : me canso ganso que sí se lo doy . entonces , pues s\n",
      " fallar . adiós , adiós . y me canso ganso . interlocutora : exactamente , ya c\n",
      "y va a haber tranquilidad . me canso ganso . ahora sí , vámonos para la izquier\n",
      "la corrupción en veracruz . me canso ganso . uno más . pregunta : buenos días ,\n"
     ]
    }
   ],
   "source": [
    "text_conf_ttok.concordance('ganso')"
   ]
  },
  {
   "cell_type": "markdown",
   "metadata": {},
   "source": [
    "La palabra ganso, nunca se refiere al animal en si. Se usa la mayoría de las veces como rima de la frase me canso ganso."
   ]
  },
  {
   "cell_type": "code",
   "execution_count": 191,
   "metadata": {},
   "outputs": [
    {
     "name": "stdout",
     "output_type": "stream",
     "text": [
      "Displaying 25 of 5762 matches:\n",
      " en martes , 28 de abril de 2020 muy bien . hoy es martes , informamos sobre l\n",
      "ni por debajo de su pulso , está muy bien , no hay arritmias y desde luego est\n",
      "n teniendo seguridad social y eso es bien importante en estas épocas . y lo he\n",
      " circunstancia especial porque no es bien visto el que se tenga que entregar a\n",
      " , decirle a la gente que se informe bien sobre esta situación para que no hay\n",
      "del zócalo pueden estar 500 personas bien separadas y yo hice la propuesta , p\n",
      " en cuestiones legales , que si está bien lo de lozoya , no está bien , de ahí\n",
      " si está bien lo de lozoya , no está bien , de ahí hacia adelante . interlocut\n",
      "u presupuesto , va a ser una empresa bien constituida para que no falten los m\n",
      "el lópez obrador : dos semanas . muy bien , nos vemos mañana . - - - conferenc\n",
      "a causa . yo creo que se ha avanzado bien y hacemos desde esta perspectiva una\n",
      "manuel lópez obrador : buenos días . bien , ya conocen sobre la propuesta . co\n",
      "tenemos que descansar para estar muy bien , como estamos , al 100 , afortunada\n",
      "a el filósofo de mi pueblo , no está bien , pero tampoco está mal , porque mue\n",
      "lección , de la importancia de comer bien , de cómo las enfermedades crónicas \n",
      "ca de condonación de impuestos . qué bien que ya se está creando una concienci\n",
      " necesita . esto es muy humano . muy bien . pregunta : hola , buenos días . mu\n",
      "yer también hubo una propuesta , más bien 70 propuestas de parte del consejo c\n",
      " , al sector privado . o sea , vamos bien , nada más que es un mecanismo disti\n",
      "ue nosotros tenemos que velar por el bien de todos y hemos considerado darle a\n",
      "a el canciller , el proceso está muy bien articulado todo lo que tiene que ver\n",
      "hay una investigación judicial , más bien la secretaría de la función pública \n",
      "formar de cómo vamos . yo pienso que bien , estamos bien y de buenas . y el do\n",
      "vamos . yo pienso que bien , estamos bien y de buenas . y el domingo nos reuni\n",
      "ferencia a la gente humilde . por el bien de todos , primero los pobres . y es\n"
     ]
    }
   ],
   "source": [
    "text_conf_ttok.concordance('bien')"
   ]
  },
  {
   "cell_type": "markdown",
   "metadata": {},
   "source": [
    "La palabra bien es otra de las que tenemos que tomar muy en cuenta el contexto en el que está descrita porque varias veces se refiere a que está todo bien, y otras a que no está bien. Se tiene que fijar en la palabra «no» para darle el significado."
   ]
  },
  {
   "cell_type": "code",
   "execution_count": 193,
   "metadata": {},
   "outputs": [
    {
     "name": "stdout",
     "output_type": "stream",
     "text": [
      "Displaying 25 of 189 matches:\n",
      "star antier el nuncio con nosotros , vino a una reunión y no planteó eso , nos\n",
      "r las comisiones ; y ahora regresó y vino a informarme que ya se iba a iniciar\n",
      "a mañana , no quisimos presentarlo , vino la secretaria de la función pública \n",
      "bebidas alcohólicas y seis litros de vino , sólo para pasajeros mayores de 18 \n",
      "o quiero decir que es una crisis que vino de fuera , como antes , que se habla\n",
      " se les olvida que no se puede poner vino nuevo en botellas viejas , pero ahí \n",
      "créditos a pequeños negocios . ahora vino la crisis , cerraron muchos negocios\n",
      " la gran tragedia lo trajeron ; pues vino a dañar más a méxico , todavía vendi\n",
      "bueno , vamos a ver con joselyn . no vino . claudia . pregunta : gracias , pre\n",
      "riores , le drian , de francia , que vino aquí a la ciudad de méxico ; y el pr\n",
      "de estados unidos . ¿ está aquí ? no vino . vámonos con dos . pregunta : buen \n",
      "resenciaron un milagro , el brazo se vino saltando de no sé dónde hasta el lug\n",
      "ta . eso fue el periodo neoliberal . vino el rector de la unam , me trajo hace\n",
      "liberal en el mundo . el coronavirus vino a precipitar la crisis , pero lo que\n",
      "lga alguien a decir : ‘ mi recibo me vino más elevado ’ , puede ser la excepci\n",
      "í me tocó estar en una reunión donde vino una comisión de gente del río sonora\n",
      "tes en méxico ’ . en febrero de 2019 vino grete faremo , noruega , fue ministr\n",
      "cretaria general adjunta de la onu , vino a méxico y firmó un convenio marco ,\n",
      "cto de intereses . esta situación se vino porque el activista denunció que hab\n",
      "imos aquí en lenguaje coloquial , se vino a pique la economía , la producción \n",
      "o por bernal díaz del castillo , que vino el soldado - dice el gran historiado\n",
      " azteca , una moneda , y la alzó , y vino el brazo a agarrar al azteca y así r\n",
      ". bueno , resulta que todo eso ya se vino abajo y es ahora en los últimos tiem\n",
      "l país , el mismo reportero que aquí vino a presentarle sobre el desastre que \n",
      "a asociación de salud particular que vino aquí que se llama … interlocutor : j\n"
     ]
    }
   ],
   "source": [
    "text_conf_ttok.concordance('vino')"
   ]
  },
  {
   "cell_type": "markdown",
   "metadata": {},
   "source": [
    "Vino es otra palabra homógrafa, la cual muchas veces se refiere al verbo venir, pero una que otra vez es a la bebida alcohólica, por ejemplo en la cuarta oración."
   ]
  },
  {
   "cell_type": "code",
   "execution_count": 189,
   "metadata": {},
   "outputs": [
    {
     "name": "stdout",
     "output_type": "stream",
     "text": [
      "Displaying 25 of 90 matches:\n",
      "astocada , estoy de acuerdo y es muy malo . qué bueno que llegó usted a la pre\n",
      "e normal , como que no tiene nada de malo . estamos cambiando estas cosas y es\n",
      "ón de méxico . a ver si … es que soy malo para recordar autores y títulos , pe\n",
      "empresa . usted mucho a dicho que lo malo no termina no de morir . rcu manipul\n",
      " porque no todo lo del extranjero es malo , desgraciadamente se copia lo malo \n",
      " malo , desgraciadamente se copia lo malo . hay muchas cosas buenas en otros p\n",
      " , el pueblo , el ser humano , no es malo por naturaleza , son las circunstanc\n",
      "ir entre lo que es bueno y lo que es malo . ya no hay gente manipulable . clar\n",
      "hacer lo que sea y además es legal ; malo sería que tomaran el camino de las c\n",
      "ucha violencia . el ser humano no es malo por naturaleza , el mexicano no es m\n",
      "o por naturaleza , el mexicano no es malo , son las circunstancias las que lle\n",
      " cumplí . ¿ y qué ha sucedido ? nada malo ; al contrario , hay armonía porque \n",
      "r , entender que el ser humano no es malo por naturaleza , no nacimos malos , \n",
      "a ? muchas cosas buenas , no todo es malo , además muchas enseñanzas : primero\n",
      "or naturaleza , ningún ser humano es malo por naturaleza , son las circunstanc\n",
      "y bien , porque hay finanzas sanas , malo sería que estuviésemos gastando más \n",
      "ca democrática en nuestra sociedad , malo sería que existieran grupos de presi\n",
      "ntemente de eso , que si fue bueno o malo , si nos afecta o nos beneficia polí\n",
      " es la función que tiene el estado . malo sería que se utilizaran los recursos\n",
      " conservadora , que no tiene nada de malo de que exista , tienen todo su derec\n",
      "e , antes se sabe , si es bueno o es malo un gobernante , o sea , ya es sufici\n",
      ", que si aumentaban los salarios era malo , perjudicial , porque eso traía apa\n",
      "articulares , para odebrecht , y muy malo para la nación . imagínense el daño \n",
      "uctos fue un exceso , fue un negocio malo para la hacienda pública . ¿ pero qu\n",
      "ía seguirle metiendo dinero bueno al malo y otros que me dicen que no , que ha\n"
     ]
    }
   ],
   "source": [
    "text_conf_ttok.concordance('malo')"
   ]
  },
  {
   "cell_type": "markdown",
   "metadata": {},
   "source": [
    "Malo es empleado para decir que alguien es malo para algo (oración 3). También es usado para una frase positiva como decir: malo sería que estuvieramos gastando más. Otras veces es acompañada de la palabra no y finalmente, también tiene el significado de que algo es malo en general. La palabra «malo» parece ser una de las más complicadas en entender bajo el contexto."
   ]
  },
  {
   "cell_type": "markdown",
   "metadata": {},
   "source": [
    "7.2 Buscamos las palabras de usos similares de la palabra «gobernante»."
   ]
  },
  {
   "cell_type": "code",
   "execution_count": 203,
   "metadata": {},
   "outputs": [
    {
     "name": "stdout",
     "output_type": "stream",
     "text": [
      "gobierno estado ejemplo país presidente año programa caso acuerdo día\n",
      "hospital tema plan momento tiempo trabajo apoyo problema pueblo cambio\n"
     ]
    }
   ],
   "source": [
    "text_conf_ttok.similar('gobernante')"
   ]
  },
  {
   "cell_type": "markdown",
   "metadata": {},
   "source": [
    "Muestra resultados muy parecidos que sí tienen que ver con la palabra gobernante, por ejemplo de las más adecuadas son: gobierno, estado, país, presidente, trabajo, apoyo, problema y pueblo."
   ]
  },
  {
   "cell_type": "markdown",
   "metadata": {},
   "source": [
    "7.3. Realizamos un corpus con las 535 conferencias ordenadas, donde el inicio del texto corresponde a la conferencia más antigua y el final del texto, a la conferencia más nueva. Después realizamos un dispertion plot para ver las palabras más usadas a lo largo de las conferencias."
   ]
  },
  {
   "cell_type": "code",
   "execution_count": 3,
   "metadata": {},
   "outputs": [],
   "source": [
    "# Podemos usar este ordenamiento más sencillo que conviertiendo a fecha\n",
    "pages = [f_page[9:] for f_page in glob.glob('./corpus/*')]\n",
    "pages.sort()\n",
    "\n",
    "for i in range(len(pages)):\n",
    "    pages[i] = './corpus/'+pages[i]"
   ]
  },
  {
   "cell_type": "code",
   "execution_count": 290,
   "metadata": {},
   "outputs": [],
   "source": [
    "# Si tenemos que hacerlo convirtiendo a fecha, aquí está el código:\n",
    "pages = [f_page[9:] for f_page in glob.glob('./corpus/*')]\n",
    "for i in range(len(pages)):\n",
    "    if len(pages[i])>10 and pages[i][11]=='2':\n",
    "        pages[i] = pages[i][:10] + 'T02'\n",
    "    elif len(pages[i])>10 and pages[i][11]=='3':\n",
    "        pages[i] = pages[i][:10] + 'T03'\n",
    "        \n",
    "\n",
    "pages_date = [datetime.fromisoformat(page) for page in pages]\n",
    "pages_date.sort()\n",
    "\n",
    "pages = [date.strftime('%Y-%m-%d_%H') for date in pages_date]\n",
    "for i in range(len(pages)):\n",
    "    if pages[i][12]=='2':\n",
    "        pages[i] = './corpus/'+ pages[i][:10] + '_2da'\n",
    "    elif pages[i][12]=='3':\n",
    "        pages[i] = './corpus/'+ pages[i][:10] + '_3ra'\n",
    "    else:\n",
    "        pages[i] = './corpus/'+ pages[i][:10]"
   ]
  },
  {
   "cell_type": "markdown",
   "metadata": {},
   "source": [
    "Leemos las conferencias en orden y aplicamos la dispersión:"
   ]
  },
  {
   "cell_type": "code",
   "execution_count": 5,
   "metadata": {},
   "outputs": [],
   "source": [
    "str_conf_ttok_sorted = []\n",
    "# Creamos la clase TweetTokenizer \n",
    "ttokenizer = TweetTokenizer() \n",
    "\n",
    "# Ciclo para abrir todos los archivos de las conferencias\n",
    "for f_page in pages:\n",
    "    # Leemos el texto en minúsculas\n",
    "    conf_i = open(f_page, 'r', encoding='utf-8').read().lower()\n",
    "    # Separamos la conferencia i por palabras separadas por espacio\n",
    "    conf_s = ttokenizer.tokenize(conf_i)\n",
    "    # Agregamos a la lista de conferencias\n",
    "    str_conf_ttok_sorted += conf_s\n",
    "\n",
    "# Descargamos los datos de la lista a un Text\n",
    "text_conf_ttok_sorted = Text(str_conf_ttok_sorted)"
   ]
  },
  {
   "cell_type": "code",
   "execution_count": 6,
   "metadata": {},
   "outputs": [
    {
     "data": {
      "image/png": "[encoded data removed]",
      "text/plain": [
       "<Figure size 432x288 with 1 Axes>"
      ]
     },
     "metadata": {
      "needs_background": "light"
     },
     "output_type": "display_data"
    }
   ],
   "source": [
    "text_conf_ttok_sorted.dispersion_plot(['prian', 'corrupción', 'mafia', \n",
    "                                       'narco', 'gasolina', 'pipas', \n",
    "                                       'conacyt', 'ciencia', 'turismo',\n",
    "                                       'pandemia', 'coronavirus', 'covid',\n",
    "                                       'ganso', 'vacuna', 'huachicol'])"
   ]
  },
  {
   "cell_type": "markdown",
   "metadata": {},
   "source": [
    "Notamos que la palabra prian es menciona últimamente, mientras que la palabra pipas fue mencionada al inicio del sexenio de AMLO cuando México se quedó sin gasolina. La palabra gasolina, al parecer es mencionada en la mayoría de las conferencias a lo largo del tiempo, similarmente pasa con la palabra corrupción que es mencionada con mayor intensidad. La palabra covid y coronavirus, no muestran una dispersion real, porque al meternos al texto, en cada conferencia viene la parabra COVID-19 y coronavirus como parte del título o presentación. Sin embargo, la palabra pandemia sí muestra una situación real al ser mostrada casi a la segunda mitad de las conferencias.\n",
    "\n",
    "De las palabras que agregué fueron ganso, vacuna y huachicol. La palabra ganso la menciona muchas veces y casi similar a la palabra mafia. La palabra vacuna sí muestra el efecto de ser una palabra reciente. La de huachicol, al parecer, sí se mencionava repetidamente al principio del sexenio cuando fue lo de la gasolina.\n",
    "\n",
    "Las demás palabras se mencionan esparcidamente a lo largo del año."
   ]
  },
  {
   "cell_type": "markdown",
   "metadata": {},
   "source": [
    "7.4. Mostramos 50 colocaciones del texto"
   ]
  },
  {
   "cell_type": "code",
   "execution_count": 316,
   "metadata": {},
   "outputs": [
    {
     "name": "stdout",
     "output_type": "stream",
     "text": [
      "lópez obrador; andrés manuel; manuel lópez; presidente andrés; estados\n",
      "unidos; buenos días; por ciento; versión estenográfica; señor\n",
      "presidente; todos los; prensa matutina; new date; span class; please\n",
      "provide; nada más; input type; jp-carousel-comment-form-field jp-\n",
      "carousel-comment-form-text-field; desde luego; muchas gracias; guardia\n",
      "nacional; por eso; adultos mayores; por ejemplo; marcelo ebrard;\n",
      "derechos humanos; mil millones; shutter speed; full size; view full;\n",
      "focal length; todas las; error posting; muy importante; u00d7\n",
      "<\\/span>; sin embargo; email address; creo que; <\\/fieldset>\n",
      "<fieldset>; matutina del; sobre todo; tiene que; por qué; para que;\n",
      "coronavirus covid; ver con; que nos; baja california; please try;\n",
      "custom javascript; muy bien\n"
     ]
    }
   ],
   "source": [
    "text_conf_ttok_sorted.collocations(50)"
   ]
  },
  {
   "cell_type": "markdown",
   "metadata": {},
   "source": [
    "7.5. Mostramos un histograma de las longitudes de las palabras"
   ]
  },
  {
   "cell_type": "code",
   "execution_count": 143,
   "metadata": {},
   "outputs": [],
   "source": [
    "# Longitud de las palabras\n",
    "words = set(text_conf_ttok_sorted)\n",
    "long_w = [len(w) for w in words]\n",
    "long_w.sort()"
   ]
  },
  {
   "cell_type": "code",
   "execution_count": 171,
   "metadata": {},
   "outputs": [
    {
     "data": {
      "image/png": "[encoded data removed]",
      "text/plain": [
       "<Figure size 1440x360 with 1 Axes>"
      ]
     },
     "metadata": {
      "needs_background": "light"
     },
     "output_type": "display_data"
    }
   ],
   "source": [
    "plt.figure(figsize=(20,5))\n",
    "n, bins, patches = plt.hist(x=long_w, bins=400, color='blue', alpha=.7)\n",
    "plt.grid(axis='y', alpha=0.5)\n",
    "plt.xlabel('Tamaño de la palabra')\n",
    "plt.ylabel('Frecuencia')\n",
    "plt.title('Histograma de palabras más largas')\n",
    "maxfreq = n.max()\n",
    "plt.text(20, 8000, 'Frecuencia más grande: %d' % maxfreq)\n",
    "plt.show()"
   ]
  },
  {
   "cell_type": "markdown",
   "metadata": {},
   "source": [
    "Ahora, nos acercamos un poco hacia pequeñas frecuencias para poder mostrar el top 5 de las palabras más grandes en el histograma.\n",
    "\n",
    "En color rojo se marcan las 5 longitudes más largas correspondientes a 199, 207, 209, 211 y 232 caracteres de longitud."
   ]
  },
  {
   "cell_type": "code",
   "execution_count": 172,
   "metadata": {},
   "outputs": [
    {
     "data": {
      "image/png": "[encoded data removed]",
      "text/plain": [
       "<Figure size 1080x360 with 1 Axes>"
      ]
     },
     "metadata": {
      "needs_background": "light"
     },
     "output_type": "display_data"
    }
   ],
   "source": [
    "plt.figure(figsize=(15,5))\n",
    "n, bins, patches = plt.hist(x=long_w, bins=400, color='blue', alpha=.5)\n",
    "plt.hist(x=long_w[-5:], bins=40, color='red', alpha=1)\n",
    "plt.grid(axis='y', alpha=0.5)\n",
    "plt.xlabel('Tamaño de la palabra')\n",
    "plt.ylabel('Frecuencia')\n",
    "plt.title('Histograma de palabras más largas')\n",
    "maxfreq = n.max()\n",
    "plt.text(100, 20, 'Frecuencia más grande: %d' % maxfreq)\n",
    "plt.ylim(ymax=25)\n",
    "plt.annotate('Palabras más largas', xy=(210, 1), xytext=(190, 5),\n",
    "             arrowprops=dict(facecolor='black', shrink=0.05))\n",
    "plt.show()"
   ]
  },
  {
   "cell_type": "markdown",
   "metadata": {},
   "source": [
    "7.6. Ahora encontramos palabras con longitud mayor a 8 caracteres y frecuencia mayor a 5 en todo\n",
    "el texto."
   ]
  },
  {
   "cell_type": "code",
   "execution_count": 125,
   "metadata": {},
   "outputs": [],
   "source": [
    "# Palabras largas mayores a 8 caracteres\n",
    "words = text_conf_ttok_sorted\n",
    "long_w = [w for w in words if len(w)>8]"
   ]
  },
  {
   "cell_type": "code",
   "execution_count": 126,
   "metadata": {},
   "outputs": [
    {
     "data": {
      "text/plain": [
       "['estenográfica',\n",
       " 'conferencia',\n",
       " 'presidente',\n",
       " 'tmm_lang_no_events',\n",
       " 'lang_january',\n",
       " 'lang_february',\n",
       " 'lang_march',\n",
       " 'lang_april',\n",
       " 'lang_june',\n",
       " 'lang_july',\n",
       " 'lang_august',\n",
       " 'lang_september',\n",
       " 'september',\n",
       " 'lang_october',\n",
       " 'lang_november',\n",
       " 'lang_december',\n",
       " 'lang_sunday',\n",
       " 'lang_monday',\n",
       " 'lang_tuesday',\n",
       " 'lang_wednesday',\n",
       " 'wednesday',\n",
       " 'lang_thursday',\n",
       " 'lang_friday',\n",
       " 'lang_saturday',\n",
       " 'lang_today',\n",
       " 'lang_month',\n",
       " 'lang_week',\n",
       " 'lang_time',\n",
       " 'lang_place',\n",
       " 'error_fetching_events',\n",
       " 'events_time_format',\n",
       " 'events_date_format',\n",
       " '#wpadminbar',\n",
       " 'is_single_page',\n",
       " 'breadcumbs',\n",
       " 'definitions',\n",
       " 'https://presidente.gob.mx',\n",
       " 'capcha_image_url',\n",
       " 'https://presidente.gob.mx/wp-content/themes/diplomat/helper/capcha/image.php/',\n",
       " 'template_directory',\n",
       " 'https://presidente.gob.mx/wp-content/themes/diplomat/',\n",
       " 'https://presidente.gob.mx/wp-admin/admin-ajax.php',\n",
       " 'ajax_nonce',\n",
       " 'f72e8039a7',\n",
       " 'lang_enter_correctly',\n",
       " 'lang_sended_succsessfully',\n",
       " 'successfully',\n",
       " 'lang_server_failed',\n",
       " 'lang_home',\n",
       " 'lang_attach_more_else']"
      ]
     },
     "execution_count": 126,
     "metadata": {},
     "output_type": "execute_result"
    }
   ],
   "source": [
    "# Agregamos a una lista las palabras que tengan frecuencia mayor a 5\n",
    "long_w_freq = FreqDist(long_w)\n",
    "list_long_w = [w for w in long_w_freq.keys() if long_w_freq[w]>5]\n",
    "\n",
    "#Mostramos 50 palabras de ellas\n",
    "list_long_w[:50]"
   ]
  },
  {
   "cell_type": "markdown",
   "metadata": {},
   "source": [
    "7.7. Realizamos una gráfica de frecuencias condicionales para las palabras «mafia» y «prian» para ver si están relacionadas y que la mafia sea el prian."
   ]
  },
  {
   "cell_type": "code",
   "execution_count": 133,
   "metadata": {},
   "outputs": [],
   "source": [
    "def words_file(file):\n",
    "    '''\n",
    "    Función que abre un archivo específico y regresa una lista con\n",
    "    las palabras que contiene el texto. Usa la función TweetTokenizer.\n",
    "    '''\n",
    "    # Creamos la clase TweetTokenizer \n",
    "    ttokenizer = TweetTokenizer() \n",
    "    # Abrimos el archivo\n",
    "    conf_i = open(file, 'r', encoding='utf-8').read().lower()\n",
    "    # Separamos la conferencia i por palabras separadas por espacio\n",
    "    conf_s = ttokenizer.tokenize(conf_i)\n",
    "    return conf_s"
   ]
  },
  {
   "cell_type": "code",
   "execution_count": 156,
   "metadata": {},
   "outputs": [
    {
     "data": {
      "image/png": "[encoded data removed]",
      "text/plain": [
       "<Figure size 1080x360 with 1 Axes>"
      ]
     },
     "metadata": {
      "needs_background": "light"
     },
     "output_type": "display_data"
    },
    {
     "data": {
      "text/plain": [
       "<AxesSubplot:xlabel='Samples', ylabel='Counts'>"
      ]
     },
     "execution_count": 156,
     "metadata": {},
     "output_type": "execute_result"
    }
   ],
   "source": [
    "cfd = nltk.ConditionalFreqDist(\n",
    "    for fileid in pages\n",
    "    for w in words_file(fileid)\n",
    "    for target in ['mafia', 'prian'] \n",
    "    if w.lower().startswith(target))\n",
    "plt.figure(figsize=(15,5))\n",
    "cfd.plot()"
   ]
  },
  {
   "cell_type": "markdown",
   "metadata": {},
   "source": [
    "Podemos notar que al princio la palabra mafia se usaba mientras que prian no, sin embargo, cuando no se usó mafia se uso la palabra prian. Después, en medio de las conferencias se mencionan ambas palabras. Las ultimas fechas vuelve a ser el patrón de mencionar mafia o mencionar prian."
   ]
  },
  {
   "cell_type": "markdown",
   "metadata": {},
   "source": [
    "7.8. Usamos la lista de stopwords para obtener la cantidad de palabras en los datos con y\n",
    "sin stopword."
   ]
  },
  {
   "cell_type": "code",
   "execution_count": 184,
   "metadata": {},
   "outputs": [],
   "source": [
    "# Obtenemos la lista de stop words para español\n",
    "stopWords = set(stopwords.words('spanish'))"
   ]
  },
  {
   "cell_type": "code",
   "execution_count": 185,
   "metadata": {},
   "outputs": [],
   "source": [
    "# Filtramos nuestro texto con las stopwords anteriores\n",
    "wordsFiltered = []\n",
    "\n",
    "for w in text_conf_ttok_sorted:\n",
    "    if w not in stopWords:\n",
    "        wordsFiltered.append(w)"
   ]
  },
  {
   "cell_type": "code",
   "execution_count": 186,
   "metadata": {},
   "outputs": [
    {
     "name": "stdout",
     "output_type": "stream",
     "text": [
      "Cantidad de palabras en texto CON stopwords: 8167938\n",
      "Cantidad de palabras en texto SIN stopwords: 5323969\n"
     ]
    }
   ],
   "source": [
    "# Comparamos la cantidad de palabras\n",
    "print('Cantidad de palabras en texto CON stopwords: %d' % len(text_conf_ttok_sorted))\n",
    "print('Cantidad de palabras en texto SIN stopwords: %d' % len(wordsFiltered))"
   ]
  },
  {
   "cell_type": "markdown",
   "metadata": {},
   "source": [
    "7.9. Finalmente, mostramos las 300 palabras más frecuentes en las conferencias sin tomar en cuenta stop-words. "
   ]
  },
  {
   "cell_type": "code",
   "execution_count": 195,
   "metadata": {},
   "outputs": [],
   "source": [
    "# Frecuencia de las palabras sin stopwords\n",
    "freq_sw = FreqDist(wordsFiltered)"
   ]
  },
  {
   "cell_type": "code",
   "execution_count": 249,
   "metadata": {},
   "outputs": [
    {
     "name": "stdout",
     "output_type": "stream",
     "text": [
      ",\t\t\"\t\t.\t\t:\t\t=\t\t(\t\t;\t\t)\t\t/\t\tvar\t\tpresidente\t?\t\t\\\t\t{\t\t}\t\t¿\t\t!\t\t'\t\tsi\t\t[\t\tmanuel\t\tlópez\t\tobrador\t\tandrés\t\tva\t\t0\t\tvamos\t\tentonces\t]\t\tméxico\t\t-\t\t|\t\tmil\t\t&\t\tgobierno\t);\t\tfunction\ti\t\t1\t\tr\t\t=\\\t\taquí\t\tpregunta\tcomment\t\tt\t\tver\t\tahora\t\tdos\t\tnacional\tcaso\t\t*\t\tpaís\t\tdías\t\tvan\t\tn\t\t<\t\t>\t\thacer\t\t+\t\tusted\t\tcómo\t\tser\t\tahí\t\t%\t\tsalud\t\tmillones\tgente\t\tak\t\tgracias\t\tseñor\t\ttema\t\tasí\t\tbueno\t\tdecir\t\ttener\t\tpesos\t\t_\t\tif\t\tyour\t\tmanera\t\tbien\t\timportante\tpuede\t\taño\t\thoy\t\ts\t\t‘\t\tpues\t\tparte\t\tpueblo\t\tciento\t\t…\t\tmismo\t\tdía\t\tprensa\t\tinformación\tgeneral\t\t’\t\tbuenos\t\tcorrupción\tpersonas\ttiempo\t\ttres\t\thace\t\tseguridad\taños\t\tplease\t\thttps\t\timportant\tinterlocutor\tunidos\t\tayer\t\ttodas\t\tinterlocutora\tluego\t\tsecretaría\treturn\t\tclass\t\tpoder\t\tmuchas\t\tustedes\t\tacuerdo\t\thaciendo\tvoy\t\tprograma\tsólo\t\tconferencia\t:\\\t\t};\t\tt.supports\tademás\t\ttrabajo\t\tpública\t\tfederal\t\thaber\t\tciudad\t\tempresas\tejemplo\t\tdar\t\tcada\t\tsecretario\t19\t\tsemana\t\ttoda\t\tcasos\t\tid\t\tto\t\tname\t\tjs\t\ttext\t\tapoyo\t\tsiempre\t\tpolítica\tcreo\t\tmomento\t\tvida\t\t20\t\tmexicanos\ttrabajadores\trecursos\tcabo\t\tcosas\t\tsocial\t\tmañana\t\tmejor\t\tmenos\t\tplan\t\t10\t\tmatutina\tasunto\t\tir\t\tcovid\t\tversión\t\tdinero\t\t–\t\tnuevo\t\thecho\t\tvez\t\tbienestar\tpresupuesto\tpemex\t\tsino\t\testenográfica\tm\t\tatención\tan\t\tfor\t\tscript\t\twas\t\tnone\t\tpresidente.gob.mx\t\tjavascript\teverythingexceptflag\t\t]=\t\tcustom\t\t];\t\temail\t\tproblema\tproceso\t\tjóvenes\t\tquiero\t\tderecho\t\tincluso\t\tpueden\t\ttodavía\t\tsituación\tcuatro\t\tmayor\t\tley\t\tseguir\t\tsido\t\tprimero\t\tpodemos\t\tconocer\t\tqueremos\tmundo\t\tprimera\t\tguardia\t\treforma\t\tcinco\t\tsistema\t\t...\t\tpaíses\t\ttrabajando\tnew\t\tpúblico\t\tpasado\t\tdespués\t\tdice\t\tpost\t\telementos\tinstituto\tin\t\tdate\t\tthis\t\ttrue\t\temoji\t\t0,0\t\tgetelementsbytagname\t\t={\t\tnull\t\t#gallery-1\tspan\t\t<\\/span>\tprovide\t\tcamera\t\taperture\t2f\t\trespecto\tciudadanos\tderechos\tinvestigación\trepública\tsector\t\tviolencia\tgran\t\tcuál\t\teconomía\tdesarrollo\tquién\t\tnúmero\t\tmujeres\t\thizo\t\tda\t\tempresa\t\tatender\t\thospitales\tpreguntarle\tinformar\ttipo\t\thablando\tbaja\t\tcentavos\tdebe\t\tprecio\t\tmayores\t\tinforme\t\tgrupo\t\tfiscalía\tcuenta\t\tpersonal\tveces\t\tseguro\t\tpoblación\tclaro\t\tproyecto\tcomisión\t100\t\tdicho\t\tjusticia\tmedios\t\thacia\t\ttotal\t\tseis\t\tnueva\t\tpandemia\tnadie\t\terror\t\tagua\t\tc\t\t"
     ]
    }
   ],
   "source": [
    "# Las 300 palabras con más frecuencia\n",
    "mostComm_w = [t[0] for t in freq_sw.most_common(300)]\n",
    "\n",
    "# Las imprimimos ordenadamente\n",
    "for w in mostComm_w:\n",
    "    if len(w)>7:\n",
    "        if len(w)>14:\n",
    "            print(w, end='\\t\\t')\n",
    "        else:\n",
    "            print(w, end='\\t')\n",
    "    else:\n",
    "        print(w, end='\\t\\t')"
   ]
  },
  {
   "cell_type": "markdown",
   "metadata": {},
   "source": [
    "# 4. Otras librerías de Python"
   ]
  },
  {
   "cell_type": "markdown",
   "metadata": {},
   "source": [
    "4.1. Existen varias librerías para el procesamiento de lenguaje en Python. De las más usadas en 2020 me llamaron la atención las siguientes librerías:\n",
    "\n",
    "* SpaCy: \n",
    "    * Ventaja: Una de las ventajas de esta librería contra NLTK es que SpaCy tiene mejor desempeño en tiempo para la tokenización de palabras y el part-of-speech tagging. Además, admite vectores de palabras, que de manera contraria, NLTK no.\n",
    "    * Desventaja: SpaCy contiene el mejor algoritmo para la resolución de un problema, cosa que veo problemática pues al momento de hacer investigación no podrás tener variedad o facilidad de hacer cosas nuevas.\n",
    "    \n",
    "* TextBlob:\n",
    "    * Ventaja: La ventaja más grande que tiene esta librería es que más útil y tiene mejor desempeño en eficiencia en cuanto a tareas relacionadas con Natural Language Understanding como lo es: análisis del sentimiento, extracción de relaciones y análisis semántico.\n",
    "    * Desventaja: TextBlob es una librería basada en NLTK. No se si por eso, TextBlob es muy lento. Además no cuenta con modelos de redes neuronales ni maneja vectores de palabras (tampoco NLTK)."
   ]
  },
  {
   "cell_type": "markdown",
   "metadata": {},
   "source": [
    "4.2 Existen varias alternativas para el proceso de texto en NLP a parte del uso del lenguaje Python. Por ejemplo:\n",
    "\n",
    "* CoreNLP: Es una libreria para Java con soporte de la universidad de Stanford.\n",
    "    * Ventaja: Cuenta con una robusta y rápida serialización de los objetos que se manejan en Java.\n",
    "    * Desventaja: No tienes variedad ni facilidad de camibar o hacer cosas nuevas. Aunque tiene la capacidad de pasar propiedades a algo que se llaman anotadores, es muy lento en comparación con hacer las anotaciones directamente, por lo que no se recomienda.\n",
    "    \n",
    "* Apache OpenNLP: Es una librería también para Java y también de las más usadas en R.\n",
    "    * Ventaja: La ventaja de OpenNLP es que no es necesario ingresar manualmente especificaciones, restricciones y léxicos. Tiene como objetivo maximizar la entropía automaticamente permitiendo recopilar hechos de manera uniforme. \n",
    "    * Desventaja: Aunque con ventaja de maximizar la entropía se obtiene una alta precisión, la desventaja es que produce bastantes falsos negativos.\n",
    "  \n",
    "* text2vec: Es una libreria programada en C++ para uso multiplataforma.\n",
    "    * Ventaja: Tiene una vectorizacion (creación de matrices documento-términos) súper rapida en los n-gramas, vocabulario y hashing.\n",
    "    * Desventaja: No tiene tanto soporte y por consiguiente no cuenta con modelos grandes preentrenados para varios idiomas."
   ]
  },
  {
   "cell_type": "code",
   "execution_count": null,
   "metadata": {},
   "outputs": [],
   "source": []
  }
 ],
 "metadata": {
  "kernelspec": {
   "display_name": "Python 3",
   "language": "python",
   "name": "python3"
  },
  "language_info": {
   "codemirror_mode": {
    "name": "ipython",
    "version": 3
   },
   "file_extension": ".py",
   "mimetype": "text/x-python",
   "name": "python",
   "nbconvert_exporter": "python",
   "pygments_lexer": "ipython3",
   "version": "3.8.5"
  }
 },
 "nbformat": 4,
 "nbformat_minor": 5
}
