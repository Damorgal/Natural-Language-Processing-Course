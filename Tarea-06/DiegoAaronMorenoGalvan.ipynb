{
 "cells": [
  {
   "cell_type": "markdown",
   "metadata": {
    "id": "BnCJKimtBLql"
   },
   "source": [
    "# CNN for Sentence Classification"
   ]
  },
  {
   "cell_type": "markdown",
   "metadata": {
    "id": "pUI8qgwNCIxe"
   },
   "source": [
    "### Libraries used"
   ]
  },
  {
   "cell_type": "code",
   "execution_count": 2,
   "metadata": {
    "id": "fdwJOcQzBMQE"
   },
   "outputs": [],
   "source": [
    "# Tools\n",
    "import os\n",
    "import time\n",
    "import random\n",
    "import shutil\n",
    "from argparse import Namespace\n",
    "import matplotlib.pyplot as plt\n",
    "from typing import Callable, Tuple\n",
    "\n",
    "# Preprocessing\n",
    "from nltk.tokenize import TweetTokenizer\n",
    "from nltk import FreqDist\n",
    "import pandas as pd\n",
    "import numpy as np\n",
    "\n",
    "# PyTorch\n",
    "from torch.utils.data import DataLoader, Dataset\n",
    "import torch\n",
    "import torch.nn as nn\n",
    "import torch.nn.functional as F\n",
    "from torch.nn.utils.rnn import pad_sequence\n",
    "\n",
    "# scikit-learn\n",
    "from sklearn.model_selection import train_test_split\n",
    "from sklearn.metrics import accuracy_score\n",
    "\n",
    "# word embeddings\n",
    "from gensim.models import Word2Vec\n",
    "from gensim.models.keyedvectors import Word2VecKeyedVectors"
   ]
  },
  {
   "cell_type": "markdown",
   "metadata": {
    "id": "1iebWbwmCZ4s"
   },
   "source": [
    "Set seeds for reproducibility"
   ]
  },
  {
   "cell_type": "code",
   "execution_count": 3,
   "metadata": {
    "id": "va6BLBywCaIF"
   },
   "outputs": [],
   "source": [
    "args = Namespace()\n",
    "\n",
    "args.seed = 1111\n",
    "random.seed(args.seed) # python seed\n",
    "np.random.seed(args.seed) # numpy seed\n",
    "torch.manual_seed(args.seed) # torch seed\n",
    "torch.backends.cudnn.benchmark = False # causes cuDNN to deterministically select algorithms for Neural Network operations\n",
    "torch.backends.cudnn.deterministic = True # Use deterministic algorithms instead of non-deterministic where available"
   ]
  },
  {
   "cell_type": "markdown",
   "metadata": {
    "id": "A41-b6gsCL70"
   },
   "source": [
    "### Load Dataset"
   ]
  },
  {
   "cell_type": "code",
   "execution_count": 4,
   "metadata": {
    "colab": {
     "base_uri": "https://localhost:8080/"
    },
    "id": "aA-w0ulhF1-Q",
    "outputId": "10283690-65b3-4f2e-895e-4c63d6b2d90e"
   },
   "outputs": [
    {
     "name": "stdout",
     "output_type": "stream",
     "text": [
      "Downloading...\n",
      "From: https://drive.google.com/uc?id=1CL2rtDbi7HU1OY8JNrgIlq5TYVhgvAzZ\n",
      "To: /content/mex-a3t.zip\n",
      "100% 234k/234k [00:00<00:00, 7.68MB/s]\n",
      "replace mex_val.txt? [y]es, [n]o, [A]ll, [N]one, [r]ename: y\n",
      "replace mex_val_labels.txt? [y]es, [n]o, [A]ll, [N]one, [r]ename: a\n",
      "error:  invalid response [a]\n",
      "replace mex_val_labels.txt? [y]es, [n]o, [A]ll, [N]one, [r]ename: a\n",
      "error:  invalid response [a]\n",
      "replace mex_val_labels.txt? [y]es, [n]o, [A]ll, [N]one, [r]ename: a\n",
      "error:  invalid response [a]\n",
      "replace mex_val_labels.txt? [y]es, [n]o, [A]ll, [N]one, [r]ename: a\n",
      "error:  invalid response [a]\n",
      "replace mex_val_labels.txt? [y]es, [n]o, [A]ll, [N]one, [r]ename: a\n",
      "error:  invalid response [a]\n",
      "replace mex_val_labels.txt? [y]es, [n]o, [A]ll, [N]one, [r]ename: y\n",
      "replace mex_train.txt? [y]es, [n]o, [A]ll, [N]one, [r]ename: y\n",
      "replace mex_train_labels.txt? [y]es, [n]o, [A]ll, [N]one, [r]ename: y\n"
     ]
    }
   ],
   "source": [
    "!gdown https://drive.google.com/uc?id=1CL2rtDbi7HU1OY8JNrgIlq5TYVhgvAzZ\n",
    "!unzip -qq mex-a3t.zip"
   ]
  },
  {
   "cell_type": "markdown",
   "metadata": {
    "id": "P5KCFtNiGIU6"
   },
   "source": [
    "Set split hyperparameter and split data"
   ]
  },
  {
   "cell_type": "code",
   "execution_count": 5,
   "metadata": {
    "id": "YRn0ZqeQGlFZ"
   },
   "outputs": [],
   "source": [
    "args.val_size = 0.1"
   ]
  },
  {
   "cell_type": "code",
   "execution_count": 6,
   "metadata": {
    "id": "62yMSBChGIp_"
   },
   "outputs": [],
   "source": [
    "X_train = pd.read_csv('mex_train.txt', sep='\\r\\n', engine='python', header=None).loc[:,0]\n",
    "y_train = pd.read_csv('mex_train_labels.txt', header=None).loc[:,0]\n",
    "#.values.tolist()\n",
    "\n",
    "X_train, X_val, y_train, y_val = train_test_split(X_train, y_train, test_size=args.val_size, random_state=args.seed)\n",
    "\n",
    "X_test = pd.read_csv('mex_val.txt', sep='\\r\\n', engine='python', header=None).loc[:,0]\n",
    "y_test = pd.read_csv('mex_val_labels.txt', header=None).loc[:,0]"
   ]
  },
  {
   "cell_type": "markdown",
   "metadata": {
    "id": "lLkXh_k7sagl"
   },
   "source": [
    "Functions to build vocabulary"
   ]
  },
  {
   "cell_type": "code",
   "execution_count": 7,
   "metadata": {
    "id": "S2-9NZ1BsdVZ"
   },
   "outputs": [],
   "source": [
    "def get_vocab(corpus: pd.DataFrame,\n",
    "              tokenizer: Callable[[str], list],\n",
    "              max_features: int) -> set:\n",
    "    freq_dist = FreqDist([w.lower() for sentence in corpus\\\n",
    "                                    for w in tokenizer(sentence)])\n",
    "    \n",
    "    sorted_words = sortFreqDict(freq_dist)[:min(max_features-1, len(freq_dist))]\n",
    "    w2idx = {word: i+1 for i, word in enumerate(sorted_words)}\n",
    "\n",
    "    # Append <pad> token with 0 index\n",
    "    sorted_words.append('<pad>')\n",
    "    w2idx['<pad>'] = 0\n",
    "\n",
    "    return set(sorted_words), w2idx\n",
    "        \n",
    "def sortFreqDict(freq_dist: FreqDist) -> list:\n",
    "    freq_dict = dict(freq_dist)\n",
    "    return sorted(freq_dict, key=freq_dict.get, reverse=True)"
   ]
  },
  {
   "cell_type": "code",
   "execution_count": 8,
   "metadata": {
    "id": "2mPmCxoqskuO"
   },
   "outputs": [],
   "source": [
    "# Set vocab size\n",
    "args.vocab_size = 5000\n",
    "\n",
    "tk = TweetTokenizer()\n",
    "vocab, w2idx = get_vocab(X_train, tk.tokenize, args.vocab_size)"
   ]
  },
  {
   "cell_type": "markdown",
   "metadata": {
    "id": "K2sfrROCBJB0"
   },
   "source": [
    "### Define Dataset, collate_fn and Dataloader"
   ]
  },
  {
   "cell_type": "markdown",
   "metadata": {
    "id": "eDXEMAEp9qL2"
   },
   "source": [
    "Define Map-style Dataset (one that implements the `__getitem__()` and `__len__()` protocols) class for processing each observation in the correct format for the model"
   ]
  },
  {
   "cell_type": "code",
   "execution_count": 9,
   "metadata": {
    "id": "T9xyWeuOqyON"
   },
   "outputs": [],
   "source": [
    "class TweeterDataset(Dataset):\n",
    "    def __init__(self,\n",
    "                 X: pd.DataFrame,\n",
    "                 y: pd.DataFrame,\n",
    "                 vocab: set,\n",
    "                 w2idx: dict,\n",
    "                 tokenizer: Callable[[str], list],\n",
    "                 max_seq_len: int):\n",
    "        self.X = X\n",
    "        self.y = y\n",
    "        self.vocab = vocab\n",
    "        self.w2idx = w2idx\n",
    "        self.tokenizer = tokenizer\n",
    "        self.max_seq_len = max_seq_len\n",
    "    \n",
    "    def __len__(self):\n",
    "        return self.X.shape[0]\n",
    "\n",
    "    def __getitem__(self, idx):\n",
    "        # Get sequence of token ids\n",
    "        sentence = self.X.iloc[idx]\n",
    "        tokens = [self.w2idx[w] for w in self.tokenizer(sentence) if w in self.vocab]\n",
    "\n",
    "        # Truncate sequence up to max_seq_len\n",
    "        truncate_len = min(len(tokens), self.max_seq_len)\n",
    "        tokens = tokens[:truncate_len]\n",
    "\n",
    "        # Get true label\n",
    "        label = self.y.iloc[idx]\n",
    "\n",
    "        return torch.LongTensor(tokens), torch.LongTensor([label])"
   ]
  },
  {
   "cell_type": "markdown",
   "metadata": {
    "id": "f0pPWd3C-Abz"
   },
   "source": [
    "Define function to collate samples fetched by the sampler from the Dataset. The Dataloader will return the output of this `collate_fn` that we define."
   ]
  },
  {
   "cell_type": "code",
   "execution_count": 10,
   "metadata": {
    "id": "A48GxyAd-Anb"
   },
   "outputs": [],
   "source": [
    "def collate_fn(batch):\n",
    "    # Get X\n",
    "    batch_tokens = [row[0] for row in batch]\n",
    "    # Get y\n",
    "    batch_labels = torch.LongTensor([row[1] for row in batch]).to(torch.float)\n",
    "\n",
    "    # Pad with 0 (to the rigth) shorter sequences than max_seq_len\n",
    "    padded_batch_tokens = pad_sequence(batch_tokens, batch_first=True)\n",
    "\n",
    "    return padded_batch_tokens, batch_labels.unsqueeze(1)"
   ]
  },
  {
   "cell_type": "markdown",
   "metadata": {
    "id": "M_tu7B3o95Ta"
   },
   "source": [
    "Build Dataloaders to process batches of observations from the Datasets"
   ]
  },
  {
   "cell_type": "code",
   "execution_count": 11,
   "metadata": {
    "id": "plFS8370MYBH"
   },
   "outputs": [],
   "source": [
    "# Set batch size in args\n",
    "args.batch_size = 64\n",
    "\n",
    "# Num workers\n",
    "args.num_workers = 0\n",
    "\n",
    "# Maximum sequence length\n",
    "args.max_seq_len = 20"
   ]
  },
  {
   "cell_type": "code",
   "execution_count": 12,
   "metadata": {
    "id": "KNRGp-DX-Bm2"
   },
   "outputs": [],
   "source": [
    "# Training\n",
    "train_dataset = TweeterDataset(X_train, y_train, vocab, w2idx, tk.tokenize, args.max_seq_len)\n",
    "train_loader = DataLoader(train_dataset,\n",
    "                          batch_size=args.batch_size,\n",
    "                          num_workers=args.num_workers,\n",
    "                          collate_fn=collate_fn,\n",
    "                          shuffle=True)\n",
    "\n",
    "# Validation\n",
    "val_dataset = TweeterDataset(X_val, y_val, vocab, w2idx, tk.tokenize, args.max_seq_len)\n",
    "val_loader = DataLoader(val_dataset,\n",
    "                          batch_size=args.batch_size,\n",
    "                          num_workers=args.num_workers,\n",
    "                          collate_fn=collate_fn,\n",
    "                          shuffle=False)\n",
    "\n",
    "# Test\n",
    "test_dataset = TweeterDataset(X_test, y_test, vocab, w2idx, tk.tokenize, args.max_seq_len)\n",
    "test_loader = DataLoader(test_dataset,\n",
    "                          batch_size=args.batch_size,\n",
    "                          num_workers=args.num_workers,\n",
    "                          collate_fn=collate_fn,\n",
    "                          shuffle=False)"
   ]
  },
  {
   "cell_type": "markdown",
   "metadata": {
    "id": "hwIx8Xt3Gbxz"
   },
   "source": [
    "When iterating a ```Dataloader```, the whole order of execution to get a batch is roughly the following:\n",
    "\n",
    "1. A `Sampler` object in `batch_sampler` variable, retrieves a batch of indices.\n",
    "\n",
    "2. For each retrieved index, get the data from the defined `Dataset` object, process all the batch samples with the defined `collate_fn` and return the result:\n",
    "\n",
    "    ```\n",
    "    for indices in batch_sampler:\n",
    "        yield collate_fn([dataset[i] for i in indices])\n",
    "    ```\n",
    "\n",
    "\n"
   ]
  },
  {
   "cell_type": "markdown",
   "metadata": {
    "id": "Z7iJRqoQaqG-"
   },
   "source": [
    "Testing train Dataloader"
   ]
  },
  {
   "cell_type": "code",
   "execution_count": 13,
   "metadata": {
    "colab": {
     "base_uri": "https://localhost:8080/"
    },
    "id": "yU-oeLNCMipL",
    "outputId": "1c9ed51d-a3d6-417b-c55f-58ed28722d97"
   },
   "outputs": [
    {
     "name": "stdout",
     "output_type": "stream",
     "text": [
      "X_batch shape: torch.Size([64, 20])\n",
      "y_batch shape: torch.Size([64, 1])\n"
     ]
    }
   ],
   "source": [
    "batch_ = next(iter(train_loader))\n",
    "print(f'X_batch shape: {batch_[0].shape}')\n",
    "print(f'y_batch shape: {batch_[1].shape}')"
   ]
  },
  {
   "cell_type": "markdown",
   "metadata": {
    "id": "S0ONCMxIbPl8"
   },
   "source": [
    "### Define CNN text classifier"
   ]
  },
  {
   "cell_type": "code",
   "execution_count": 14,
   "metadata": {
    "id": "CkA7GoK3bTuv"
   },
   "outputs": [],
   "source": [
    "class CNNTextCls(nn.Module):\n",
    "    def __init__(self, args, embeddings=None, freeze=False):\n",
    "        super(CNNTextCls, self).__init__()\n",
    "\n",
    "        if embeddings is not None:\n",
    "            self.emb = nn.Embedding.from_pretrained(torch.FloatTensor(embeddings))\n",
    "            if freeze:\n",
    "                self.emb.weight.requires_grad=False\n",
    "        else:\n",
    "            self.emb = nn.Embedding(args.vocab_size, args.d)\n",
    "        \n",
    "        conv_block_list = []\n",
    "\n",
    "        for k in args.filter_sizes:\n",
    "            conv_block = nn.Sequential(\n",
    "                nn.Conv1d(in_channels=args.d, out_channels=args.num_filters, kernel_size=k, stride=1),\n",
    "                nn.ReLU(),\n",
    "                nn.MaxPool1d(kernel_size=(args.max_seq_len-k+1))\n",
    "            )\n",
    "            conv_block_list.append(conv_block)\n",
    "\n",
    "        self.conv_block_list = nn.ModuleList(conv_block_list)\n",
    "        self.dropout = nn.Dropout(args.dropout)\n",
    "        self.fc = nn.Linear(args.num_filters*len(args.filter_sizes), 1)\n",
    "\n",
    "    def forward(self, x):\n",
    "        '''\n",
    "        B: batch size\n",
    "        L: sequence length\n",
    "        D: embedding dim\n",
    "        C: Convolution output channels (number of filters)\n",
    "        k: Convolution kernel size\n",
    "        N: Number of convolution blocks\n",
    "\n",
    "        x shape: (B, L)\n",
    "        '''\n",
    "        x = self.emb(x) # (B, L, D)\n",
    "        x = x.transpose(1,2) # (B, D, L) conv1d expects L in last dimension\n",
    "\n",
    "        x_filter = []\n",
    "        for conv_block in self.conv_block_list: # Conv1d -> ReLU -> MaxPool1d\n",
    "            x_filter.append(conv_block(x).squeeze(2)) # (B, C, L-k+1) -> ReLU -> (B, C, 1) -> (B, C) after squeeze\n",
    "\n",
    "        x_cat = torch.cat(x_filter, dim=1) # (B, C*N)\n",
    "        x = self.dropout(x_cat)\n",
    "        return self.fc(x)"
   ]
  },
  {
   "cell_type": "markdown",
   "metadata": {
    "id": "EN9haSqSC-AA"
   },
   "source": [
    "### Helper functions for model evaluation"
   ]
  },
  {
   "cell_type": "code",
   "execution_count": 15,
   "metadata": {
    "id": "B_ct1vF3C-jI"
   },
   "outputs": [],
   "source": [
    "def model_eval(data, model, gpu=False):\n",
    "    with torch.no_grad():\n",
    "        preds, tgts = [], []\n",
    "        for input, labels in data:\n",
    "            if gpu:\n",
    "                input = input.cuda()\n",
    "            \n",
    "            outputs = model(input)\n",
    "\n",
    "            # Get prediction for Accuracy\n",
    "            y_pred = y_pred = torch.round(torch.sigmoid(outputs.detach())).cpu().numpy()\n",
    "\n",
    "            tgt = labels.numpy()\n",
    "            tgts.append(tgt)\n",
    "            preds.append(y_pred)\n",
    "\n",
    "    tgts = [e for l in tgts for e in l]\n",
    "    preds = [e for l in preds for e in l]\n",
    "\n",
    "    metrics = {\n",
    "        \"accuracy\": accuracy_score(tgts, preds),\n",
    "    }\n",
    "    \n",
    "    return metrics"
   ]
  },
  {
   "cell_type": "markdown",
   "metadata": {
    "id": "2eaCfN-wDIXq"
   },
   "source": [
    "### Helper function to save model"
   ]
  },
  {
   "cell_type": "code",
   "execution_count": 16,
   "metadata": {
    "id": "f2OPDptPDLx6"
   },
   "outputs": [],
   "source": [
    "def save_checkpoint(state, is_best, checkpoint_path, filename=\"checkpoint.pt\"):\n",
    "    filename = os.path.join(checkpoint_path, filename)\n",
    "    torch.save(state, filename)\n",
    "    if is_best:\n",
    "        shutil.copyfile(filename, os.path.join(checkpoint_path, \"model_best.pt\"))"
   ]
  },
  {
   "cell_type": "markdown",
   "metadata": {
    "id": "wvmbsYji1VgZ"
   },
   "source": [
    "### Training function"
   ]
  },
  {
   "cell_type": "code",
   "execution_count": 17,
   "metadata": {
    "id": "X1P9hbEK1XMv"
   },
   "outputs": [],
   "source": [
    "def train(args, model, train_loader, val_loader, optimizer, criterion, scheduler):\n",
    "    best_metric = 0\n",
    "    metric_history = []\n",
    "    train_metric_history = []\n",
    "\n",
    "    for epoch in range(args.num_epochs):\n",
    "        epoch_start_time = time.time()\n",
    "        loss_epoch = []\n",
    "        training_metrics = []\n",
    "        model.train()\n",
    "\n",
    "        for input, labels in train_loader:\n",
    "            # If GPU available\n",
    "            if args.use_gpu:\n",
    "                input = input.cuda()\n",
    "                labels = labels.cuda()\n",
    "\n",
    "            # Forward pass\n",
    "            outputs = model(input)\n",
    "\n",
    "            loss = criterion(outputs, labels)\n",
    "            loss_epoch.append(loss.item())\n",
    "\n",
    "            # Get training metric\n",
    "            preds = torch.round(torch.sigmoid(outputs.detach())).cpu().numpy()\n",
    "            training_metrics.append(accuracy_score(labels.cpu().numpy(), preds))\n",
    "            \n",
    "            # Backward and optimize\n",
    "            optimizer.zero_grad()\n",
    "            loss.backward()\n",
    "            optimizer.step()\n",
    "\n",
    "        # Get metric in training dataset\n",
    "        mean_epoch_accuracy = np.mean(training_metrics)\n",
    "        train_metric_history.append(mean_epoch_accuracy)\n",
    "        \n",
    "        # Get metric in validation dataset\n",
    "        model.eval()\n",
    "        tuning_metric = model_eval(val_loader, model, gpu=args.use_gpu)\n",
    "        metric_history.append(tuning_metric['accuracy'])\n",
    "\n",
    "        # Update scheduler\n",
    "        scheduler.step(tuning_metric['accuracy'])\n",
    "\n",
    "        # Check for metric improvement\n",
    "        is_improvement = tuning_metric['accuracy'] > best_metric\n",
    "        if is_improvement:\n",
    "            best_metric = tuning_metric['accuracy']\n",
    "            n_no_improve = 0\n",
    "        else:\n",
    "            n_no_improve += 1\n",
    "\n",
    "        # Save best model if metric improved\n",
    "        save_checkpoint(\n",
    "            {\n",
    "                \"epoch\": epoch + 1,\n",
    "                \"state_dict\": model.state_dict(),\n",
    "                \"optimizer\": optimizer.state_dict(),\n",
    "                \"scheduler\": scheduler.state_dict(),\n",
    "                \"best_metric\": best_metric,\n",
    "            },\n",
    "            is_improvement,\n",
    "            args.savedir,\n",
    "        )\n",
    "\n",
    "        # Early stopping\n",
    "        if n_no_improve >= args.patience:\n",
    "            print(\"No improvement. Breaking out of loop.\")\n",
    "            break\n",
    "\n",
    "        print ('Epoch [{}/{}], Loss: {:.4f} - Train Accuracy: {:.4f} - Val Accuracy: {:.4f} - Epoch time: {:.2f} s'\n",
    "            .format(epoch+1, args.num_epochs, np.mean(loss_epoch), mean_epoch_accuracy, tuning_metric['accuracy'], (time.time()- epoch_start_time)))\n",
    "        \n",
    "    return train_metric_history, metric_history"
   ]
  },
  {
   "cell_type": "markdown",
   "metadata": {
    "id": "tHZNC9ChDSmq"
   },
   "source": [
    "### Train CNN classifier"
   ]
  },
  {
   "cell_type": "code",
   "execution_count": 42,
   "metadata": {
    "id": "KS8Vy7GXDYPb"
   },
   "outputs": [],
   "source": [
    "# Model hyperparameters\n",
    "args.d = 100 # Dimension of word embeddings\n",
    "args.filter_sizes = [3, 4, 5]\n",
    "args.num_filters = 100\n",
    "args.dropout = 0.1\n",
    "\n",
    "# Training hyperparameters\n",
    "args.lr = 1e-2\n",
    "args.num_epochs = 100\n",
    "args.patience = 10\n",
    "\n",
    "# Scheduler hyperparameters\n",
    "args.lr_patience = 5\n",
    "args.lr_factor = 0.5\n",
    "\n",
    "# Saving directory\n",
    "args.savedir = 'model'\n",
    "os.makedirs(args.savedir, exist_ok=True)\n",
    "\n",
    "# Create model\n",
    "model = CNNTextCls(args)\n",
    "\n",
    "# Send to GPU\n",
    "args.use_gpu = torch.cuda.is_available()\n",
    "if args.use_gpu:\n",
    "    model.cuda()\n",
    "\n",
    "# Loss, Optimizer and Scheduler\n",
    "criterion = nn.BCEWithLogitsLoss()\n",
    "optimizer = torch.optim.SGD(model.parameters(), lr=args.lr)\n",
    "scheduler = torch.optim.lr_scheduler.ReduceLROnPlateau(\n",
    "                optimizer, \"max\",\n",
    "                patience=args.lr_patience,\n",
    "                verbose=True,\n",
    "                factor=args.lr_factor\n",
    "            )"
   ]
  },
  {
   "cell_type": "code",
   "execution_count": 43,
   "metadata": {
    "colab": {
     "base_uri": "https://localhost:8080/"
    },
    "id": "TKZAD3nju5Cv",
    "outputId": "4628ff34-63b0-4772-b920-f070222c75b3"
   },
   "outputs": [
    {
     "name": "stdout",
     "output_type": "stream",
     "text": [
      "Epoch [1/100], Loss: 0.6655 - Train Accuracy: 0.6352 - Val Accuracy: 0.6703 - Epoch time: 0.79 s\n",
      "Epoch [2/100], Loss: 0.6433 - Train Accuracy: 0.6420 - Val Accuracy: 0.6829 - Epoch time: 0.77 s\n",
      "Epoch [3/100], Loss: 0.6295 - Train Accuracy: 0.6534 - Val Accuracy: 0.6829 - Epoch time: 0.77 s\n",
      "Epoch [4/100], Loss: 0.6128 - Train Accuracy: 0.6652 - Val Accuracy: 0.6919 - Epoch time: 0.78 s\n",
      "Epoch [5/100], Loss: 0.5968 - Train Accuracy: 0.6843 - Val Accuracy: 0.6991 - Epoch time: 0.78 s\n",
      "Epoch [6/100], Loss: 0.5801 - Train Accuracy: 0.6957 - Val Accuracy: 0.6973 - Epoch time: 0.77 s\n",
      "Epoch [7/100], Loss: 0.5671 - Train Accuracy: 0.7041 - Val Accuracy: 0.6847 - Epoch time: 0.76 s\n",
      "Epoch [8/100], Loss: 0.5495 - Train Accuracy: 0.7313 - Val Accuracy: 0.7081 - Epoch time: 0.76 s\n",
      "Epoch [9/100], Loss: 0.5352 - Train Accuracy: 0.7351 - Val Accuracy: 0.7225 - Epoch time: 0.76 s\n",
      "Epoch [10/100], Loss: 0.5204 - Train Accuracy: 0.7450 - Val Accuracy: 0.7207 - Epoch time: 0.76 s\n",
      "Epoch [11/100], Loss: 0.5017 - Train Accuracy: 0.7633 - Val Accuracy: 0.7261 - Epoch time: 0.77 s\n",
      "Epoch [12/100], Loss: 0.4877 - Train Accuracy: 0.7671 - Val Accuracy: 0.7351 - Epoch time: 0.77 s\n",
      "Epoch [13/100], Loss: 0.4710 - Train Accuracy: 0.7799 - Val Accuracy: 0.7135 - Epoch time: 0.76 s\n",
      "Epoch [14/100], Loss: 0.4635 - Train Accuracy: 0.7885 - Val Accuracy: 0.7351 - Epoch time: 0.76 s\n",
      "Epoch [15/100], Loss: 0.4477 - Train Accuracy: 0.8006 - Val Accuracy: 0.7405 - Epoch time: 0.77 s\n",
      "Epoch [16/100], Loss: 0.4342 - Train Accuracy: 0.8066 - Val Accuracy: 0.7351 - Epoch time: 0.77 s\n",
      "Epoch [17/100], Loss: 0.4168 - Train Accuracy: 0.8150 - Val Accuracy: 0.7369 - Epoch time: 0.77 s\n",
      "Epoch [18/100], Loss: 0.4087 - Train Accuracy: 0.8300 - Val Accuracy: 0.7441 - Epoch time: 0.76 s\n",
      "Epoch [19/100], Loss: 0.3939 - Train Accuracy: 0.8351 - Val Accuracy: 0.7369 - Epoch time: 0.76 s\n",
      "Epoch [20/100], Loss: 0.3746 - Train Accuracy: 0.8404 - Val Accuracy: 0.7459 - Epoch time: 0.77 s\n",
      "Epoch [21/100], Loss: 0.3663 - Train Accuracy: 0.8531 - Val Accuracy: 0.7369 - Epoch time: 0.77 s\n",
      "Epoch [22/100], Loss: 0.3530 - Train Accuracy: 0.8610 - Val Accuracy: 0.7477 - Epoch time: 0.77 s\n",
      "Epoch [23/100], Loss: 0.3427 - Train Accuracy: 0.8661 - Val Accuracy: 0.7459 - Epoch time: 0.78 s\n",
      "Epoch [24/100], Loss: 0.3283 - Train Accuracy: 0.8771 - Val Accuracy: 0.7477 - Epoch time: 0.78 s\n",
      "Epoch [25/100], Loss: 0.3197 - Train Accuracy: 0.8814 - Val Accuracy: 0.7532 - Epoch time: 0.75 s\n",
      "Epoch [26/100], Loss: 0.3060 - Train Accuracy: 0.8896 - Val Accuracy: 0.7514 - Epoch time: 0.76 s\n",
      "Epoch [27/100], Loss: 0.2906 - Train Accuracy: 0.8978 - Val Accuracy: 0.7441 - Epoch time: 0.76 s\n",
      "Epoch [28/100], Loss: 0.2740 - Train Accuracy: 0.9092 - Val Accuracy: 0.7586 - Epoch time: 0.76 s\n",
      "Epoch [29/100], Loss: 0.2704 - Train Accuracy: 0.9086 - Val Accuracy: 0.7640 - Epoch time: 0.77 s\n",
      "Epoch [30/100], Loss: 0.2587 - Train Accuracy: 0.9184 - Val Accuracy: 0.7658 - Epoch time: 0.78 s\n",
      "Epoch [31/100], Loss: 0.2472 - Train Accuracy: 0.9235 - Val Accuracy: 0.7586 - Epoch time: 0.76 s\n",
      "Epoch [32/100], Loss: 0.2412 - Train Accuracy: 0.9262 - Val Accuracy: 0.7622 - Epoch time: 0.75 s\n",
      "Epoch [33/100], Loss: 0.2257 - Train Accuracy: 0.9350 - Val Accuracy: 0.7640 - Epoch time: 0.78 s\n",
      "Epoch [34/100], Loss: 0.2163 - Train Accuracy: 0.9359 - Val Accuracy: 0.7658 - Epoch time: 0.77 s\n",
      "Epoch [35/100], Loss: 0.2091 - Train Accuracy: 0.9403 - Val Accuracy: 0.7568 - Epoch time: 0.76 s\n",
      "Epoch    36: reducing learning rate of group 0 to 5.0000e-03.\n",
      "Epoch [36/100], Loss: 0.2028 - Train Accuracy: 0.9439 - Val Accuracy: 0.7622 - Epoch time: 0.78 s\n",
      "Epoch [37/100], Loss: 0.1942 - Train Accuracy: 0.9513 - Val Accuracy: 0.7658 - Epoch time: 0.79 s\n",
      "Epoch [38/100], Loss: 0.1862 - Train Accuracy: 0.9545 - Val Accuracy: 0.7712 - Epoch time: 0.74 s\n",
      "Epoch [39/100], Loss: 0.1821 - Train Accuracy: 0.9563 - Val Accuracy: 0.7640 - Epoch time: 0.75 s\n",
      "Epoch [40/100], Loss: 0.1795 - Train Accuracy: 0.9535 - Val Accuracy: 0.7658 - Epoch time: 0.74 s\n",
      "Epoch [41/100], Loss: 0.1790 - Train Accuracy: 0.9541 - Val Accuracy: 0.7640 - Epoch time: 0.78 s\n",
      "Epoch [42/100], Loss: 0.1755 - Train Accuracy: 0.9519 - Val Accuracy: 0.7694 - Epoch time: 0.77 s\n",
      "Epoch [43/100], Loss: 0.1699 - Train Accuracy: 0.9569 - Val Accuracy: 0.7676 - Epoch time: 0.77 s\n",
      "Epoch    44: reducing learning rate of group 0 to 2.5000e-03.\n",
      "Epoch [44/100], Loss: 0.1643 - Train Accuracy: 0.9621 - Val Accuracy: 0.7676 - Epoch time: 0.76 s\n",
      "Epoch [45/100], Loss: 0.1658 - Train Accuracy: 0.9629 - Val Accuracy: 0.7658 - Epoch time: 0.78 s\n",
      "Epoch [46/100], Loss: 0.1572 - Train Accuracy: 0.9647 - Val Accuracy: 0.7658 - Epoch time: 0.76 s\n",
      "Epoch [47/100], Loss: 0.1590 - Train Accuracy: 0.9615 - Val Accuracy: 0.7712 - Epoch time: 0.77 s\n",
      "No improvement. Breaking out of loop.\n",
      "Total training time: 36.8580 seconds\n"
     ]
    }
   ],
   "source": [
    "start_time = time.time()\n",
    "train_metric_history, val_metric_history = train(args, model, train_loader, val_loader, optimizer, criterion, scheduler)\n",
    "print(\"Total training time: {:.4f} seconds\".format((time.time() - start_time)))"
   ]
  },
  {
   "cell_type": "code",
   "execution_count": 44,
   "metadata": {
    "colab": {
     "base_uri": "https://localhost:8080/"
    },
    "id": "5vEILMHv3ooO",
    "outputId": "b8545176-6b9c-498c-861d-693e5fc3a092"
   },
   "outputs": [
    {
     "name": "stdout",
     "output_type": "stream",
     "text": [
      "\n",
      "Test Accuracy: 0.7808\n"
     ]
    }
   ],
   "source": [
    "model.load_state_dict(torch.load('model/model_best.pt')['state_dict'])\n",
    "model.eval()\n",
    "test_metric = model_eval(test_loader, model, gpu=args.use_gpu)\n",
    "print(\"\\nTest Accuracy: {:.4f}\".format(test_metric[\"accuracy\"]))"
   ]
  },
  {
   "cell_type": "code",
   "execution_count": 45,
   "metadata": {
    "colab": {
     "base_uri": "https://localhost:8080/",
     "height": 295
    },
    "id": "iKcKHosEx5ZC",
    "outputId": "dfc66441-d956-480b-fad9-3247f47578b0"
   },
   "outputs": [
    {
     "data": {
      "image/png": "[encoded data removed]",
      "text/plain": [
       "<Figure size 432x288 with 1 Axes>"
      ]
     },
     "metadata": {
      "needs_background": "light",
      "tags": []
     },
     "output_type": "display_data"
    }
   ],
   "source": [
    "plt.plot(train_metric_history, label='train')\n",
    "plt.plot(val_metric_history, label='val')\n",
    "plt.title('CNN Classifier')\n",
    "plt.ylabel('Accuracy')\n",
    "plt.xlabel('# epoch')\n",
    "plt.legend(loc='best')\n",
    "plt.show()"
   ]
  },
  {
   "cell_type": "markdown",
   "metadata": {
    "id": "T5l8m9t7YfU9"
   },
   "source": [
    "# CNN - static"
   ]
  },
  {
   "cell_type": "markdown",
   "metadata": {
    "id": "1m0_Kbb9Yqb7"
   },
   "source": [
    "Loading w2v embedding"
   ]
  },
  {
   "cell_type": "code",
   "execution_count": 19,
   "metadata": {
    "colab": {
     "base_uri": "https://localhost:8080/"
    },
    "id": "2c-QVd_rU8Ry",
    "outputId": "30c13fe2-ca53-4fa0-a604-a967f660739b"
   },
   "outputs": [
    {
     "name": "stdout",
     "output_type": "stream",
     "text": [
      "Downloading...\n",
      "From: https://drive.google.com/uc?id=1kzhQgKVz8Mr41bpgWg6PTjj_9z-TJI7w\n",
      "To: /content/word2vec_col.txt\n",
      "925MB [00:03, 240MB/s]\n"
     ]
    }
   ],
   "source": [
    "!gdown https://drive.google.com/uc?id=1kzhQgKVz8Mr41bpgWg6PTjj_9z-TJI7w"
   ]
  },
  {
   "cell_type": "code",
   "execution_count": 20,
   "metadata": {
    "id": "l4IXDUJuZmqS"
   },
   "outputs": [],
   "source": [
    "w2v_embedding = pd.read_csv('word2vec_col.txt',\n",
    "                            sep='\\\\r\\\\n', engine='python', \n",
    "                            header=None).loc[:,0].values.tolist()"
   ]
  },
  {
   "cell_type": "code",
   "execution_count": 23,
   "metadata": {
    "id": "UtXnsYSYdjD2"
   },
   "outputs": [],
   "source": [
    "emb_d = int(w2v_embedding[0].split()[1])\n",
    "emb_N = int(w2v_embedding[0].split()[0])\n",
    "emb_txt = w2v_embedding[1:]"
   ]
  },
  {
   "cell_type": "code",
   "execution_count": 29,
   "metadata": {
    "id": "j5YmTq4gd1pL"
   },
   "outputs": [],
   "source": [
    "embedding_weights = {}\n",
    "for i in range(emb_N):\n",
    "    row_list = emb_txt[i].split()\n",
    "    key = row_list[0]\n",
    "    if key in vocab:\n",
    "        embedding_weights[key] = np.array(row_list[1:]).astype(float)"
   ]
  },
  {
   "cell_type": "markdown",
   "metadata": {
    "id": "hXUIKQ9pf-IR"
   },
   "source": [
    "Reorder to get our vocabulary model order"
   ]
  },
  {
   "cell_type": "code",
   "execution_count": 30,
   "metadata": {
    "id": "mftCknRdfvo3"
   },
   "outputs": [],
   "source": [
    "embedding = []\n",
    "for key in vocab:\n",
    "    if key in embedding_weights:\n",
    "        embedding.append(embedding_weights[key].tolist())\n",
    "    else:\n",
    "        embedding.append(np.random.uniform(-0.25, 0.25, emb_d).tolist())"
   ]
  },
  {
   "cell_type": "markdown",
   "metadata": {
    "id": "B8f-gNEthN_r"
   },
   "source": [
    "Now, we create the model with preinitialized embbeding. Since it is static, we will set the freeze variable as True."
   ]
  },
  {
   "cell_type": "code",
   "execution_count": 46,
   "metadata": {
    "id": "q4Lqx30vYnBo"
   },
   "outputs": [],
   "source": [
    "# Model hyperparameters\n",
    "args.d = 100 # Dimension of word embeddings\n",
    "args.filter_sizes = [3, 4, 5]\n",
    "args.num_filters = 100\n",
    "args.dropout = 0.1\n",
    "\n",
    "# Training hyperparameters\n",
    "args.lr = 1e-2\n",
    "args.num_epochs = 100\n",
    "args.patience = 10\n",
    "\n",
    "# Scheduler hyperparameters\n",
    "args.lr_patience = 5\n",
    "args.lr_factor = 0.5\n",
    "\n",
    "# Saving directory\n",
    "args.savedir = 'model_static'\n",
    "os.makedirs(args.savedir, exist_ok=True)\n",
    "\n",
    "# Create model\n",
    "model = CNNTextCls(args, embeddings=embedding, freeze=True)\n",
    "\n",
    "# Send to GPU\n",
    "args.use_gpu = torch.cuda.is_available()\n",
    "if args.use_gpu:\n",
    "    model.cuda()\n",
    "\n",
    "# Loss, Optimizer and Scheduler\n",
    "criterion = nn.BCEWithLogitsLoss()\n",
    "optimizer = torch.optim.SGD(model.parameters(), lr=args.lr)\n",
    "scheduler = torch.optim.lr_scheduler.ReduceLROnPlateau(\n",
    "                optimizer, \"max\",\n",
    "                patience=args.lr_patience,\n",
    "                verbose=True,\n",
    "                factor=args.lr_factor\n",
    "            )"
   ]
  },
  {
   "cell_type": "code",
   "execution_count": 47,
   "metadata": {
    "colab": {
     "base_uri": "https://localhost:8080/"
    },
    "id": "NoU1xgGihfN3",
    "outputId": "6d2da032-d240-48af-923e-81ee17b6de0d"
   },
   "outputs": [
    {
     "name": "stdout",
     "output_type": "stream",
     "text": [
      "Epoch [1/100], Loss: 1.0739 - Train Accuracy: 0.5560 - Val Accuracy: 0.6703 - Epoch time: 0.64 s\n",
      "Epoch [2/100], Loss: 0.9494 - Train Accuracy: 0.5799 - Val Accuracy: 0.6955 - Epoch time: 0.65 s\n",
      "Epoch [3/100], Loss: 0.7190 - Train Accuracy: 0.6352 - Val Accuracy: 0.7009 - Epoch time: 0.65 s\n",
      "Epoch [4/100], Loss: 0.6465 - Train Accuracy: 0.6751 - Val Accuracy: 0.7045 - Epoch time: 0.67 s\n",
      "Epoch [5/100], Loss: 0.5415 - Train Accuracy: 0.7278 - Val Accuracy: 0.7189 - Epoch time: 0.67 s\n",
      "Epoch [6/100], Loss: 0.5598 - Train Accuracy: 0.7194 - Val Accuracy: 0.7153 - Epoch time: 0.63 s\n",
      "Epoch [7/100], Loss: 0.4915 - Train Accuracy: 0.7515 - Val Accuracy: 0.7423 - Epoch time: 0.64 s\n",
      "Epoch [8/100], Loss: 0.4585 - Train Accuracy: 0.7872 - Val Accuracy: 0.7153 - Epoch time: 0.64 s\n",
      "Epoch [9/100], Loss: 0.4383 - Train Accuracy: 0.7979 - Val Accuracy: 0.7405 - Epoch time: 0.64 s\n",
      "Epoch [10/100], Loss: 0.4044 - Train Accuracy: 0.8178 - Val Accuracy: 0.7441 - Epoch time: 0.65 s\n",
      "Epoch [11/100], Loss: 0.3834 - Train Accuracy: 0.8296 - Val Accuracy: 0.6991 - Epoch time: 0.68 s\n",
      "Epoch [12/100], Loss: 0.3466 - Train Accuracy: 0.8447 - Val Accuracy: 0.7261 - Epoch time: 0.63 s\n",
      "Epoch [13/100], Loss: 0.3248 - Train Accuracy: 0.8661 - Val Accuracy: 0.7117 - Epoch time: 0.65 s\n",
      "Epoch [14/100], Loss: 0.2960 - Train Accuracy: 0.8758 - Val Accuracy: 0.7586 - Epoch time: 0.68 s\n",
      "Epoch [15/100], Loss: 0.2726 - Train Accuracy: 0.8984 - Val Accuracy: 0.7459 - Epoch time: 0.64 s\n",
      "Epoch [16/100], Loss: 0.2487 - Train Accuracy: 0.9104 - Val Accuracy: 0.7405 - Epoch time: 0.65 s\n",
      "Epoch [17/100], Loss: 0.2277 - Train Accuracy: 0.9182 - Val Accuracy: 0.7640 - Epoch time: 0.63 s\n",
      "Epoch [18/100], Loss: 0.2116 - Train Accuracy: 0.9281 - Val Accuracy: 0.7532 - Epoch time: 0.65 s\n",
      "Epoch [19/100], Loss: 0.1983 - Train Accuracy: 0.9375 - Val Accuracy: 0.7243 - Epoch time: 0.64 s\n",
      "Epoch [20/100], Loss: 0.1831 - Train Accuracy: 0.9443 - Val Accuracy: 0.7423 - Epoch time: 0.64 s\n",
      "Epoch [21/100], Loss: 0.1685 - Train Accuracy: 0.9485 - Val Accuracy: 0.7676 - Epoch time: 0.66 s\n",
      "Epoch [22/100], Loss: 0.1546 - Train Accuracy: 0.9583 - Val Accuracy: 0.7514 - Epoch time: 0.65 s\n",
      "Epoch [23/100], Loss: 0.1434 - Train Accuracy: 0.9587 - Val Accuracy: 0.7586 - Epoch time: 0.65 s\n",
      "Epoch [24/100], Loss: 0.1296 - Train Accuracy: 0.9685 - Val Accuracy: 0.7495 - Epoch time: 0.65 s\n",
      "Epoch [25/100], Loss: 0.1235 - Train Accuracy: 0.9691 - Val Accuracy: 0.7550 - Epoch time: 0.63 s\n",
      "Epoch [26/100], Loss: 0.1228 - Train Accuracy: 0.9671 - Val Accuracy: 0.7135 - Epoch time: 0.65 s\n",
      "Epoch    27: reducing learning rate of group 0 to 5.0000e-03.\n",
      "Epoch [27/100], Loss: 0.1076 - Train Accuracy: 0.9753 - Val Accuracy: 0.7459 - Epoch time: 0.65 s\n",
      "Epoch [28/100], Loss: 0.0941 - Train Accuracy: 0.9834 - Val Accuracy: 0.7459 - Epoch time: 0.64 s\n",
      "Epoch [29/100], Loss: 0.0893 - Train Accuracy: 0.9842 - Val Accuracy: 0.7586 - Epoch time: 0.65 s\n",
      "Epoch [30/100], Loss: 0.0889 - Train Accuracy: 0.9820 - Val Accuracy: 0.7622 - Epoch time: 0.66 s\n",
      "No improvement. Breaking out of loop.\n",
      "Total training time: 20.0887 seconds\n"
     ]
    }
   ],
   "source": [
    "start_time = time.time()\n",
    "train_metric_history_static, val_metric_history_static = train(args, model, train_loader, val_loader, optimizer, criterion, scheduler)\n",
    "print(\"Total training time: {:.4f} seconds\".format((time.time() - start_time)))"
   ]
  },
  {
   "cell_type": "code",
   "execution_count": 48,
   "metadata": {
    "colab": {
     "base_uri": "https://localhost:8080/"
    },
    "id": "PGU553NphiwU",
    "outputId": "5e79d2ed-555b-4920-9816-a05886d88891"
   },
   "outputs": [
    {
     "name": "stdout",
     "output_type": "stream",
     "text": [
      "\n",
      "Test Accuracy: 0.7403\n"
     ]
    }
   ],
   "source": [
    "model.load_state_dict(torch.load('model_static/model_best.pt')['state_dict'])\n",
    "model.eval()\n",
    "test_metric = model_eval(test_loader, model, gpu=args.use_gpu)\n",
    "print(\"\\nTest Accuracy: {:.4f}\".format(test_metric[\"accuracy\"]))"
   ]
  },
  {
   "cell_type": "code",
   "execution_count": 49,
   "metadata": {
    "colab": {
     "base_uri": "https://localhost:8080/",
     "height": 295
    },
    "id": "E_8lkRuChtUH",
    "outputId": "bc6aca55-e406-40f2-c187-6f9993bdc2b2"
   },
   "outputs": [
    {
     "data": {
      "image/png": "[encoded data removed]",
      "text/plain": [
       "<Figure size 432x288 with 1 Axes>"
      ]
     },
     "metadata": {
      "needs_background": "light",
      "tags": []
     },
     "output_type": "display_data"
    }
   ],
   "source": [
    "plt.plot(train_metric_history_static, label='train')\n",
    "plt.plot(val_metric_history_static, label='val')\n",
    "plt.title('CNN Classifier')\n",
    "plt.ylabel('Accuracy')\n",
    "plt.xlabel('# epoch')\n",
    "plt.legend(loc='best')\n",
    "plt.show()"
   ]
  },
  {
   "cell_type": "markdown",
   "metadata": {
    "id": "lj6fhp9Sh9he"
   },
   "source": [
    "# CNN non-static"
   ]
  },
  {
   "cell_type": "markdown",
   "metadata": {
    "id": "vaYDW_1NiI9l"
   },
   "source": [
    "We just need to initialize the embedding as before, but we set freeze variable to False."
   ]
  },
  {
   "cell_type": "code",
   "execution_count": 50,
   "metadata": {
    "id": "Lp5rhGJEiZIr"
   },
   "outputs": [],
   "source": [
    "# Model hyperparameters\n",
    "args.d = 100 # Dimension of word embeddings\n",
    "args.filter_sizes = [3, 4, 5]\n",
    "args.num_filters = 100\n",
    "args.dropout = 0.1\n",
    "\n",
    "# Training hyperparameters\n",
    "args.lr = 1e-2\n",
    "args.num_epochs = 100\n",
    "args.patience = 10\n",
    "\n",
    "# Scheduler hyperparameters\n",
    "args.lr_patience = 5\n",
    "args.lr_factor = 0.5\n",
    "\n",
    "# Saving directory\n",
    "args.savedir = 'model_non_static'\n",
    "os.makedirs(args.savedir, exist_ok=True)\n",
    "\n",
    "# Create model\n",
    "model = CNNTextCls(args, embeddings=embedding)\n",
    "\n",
    "# Send to GPU\n",
    "args.use_gpu = torch.cuda.is_available()\n",
    "if args.use_gpu:\n",
    "    model.cuda()\n",
    "\n",
    "# Loss, Optimizer and Scheduler\n",
    "criterion = nn.BCEWithLogitsLoss()\n",
    "optimizer = torch.optim.SGD(model.parameters(), lr=args.lr)\n",
    "scheduler = torch.optim.lr_scheduler.ReduceLROnPlateau(\n",
    "                optimizer, \"max\",\n",
    "                patience=args.lr_patience,\n",
    "                verbose=True,\n",
    "                factor=args.lr_factor\n",
    "            )"
   ]
  },
  {
   "cell_type": "code",
   "execution_count": 51,
   "metadata": {
    "colab": {
     "base_uri": "https://localhost:8080/"
    },
    "id": "axhRR4TfimjI",
    "outputId": "6c721e32-9626-4a7b-f426-5fb53246a810"
   },
   "outputs": [
    {
     "name": "stdout",
     "output_type": "stream",
     "text": [
      "Epoch [1/100], Loss: 1.0814 - Train Accuracy: 0.5507 - Val Accuracy: 0.7135 - Epoch time: 0.64 s\n",
      "Epoch [2/100], Loss: 0.8636 - Train Accuracy: 0.5952 - Val Accuracy: 0.7135 - Epoch time: 0.63 s\n",
      "Epoch [3/100], Loss: 0.6932 - Train Accuracy: 0.6479 - Val Accuracy: 0.6685 - Epoch time: 0.67 s\n",
      "Epoch [4/100], Loss: 0.6074 - Train Accuracy: 0.6837 - Val Accuracy: 0.7099 - Epoch time: 0.66 s\n",
      "Epoch [5/100], Loss: 0.5830 - Train Accuracy: 0.7057 - Val Accuracy: 0.7135 - Epoch time: 0.63 s\n",
      "Epoch [6/100], Loss: 0.5448 - Train Accuracy: 0.7180 - Val Accuracy: 0.7189 - Epoch time: 0.66 s\n",
      "Epoch [7/100], Loss: 0.5033 - Train Accuracy: 0.7536 - Val Accuracy: 0.6829 - Epoch time: 0.67 s\n",
      "Epoch [8/100], Loss: 0.4574 - Train Accuracy: 0.7808 - Val Accuracy: 0.7135 - Epoch time: 0.63 s\n",
      "Epoch [9/100], Loss: 0.4557 - Train Accuracy: 0.7821 - Val Accuracy: 0.6757 - Epoch time: 0.66 s\n",
      "Epoch [10/100], Loss: 0.4124 - Train Accuracy: 0.8100 - Val Accuracy: 0.7532 - Epoch time: 0.66 s\n",
      "Epoch [11/100], Loss: 0.3809 - Train Accuracy: 0.8248 - Val Accuracy: 0.7207 - Epoch time: 0.64 s\n",
      "Epoch [12/100], Loss: 0.3434 - Train Accuracy: 0.8531 - Val Accuracy: 0.7730 - Epoch time: 0.66 s\n",
      "Epoch [13/100], Loss: 0.3242 - Train Accuracy: 0.8635 - Val Accuracy: 0.7459 - Epoch time: 0.65 s\n",
      "Epoch [14/100], Loss: 0.2899 - Train Accuracy: 0.8880 - Val Accuracy: 0.7820 - Epoch time: 0.64 s\n",
      "Epoch [15/100], Loss: 0.2681 - Train Accuracy: 0.8996 - Val Accuracy: 0.7766 - Epoch time: 0.65 s\n",
      "Epoch [16/100], Loss: 0.2511 - Train Accuracy: 0.9076 - Val Accuracy: 0.7802 - Epoch time: 0.65 s\n",
      "Epoch [17/100], Loss: 0.2261 - Train Accuracy: 0.9218 - Val Accuracy: 0.7838 - Epoch time: 0.63 s\n",
      "Epoch [18/100], Loss: 0.2111 - Train Accuracy: 0.9285 - Val Accuracy: 0.7874 - Epoch time: 0.64 s\n",
      "Epoch [19/100], Loss: 0.1968 - Train Accuracy: 0.9384 - Val Accuracy: 0.7694 - Epoch time: 0.64 s\n",
      "Epoch [20/100], Loss: 0.1850 - Train Accuracy: 0.9419 - Val Accuracy: 0.7838 - Epoch time: 0.63 s\n",
      "Epoch [21/100], Loss: 0.1632 - Train Accuracy: 0.9555 - Val Accuracy: 0.7856 - Epoch time: 0.64 s\n",
      "Epoch [22/100], Loss: 0.1549 - Train Accuracy: 0.9573 - Val Accuracy: 0.7802 - Epoch time: 0.64 s\n",
      "Epoch [23/100], Loss: 0.1391 - Train Accuracy: 0.9627 - Val Accuracy: 0.7928 - Epoch time: 0.64 s\n",
      "Epoch [24/100], Loss: 0.1383 - Train Accuracy: 0.9629 - Val Accuracy: 0.7802 - Epoch time: 0.63 s\n",
      "Epoch [25/100], Loss: 0.1317 - Train Accuracy: 0.9607 - Val Accuracy: 0.7856 - Epoch time: 0.66 s\n",
      "Epoch [26/100], Loss: 0.1102 - Train Accuracy: 0.9750 - Val Accuracy: 0.7892 - Epoch time: 0.64 s\n",
      "Epoch [27/100], Loss: 0.1060 - Train Accuracy: 0.9765 - Val Accuracy: 0.7946 - Epoch time: 0.63 s\n",
      "Epoch [28/100], Loss: 0.0994 - Train Accuracy: 0.9785 - Val Accuracy: 0.7946 - Epoch time: 0.64 s\n",
      "Epoch [29/100], Loss: 0.0939 - Train Accuracy: 0.9795 - Val Accuracy: 0.7874 - Epoch time: 0.63 s\n",
      "Epoch [30/100], Loss: 0.0852 - Train Accuracy: 0.9810 - Val Accuracy: 0.7892 - Epoch time: 0.62 s\n",
      "Epoch [31/100], Loss: 0.0822 - Train Accuracy: 0.9856 - Val Accuracy: 0.7892 - Epoch time: 0.63 s\n",
      "Epoch [32/100], Loss: 0.0794 - Train Accuracy: 0.9850 - Val Accuracy: 0.7928 - Epoch time: 0.64 s\n",
      "Epoch    33: reducing learning rate of group 0 to 5.0000e-03.\n",
      "Epoch [33/100], Loss: 0.0685 - Train Accuracy: 0.9868 - Val Accuracy: 0.7946 - Epoch time: 0.64 s\n",
      "Epoch [34/100], Loss: 0.0665 - Train Accuracy: 0.9874 - Val Accuracy: 0.7946 - Epoch time: 0.66 s\n",
      "Epoch [35/100], Loss: 0.0624 - Train Accuracy: 0.9906 - Val Accuracy: 0.7892 - Epoch time: 0.64 s\n",
      "Epoch [36/100], Loss: 0.0633 - Train Accuracy: 0.9908 - Val Accuracy: 0.7874 - Epoch time: 0.64 s\n",
      "No improvement. Breaking out of loop.\n",
      "Total training time: 23.8088 seconds\n"
     ]
    }
   ],
   "source": [
    "start_time = time.time()\n",
    "train_metric_history_non_static, val_metric_history_non_static = train(args, model, train_loader, val_loader, optimizer, criterion, scheduler)\n",
    "print(\"Total training time: {:.4f} seconds\".format((time.time() - start_time)))"
   ]
  },
  {
   "cell_type": "code",
   "execution_count": 52,
   "metadata": {
    "colab": {
     "base_uri": "https://localhost:8080/"
    },
    "id": "ZfLx26OWipef",
    "outputId": "fc70905b-0a0c-401a-e12a-8d11c2461160"
   },
   "outputs": [
    {
     "name": "stdout",
     "output_type": "stream",
     "text": [
      "\n",
      "Test Accuracy: 0.7403\n"
     ]
    }
   ],
   "source": [
    "model.load_state_dict(torch.load('model_non_static/model_best.pt')['state_dict'])\n",
    "model.eval()\n",
    "test_metric = model_eval(test_loader, model, gpu=args.use_gpu)\n",
    "print(\"\\nTest Accuracy: {:.4f}\".format(test_metric[\"accuracy\"]))"
   ]
  },
  {
   "cell_type": "code",
   "execution_count": 53,
   "metadata": {
    "colab": {
     "base_uri": "https://localhost:8080/",
     "height": 295
    },
    "id": "JTGr_li_ivTY",
    "outputId": "fbc862b2-8f47-4beb-d307-f388a28d0dfa"
   },
   "outputs": [
    {
     "data": {
      "image/png": "[encoded data removed]",
      "text/plain": [
       "<Figure size 432x288 with 1 Axes>"
      ]
     },
     "metadata": {
      "needs_background": "light",
      "tags": []
     },
     "output_type": "display_data"
    }
   ],
   "source": [
    "plt.plot(train_metric_history_non_static, label='train')\n",
    "plt.plot(val_metric_history_non_static, label='val')\n",
    "plt.title('CNN Classifier')\n",
    "plt.ylabel('Accuracy')\n",
    "plt.xlabel('# epoch')\n",
    "plt.legend(loc='best')\n",
    "plt.show()"
   ]
  },
  {
   "cell_type": "markdown",
   "metadata": {
    "id": "dsPqmOWujm-9"
   },
   "source": [
    "# Comparing graph"
   ]
  },
  {
   "cell_type": "code",
   "execution_count": 60,
   "metadata": {
    "colab": {
     "base_uri": "https://localhost:8080/",
     "height": 513
    },
    "id": "ZiqGQrcdi1Ws",
    "outputId": "d7f5b2c8-fd76-4251-a503-447c8eb2d98f"
   },
   "outputs": [
    {
     "data": {
      "image/png": "[encoded data removed]",
      "text/plain": [
       "<Figure size 1080x576 with 1 Axes>"
      ]
     },
     "metadata": {
      "needs_background": "light",
      "tags": []
     },
     "output_type": "display_data"
    }
   ],
   "source": [
    "plt.figure(figsize=(15,8))\n",
    "plt.plot(val_metric_history, label='rand')\n",
    "plt.plot(val_metric_history_static, label='static')\n",
    "plt.plot(val_metric_history_non_static, label='non_static')\n",
    "plt.legend()\n",
    "plt.xlabel('Epoch')\n",
    "plt.ylabel('Validation Accuracy')\n",
    "plt.title('Comparison Validation Accuracy')\n",
    "plt.show()"
   ]
  },
  {
   "cell_type": "code",
   "execution_count": null,
   "metadata": {
    "id": "n3w2q0sTkyDa"
   },
   "outputs": [],
   "source": []
  }
 ],
 "metadata": {
  "accelerator": "GPU",
  "colab": {
   "collapsed_sections": [],
   "name": "Copy of Tarea_CNN_text_classification.ipynb",
   "provenance": []
  },
  "kernelspec": {
   "display_name": "Python 3",
   "language": "python",
   "name": "python3"
  },
  "language_info": {
   "codemirror_mode": {
    "name": "ipython",
    "version": 3
   },
   "file_extension": ".py",
   "mimetype": "text/x-python",
   "name": "python",
   "nbconvert_exporter": "python",
   "pygments_lexer": "ipython3",
   "version": "3.8.8"
  }
 },
 "nbformat": 4,
 "nbformat_minor": 4
}
