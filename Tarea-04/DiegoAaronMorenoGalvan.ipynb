{
 "cells": [
  {
   "cell_type": "markdown",
   "metadata": {},
   "source": [
    "# NLP. Tarea 4: Modelos de lenguaje.\n",
    "\n",
    "### *Diego Moreno*"
   ]
  },
  {
   "cell_type": "markdown",
   "metadata": {},
   "source": [
    "Importamos las librerías necesarias:"
   ]
  },
  {
   "cell_type": "code",
   "execution_count": 492,
   "metadata": {},
   "outputs": [],
   "source": [
    "import numpy as np\n",
    "import re\n",
    "from collections import Counter\n",
    "import wget\n",
    "from time import time\n",
    "import nltk\n",
    "from sklearn.preprocessing import normalize\n",
    "import matplotlib.pyplot as plt"
   ]
  },
  {
   "cell_type": "markdown",
   "metadata": {},
   "source": [
    "## 2. Ahorcado\n",
    "\n",
    "Importamos el texto:"
   ]
  },
  {
   "cell_type": "code",
   "execution_count": 5,
   "metadata": {},
   "outputs": [
    {
     "data": {
      "text/plain": [
       "'big.txt'"
      ]
     },
     "execution_count": 5,
     "metadata": {},
     "output_type": "execute_result"
    }
   ],
   "source": [
    "url_pag = 'http://norvig.com/big.txt'\n",
    "pth = ''\n",
    "wget.download(url = url_pag, out = pth)"
   ]
  },
  {
   "cell_type": "markdown",
   "metadata": {},
   "source": [
    "La función del ahorcado:"
   ]
  },
  {
   "cell_type": "code",
   "execution_count": 5,
   "metadata": {},
   "outputs": [],
   "source": [
    "def words(text): \n",
    "    #return re.findall(r'\\w+', text.lower())\n",
    "    return re.findall('[^\\d\\W]+', text.lower())\n",
    "\n",
    "WORDS = Counter(words(open('big.txt').read()))\n",
    "\n",
    "def P(word, N=sum(WORDS.values())): \n",
    "    \"Probability of `word`.\"\n",
    "    return WORDS[word] / N\n",
    "\n",
    "def hangman(word): \n",
    "    \"Most probable spelling correction for word.\"\n",
    "    return max(candidates(word), key=P)\n",
    "\n",
    "def candidates(word): \n",
    "    \"Generate possible spelling corrections for word.\"\n",
    "    return (known([word]) or \n",
    "            known(ahorcado_edit1(word)) or \n",
    "            known(ahorcado_edit2(word)) or \n",
    "            known(ahorcado_edit3(word)) or \n",
    "            known(ahorcado_edit4(word)) or \n",
    "            [word])\n",
    "\n",
    "def known(words): \n",
    "    \"The subset of `words` that appear in the dictionary of WORDS.\"\n",
    "    return set(w for w in words if w in WORDS)\n",
    "\n",
    "def ahorcado_edit1(word):\n",
    "    \"Función que trata de adivinar una palabras con hasta 4 letras faltantes\"\n",
    "    letters    = 'abcdefghijklmnopqrstuvwxyz'\n",
    "    splits     = [(word[:i], word[i:])    for i in range(len(word)) if word[i]=='_']\n",
    "    replaces   = [L + c + R[1:]           for L, R in splits if R for c in letters]\n",
    "    return set(replaces)\n",
    "\n",
    "def ahorcado_edit2(word): \n",
    "    \"All edits that are two edits away from `word`.\"\n",
    "    return (e2 for e1 in ahorcado_edit1(word) for e2 in ahorcado_edit1(e1))\n",
    "\n",
    "def ahorcado_edit3(word): \n",
    "    \"All edits that are 3 edits away from `word`.\"\n",
    "    return (e2 for e1 in ahorcado_edit2(word) for e2 in ahorcado_edit1(e1))\n",
    "\n",
    "def ahorcado_edit4(word): \n",
    "    \"All edits that are 4 edits away from `word`.\"\n",
    "    return (e2 for e1 in ahorcado_edit3(word) for e2 in ahorcado_edit1(e1))"
   ]
  },
  {
   "cell_type": "markdown",
   "metadata": {},
   "source": [
    "La idea de la función es realizar los splits de las palabras, solamente si se encuentra un espacio vacío. Con dicho espacio solamente se realizará la operación de reemplazo por otra letra. Con esta misma estrategia se buscarán posibles palabras reemplazando hasta 4 veces los espacios vacíos, (fácilmente extendible hasta más letras). Para palabras con más de 1 letra faltante, lo que se hace es realizar los posibles reemplazos con n-1 letras faltantes y luego hacer otro reemplazo extra.\n",
    "\n",
    "A continuación algunos ejemplos:"
   ]
  },
  {
   "cell_type": "code",
   "execution_count": 50,
   "metadata": {},
   "outputs": [
    {
     "name": "stdout",
     "output_type": "stream",
     "text": [
      "Tiempo en encontrar la solución: 3.96\n"
     ]
    },
    {
     "data": {
      "text/plain": [
       "'spelling'"
      ]
     },
     "execution_count": 50,
     "metadata": {},
     "output_type": "execute_result"
    }
   ],
   "source": [
    "start = time()\n",
    "word = hangman('sp_l_i__')\n",
    "end = time()\n",
    "print(\"Tiempo en encontrar la solución: %.2f\" % (end-start))\n",
    "word"
   ]
  },
  {
   "cell_type": "code",
   "execution_count": 81,
   "metadata": {},
   "outputs": [
    {
     "name": "stdout",
     "output_type": "stream",
     "text": [
      "Tiempo en encontrar la solución: 0.00\n"
     ]
    },
    {
     "data": {
      "text/plain": [
       "'people'"
      ]
     },
     "execution_count": 81,
     "metadata": {},
     "output_type": "execute_result"
    }
   ],
   "source": [
    "start = time()\n",
    "word = hangman ( \"pe_p_e\" )\n",
    "end = time()\n",
    "print(\"Tiempo en encontrar la solución: %.2f\" % (end-start))\n",
    "word"
   ]
  },
  {
   "cell_type": "code",
   "execution_count": 82,
   "metadata": {},
   "outputs": [
    {
     "name": "stdout",
     "output_type": "stream",
     "text": [
      "Tiempo en encontrar la solución: 0.07\n"
     ]
    },
    {
     "data": {
      "text/plain": [
       "'philosophy'"
      ]
     },
     "execution_count": 82,
     "metadata": {},
     "output_type": "execute_result"
    }
   ],
   "source": [
    "start = time()\n",
    "word = hangman (\"phi__sop_y\")\n",
    "end = time()\n",
    "print(\"Tiempo en encontrar la solución: %.2f\" % (end-start))\n",
    "word"
   ]
  },
  {
   "cell_type": "code",
   "execution_count": 54,
   "metadata": {},
   "outputs": [
    {
     "name": "stdout",
     "output_type": "stream",
     "text": [
      "Tiempo en encontrar la solución: 4.13\n"
     ]
    },
    {
     "data": {
      "text/plain": [
       "'significance'"
      ]
     },
     "execution_count": 54,
     "metadata": {},
     "output_type": "execute_result"
    }
   ],
   "source": [
    "start = time()\n",
    "word = hangman (\"si_nif_c_nc_\")\n",
    "end = time()\n",
    "print(\"Tiempo en encontrar la solución: %.2f\" % (end-start))\n",
    "word"
   ]
  },
  {
   "cell_type": "code",
   "execution_count": 83,
   "metadata": {},
   "outputs": [
    {
     "name": "stdout",
     "output_type": "stream",
     "text": [
      "Tiempo en encontrar la solución: 0.00\n"
     ]
    },
    {
     "data": {
      "text/plain": [
       "'hello'"
      ]
     },
     "execution_count": 83,
     "metadata": {},
     "output_type": "execute_result"
    }
   ],
   "source": [
    "start = time()\n",
    "word = hangman (\"he__o\")\n",
    "end = time()\n",
    "print(\"Tiempo en encontrar la solución: %.2f\" % (end-start))\n",
    "word"
   ]
  },
  {
   "cell_type": "code",
   "execution_count": 57,
   "metadata": {},
   "outputs": [
    {
     "name": "stdout",
     "output_type": "stream",
     "text": [
      "Tiempo en encontrar la solución: 4.21\n"
     ]
    },
    {
     "data": {
      "text/plain": [
       "'refrigerator'"
      ]
     },
     "execution_count": 57,
     "metadata": {},
     "output_type": "execute_result"
    }
   ],
   "source": [
    "start = time()\n",
    "word = hangman (\"refr_g_r_t_r\")\n",
    "end = time()\n",
    "print(\"Tiempo en encontrar la solución: %.2f\" % (end-start))\n",
    "word"
   ]
  },
  {
   "cell_type": "code",
   "execution_count": 61,
   "metadata": {},
   "outputs": [
    {
     "name": "stdout",
     "output_type": "stream",
     "text": [
      "Tiempo en encontrar la solución: 4.09\n"
     ]
    },
    {
     "data": {
      "text/plain": [
       "'essential'"
      ]
     },
     "execution_count": 61,
     "metadata": {},
     "output_type": "execute_result"
    }
   ],
   "source": [
    "start = time()\n",
    "word = hangman (\"e_se__ia_\")\n",
    "end = time()\n",
    "print(\"Tiempo en encontrar la solución: %.2f\" % (end-start))\n",
    "word"
   ]
  },
  {
   "cell_type": "code",
   "execution_count": 63,
   "metadata": {},
   "outputs": [
    {
     "name": "stdout",
     "output_type": "stream",
     "text": [
      "Tiempo en encontrar la solución: 4.07\n"
     ]
    },
    {
     "data": {
      "text/plain": [
       "'languages'"
      ]
     },
     "execution_count": 63,
     "metadata": {},
     "output_type": "execute_result"
    }
   ],
   "source": [
    "start = time()\n",
    "word = hangman (\"l__gu_ge_\")\n",
    "end = time()\n",
    "print(\"Tiempo en encontrar la solución: %.2f\" % (end-start))\n",
    "word"
   ]
  },
  {
   "cell_type": "code",
   "execution_count": 68,
   "metadata": {},
   "outputs": [
    {
     "name": "stdout",
     "output_type": "stream",
     "text": [
      "Tiempo en encontrar la solución: 3.91\n"
     ]
    },
    {
     "data": {
      "text/plain": [
       "'denmark'"
      ]
     },
     "execution_count": 68,
     "metadata": {},
     "output_type": "execute_result"
    }
   ],
   "source": [
    "start = time()\n",
    "word = hangman (\"d__ma__\")\n",
    "end = time()\n",
    "print(\"Tiempo en encontrar la solución: %.2f\" % (end-start))\n",
    "word"
   ]
  },
  {
   "cell_type": "code",
   "execution_count": 84,
   "metadata": {},
   "outputs": [
    {
     "name": "stdout",
     "output_type": "stream",
     "text": [
      "Tiempo en encontrar la solución: 3.86\n"
     ]
    },
    {
     "data": {
      "text/plain": [
       "'europe'"
      ]
     },
     "execution_count": 84,
     "metadata": {},
     "output_type": "execute_result"
    }
   ],
   "source": [
    "start = time()\n",
    "word = hangman (\"eu____\")\n",
    "end = time()\n",
    "print(\"Tiempo en encontrar la solución: %.2f\" % (end-start))\n",
    "word"
   ]
  },
  {
   "cell_type": "markdown",
   "metadata": {},
   "source": [
    "## 3. Modelos de lenguaje"
   ]
  },
  {
   "cell_type": "markdown",
   "metadata": {},
   "source": [
    "### 3.1.1. Construcción del modelo\n",
    "\n",
    "Leemos los datos wikitext"
   ]
  },
  {
   "cell_type": "code",
   "execution_count": 6,
   "metadata": {},
   "outputs": [],
   "source": [
    "def get_text_from_file(path_corpus, path_labels):\n",
    "    tr_txt = []\n",
    "    tr_y = []\n",
    "    \n",
    "    with open(path_corpus, 'r') as f_corpus, open(path_labels, 'r') as f_labels:\n",
    "        for twitt in f_corpus:\n",
    "            tr_txt += [twitt]\n",
    "        for label in f_labels:\n",
    "            tr_y += [label]\n",
    "    return tr_txt, tr_y\n",
    "\n",
    "def sort_freq_dict(fdict):\n",
    "    aux = [(fdict[key], key) for key in fdict]\n",
    "    aux.sort()\n",
    "    aux.reverse()\n",
    "    return aux"
   ]
  },
  {
   "cell_type": "code",
   "execution_count": 7,
   "metadata": {},
   "outputs": [],
   "source": [
    "def words_with_points(text): \n",
    "    return re.findall('[^\\d\\W]+|[\\x2E]', text.lower())"
   ]
  },
  {
   "cell_type": "code",
   "execution_count": 281,
   "metadata": {},
   "outputs": [],
   "source": [
    "pth = 'wikitext-2/'\n",
    "WIKIWORDS_tr = words_with_points(open(pth + 'wiki.train.tokens').read())\n",
    "WIKIWORDS_va = words_with_points(open(pth + 'wiki.valid.tokens').read())\n",
    "WIKIWORDS_te = words_with_points(open(pth + 'wiki.test.tokens').read())\n",
    "WORDS        = words_with_points(open('big.txt').read())"
   ]
  },
  {
   "cell_type": "markdown",
   "metadata": {},
   "source": [
    "Se decide que se van a utilizar un corpus como una lista gigante con las palabras porque es más fácil ordenar la seecuencia y hacer en un futuro los paddings para los bigramas y trigramas. Es por ello que a contunuación se colocarán los tokens de inicio, fin y palabra desconocida para el vocabulario. La estrategia será filtrar las palabras a solo minúsculas y dejando los puntos como signo de fin de oración, nosotros lo reemplazamos por los tokens correspondientes."
   ]
  },
  {
   "cell_type": "code",
   "execution_count": 282,
   "metadata": {},
   "outputs": [],
   "source": [
    "corpus = []\n",
    "validation = []\n",
    "test = []"
   ]
  },
  {
   "cell_type": "markdown",
   "metadata": {},
   "source": [
    "Agregamos WORDS al corpus:"
   ]
  },
  {
   "cell_type": "code",
   "execution_count": 283,
   "metadata": {},
   "outputs": [],
   "source": [
    "WORDS = ['<s>']+WORDS\n",
    "for i in range(len(WORDS)):\n",
    "    if WORDS[i] == '.':\n",
    "        corpus += ['</s>', '<s>'] \n",
    "    else:\n",
    "        corpus += [WORDS[i]]\n",
    "corpus += ['</s>', '<s>'] "
   ]
  },
  {
   "cell_type": "markdown",
   "metadata": {},
   "source": [
    "Agregamos las WIKIWORDS al corpus:"
   ]
  },
  {
   "cell_type": "code",
   "execution_count": 284,
   "metadata": {},
   "outputs": [],
   "source": [
    "for i in range(len(WIKIWORDS_tr)):\n",
    "    if WIKIWORDS_tr[i] == '.':\n",
    "        corpus += ['</s>', '<s>'] \n",
    "    elif WIKIWORDS_tr[i] == 'unk':\n",
    "        corpus += ['<unk>']\n",
    "    else:\n",
    "        corpus += [WIKIWORDS_tr[i]]\n",
    "corpus = corpus[:(-1)]"
   ]
  },
  {
   "cell_type": "markdown",
   "metadata": {},
   "source": [
    "Ahora para validación y test:"
   ]
  },
  {
   "cell_type": "code",
   "execution_count": 285,
   "metadata": {},
   "outputs": [],
   "source": [
    "for i in range(len(WIKIWORDS_va)):\n",
    "    if WIKIWORDS_va[i] == '.':\n",
    "        validation += ['</s>', '<s>'] \n",
    "    elif WIKIWORDS_va[i] == 'unk':\n",
    "        validation += ['<unk>']\n",
    "    else:\n",
    "        validation += [WIKIWORDS_va[i]]\n",
    "validation = ['<s>'] + validation + ['</s>']\n",
    "\n",
    "for i in range(len(WIKIWORDS_te)):\n",
    "    if WIKIWORDS_te[i] == '.':\n",
    "        test += ['</s>', '<s>'] \n",
    "    elif WIKIWORDS_te[i] == 'unk':\n",
    "        test += ['<unk>']\n",
    "    else:\n",
    "        test += [WIKIWORDS_te[i]]\n",
    "test = ['<s>'] + test[:(-1)]"
   ]
  },
  {
   "cell_type": "markdown",
   "metadata": {},
   "source": [
    "Definimos vocabulario:"
   ]
  },
  {
   "cell_type": "code",
   "execution_count": 286,
   "metadata": {},
   "outputs": [],
   "source": [
    "v = sort_freq_dict(Counter(corpus)) \n",
    "V = v[:10000]\n",
    "\n",
    "dict_ind = {}\n",
    "dict_ind_inv = {}\n",
    "count = 0\n",
    "for _, word in V:\n",
    "    dict_ind[word] = count\n",
    "    dict_ind_inv[count] = word\n",
    "    count += 1"
   ]
  },
  {
   "cell_type": "code",
   "execution_count": 432,
   "metadata": {},
   "outputs": [],
   "source": [
    "for i in range(len(corpus)):\n",
    "    if not (corpus[i] in dict_ind):\n",
    "        corpus[i] = '<unk>'\n",
    "for i in range(len(validation)):\n",
    "    if not (validation[i] in dict_ind):\n",
    "        validation[i] = '<unk>'\n",
    "for i in range(len(test)):\n",
    "    if not (test[i] in dict_ind):\n",
    "        test[i] = '<unk>'"
   ]
  },
  {
   "cell_type": "markdown",
   "metadata": {},
   "source": [
    "Vemos cual es el porcentaje de palabras desconocidas en nuestro corpus:"
   ]
  },
  {
   "cell_type": "code",
   "execution_count": 433,
   "metadata": {},
   "outputs": [
    {
     "data": {
      "text/plain": [
       "1.7722006043487937"
      ]
     },
     "execution_count": 433,
     "metadata": {},
     "output_type": "execute_result"
    }
   ],
   "source": [
    "V[dict_ind['<unk>']][0]/len(corpus)*100"
   ]
  },
  {
   "cell_type": "markdown",
   "metadata": {},
   "source": [
    "Alrededor del 2% de palabras desconocidas, el cual es un buen número para trabajar"
   ]
  },
  {
   "cell_type": "markdown",
   "metadata": {},
   "source": [
    "### 3.1.2 Entrenamiento del modelo de lenguaje\n",
    "\n",
    "#### Unigramas: \n",
    "Solo se toma en cuenta una palabra por lo que la probabilidad es la frecuencia de ella entre el total de las palabras. Como para los trigramas vamos a usar bigramas que no se han visto, como en el trigrama ('\\<s\\>', '\\<s\\>', 'the'), el bigrama ('\\<s\\>', '\\<s\\>') nunca se ve y tendrá probabilidad 0, así que vamos a entrenar los modelos con el suavizamiento Laplaciano:"
   ]
  },
  {
   "cell_type": "code",
   "execution_count": 388,
   "metadata": {},
   "outputs": [],
   "source": [
    "P_uni = {}\n",
    "N = len(corpus)\n",
    "len_V = len(V)\n",
    "for frec, word in V:\n",
    "    P_uni[word] = (frec+1) / (N+len_V)"
   ]
  },
  {
   "cell_type": "markdown",
   "metadata": {},
   "source": [
    "Ejemplos:"
   ]
  },
  {
   "cell_type": "code",
   "execution_count": 389,
   "metadata": {},
   "outputs": [
    {
     "data": {
      "text/plain": [
       "0.00015554634278533376"
      ]
     },
     "execution_count": 389,
     "metadata": {},
     "output_type": "execute_result"
    }
   ],
   "source": [
    "P_uni['holmes']"
   ]
  },
  {
   "cell_type": "code",
   "execution_count": 390,
   "metadata": {},
   "outputs": [
    {
     "data": {
      "text/plain": [
       "0.04594308620759907"
      ]
     },
     "execution_count": 390,
     "metadata": {},
     "output_type": "execute_result"
    }
   ],
   "source": [
    "P_uni['<s>']"
   ]
  },
  {
   "cell_type": "code",
   "execution_count": 391,
   "metadata": {},
   "outputs": [
    {
     "data": {
      "text/plain": [
       "0.068096960022973"
      ]
     },
     "execution_count": 391,
     "metadata": {},
     "output_type": "execute_result"
    }
   ],
   "source": [
    "P_uni['the']"
   ]
  },
  {
   "cell_type": "code",
   "execution_count": 392,
   "metadata": {},
   "outputs": [
    {
     "data": {
      "text/plain": [
       "0.017665019794161418"
      ]
     },
     "execution_count": 392,
     "metadata": {},
     "output_type": "execute_result"
    }
   ],
   "source": [
    "P_uni['<unk>']"
   ]
  },
  {
   "cell_type": "markdown",
   "metadata": {},
   "source": [
    "#### Bigramas: \n",
    "Creamos los bigramas:\n",
    "Al principio no se contaba el bigrama ('\\</s\\>, \\<s\\>'), pero como realizamos el suavizamiento Laplaciano, el bigrama mencionado anteriormente sí aparece en la secuencia por lo que debe ser contabilizado."
   ]
  },
  {
   "cell_type": "code",
   "execution_count": 393,
   "metadata": {},
   "outputs": [],
   "source": [
    "bigrams = [('<s>', '<s>')]\n",
    "end = dict_ind['</s>']\n",
    "for i in range(1, len(corpus)):\n",
    "    #if dict_ind[corpus[i-1]] != end:\n",
    "    bigrams.append((corpus[i-1], corpus[i]))\n",
    "bigrams += [('</s>', '</s>')]"
   ]
  },
  {
   "cell_type": "markdown",
   "metadata": {},
   "source": [
    "Probabilidades:"
   ]
  },
  {
   "cell_type": "code",
   "execution_count": 415,
   "metadata": {},
   "outputs": [],
   "source": [
    "def P_bigr(bigram, freq={}, freqU={}, cond=False):\n",
    "    if cond:\n",
    "        if bigram not in freq:\n",
    "            return 1 / (freqU[bigram[0]]+len_V)\n",
    "        return (freq[bigram]+1) / (freqU[bigram[0]]+len_V)\n",
    "    \n",
    "    else:\n",
    "        ans = np.log(P_uni[bigram[1]])\n",
    "        ans += np.log((freq[bigram]+1) / (freqU[bigram[0]]+len_V))\n",
    "        return  np.exp(ans)"
   ]
  },
  {
   "cell_type": "code",
   "execution_count": 416,
   "metadata": {},
   "outputs": [],
   "source": [
    "freqBigr = Counter(bigrams)\n",
    "freqUni = Counter(corpus)"
   ]
  },
  {
   "cell_type": "markdown",
   "metadata": {},
   "source": [
    "Ejemplos:"
   ]
  },
  {
   "cell_type": "code",
   "execution_count": 417,
   "metadata": {},
   "outputs": [
    {
     "name": "stdout",
     "output_type": "stream",
     "text": [
      "P ('<s>', 'the')\n",
      "0.009129748280057698\n",
      "\n",
      "P( the | <s> )\n",
      "0.13406983625961727\n"
     ]
    }
   ],
   "source": [
    "bigram = bigrams[1]\n",
    "print('P', bigram)\n",
    "print(P_bigr(bigram, freqBigr, freqUni))\n",
    "print('\\nP(', bigram[1],'|',bigram[0],')')\n",
    "print(P_bigr(bigram, freqBigr, freqUni, cond=True))"
   ]
  },
  {
   "cell_type": "code",
   "execution_count": 418,
   "metadata": {},
   "outputs": [
    {
     "name": "stdout",
     "output_type": "stream",
     "text": [
      "P ('</s>', '<s>')\n",
      "0.042921906079526534\n",
      "\n",
      "P( <s> | </s> )\n",
      "0.9342408101532189\n"
     ]
    }
   ],
   "source": [
    "bigram = bigrams[33]\n",
    "print('P', bigram)\n",
    "print(P_bigr(bigram, freqBigr, freqUni))\n",
    "print('\\nP(', bigram[1],'|',bigram[0],')')\n",
    "print(P_bigr(bigram, freqBigr, freqUni, cond=True))"
   ]
  },
  {
   "cell_type": "markdown",
   "metadata": {},
   "source": [
    "Notamos que la probabilidad de que siga un token de inicio despues de uno de final es muy alta, por lo que es un indicio de que las cosas van por buen camino."
   ]
  },
  {
   "cell_type": "code",
   "execution_count": 419,
   "metadata": {},
   "outputs": [
    {
     "name": "stdout",
     "output_type": "stream",
     "text": [
      "P ('holmes', 'sherlock')\n",
      "3.3325540423132625e-09\n",
      "\n",
      "P( sherlock | holmes )\n",
      "9.541984732824427e-05\n"
     ]
    }
   ],
   "source": [
    "bigram = ('holmes','sherlock')\n",
    "print('P', bigram)\n",
    "print(P_bigr(bigram, freqBigr, freqUni))\n",
    "print('\\nP(', bigram[1],'|',bigram[0],')')\n",
    "print(P_bigr(bigram, freqBigr, freqUni, cond=True))"
   ]
  },
  {
   "cell_type": "code",
   "execution_count": 420,
   "metadata": {},
   "outputs": [
    {
     "name": "stdout",
     "output_type": "stream",
     "text": [
      "P ('sherlock', 'holmes')\n",
      "1.6467259006659472e-06\n",
      "\n",
      "P( holmes | sherlock )\n",
      "0.01058672207381023\n"
     ]
    }
   ],
   "source": [
    "bigram = ('sherlock','holmes')\n",
    "print('P', bigram)\n",
    "print(P_bigr(bigram, freqBigr, freqUni))\n",
    "print('\\nP(', bigram[1],'|',bigram[0],')')\n",
    "print(P_bigr(bigram, freqBigr, freqUni, cond=True))"
   ]
  },
  {
   "cell_type": "markdown",
   "metadata": {},
   "source": [
    "Otro indicio bueno es que el bigrama holmes-sherlock no aparece en el copus y con el suavizamiento le damos una probabilidad. Por el lado contrario, la probabilidad de que aparezca la palabra holmes dado que apareció sherlock es de 0.01 mucho más probable que la de holmes-sherlock."
   ]
  },
  {
   "cell_type": "markdown",
   "metadata": {},
   "source": [
    "#### Trigramas:\n",
    "creamos los trigramas, tenemos que aumentar un token extra como padding en el inicio y final de cada oración:"
   ]
  },
  {
   "cell_type": "code",
   "execution_count": 402,
   "metadata": {},
   "outputs": [],
   "source": [
    "trigrams = [('<s>', '<s>', '<s>')]\n",
    "start = dict_ind['<s>']\n",
    "end = dict_ind['</s>']\n",
    "for i in range(2, len(corpus)):\n",
    "    if dict_ind[corpus[i-2]] == start:\n",
    "        trigrams += [('<s>', '<s>', corpus[i-1])]\n",
    "    if dict_ind[corpus[i-1]] == end:\n",
    "        trigrams.append((corpus[i-2], '</s>', '</s>'))\n",
    "    elif dict_ind[corpus[i-2]] != end:\n",
    "        trigrams.append((corpus[i-2], corpus[i-1], corpus[i]))\n",
    "trigrams += [('</s>', '</s>', '</s>')]"
   ]
  },
  {
   "cell_type": "markdown",
   "metadata": {},
   "source": [
    "Probabilidades:"
   ]
  },
  {
   "cell_type": "code",
   "execution_count": 424,
   "metadata": {},
   "outputs": [],
   "source": [
    "def P_trigr(trigram, freq={}, freqB={}, freqU={}, cond=False):\n",
    "    '''\n",
    "    Función que calcula la probabilidad de los trigramas.\n",
    "    Notar que aquí se debe usar el tamaño del vocabulario de los\n",
    "    bigramas en el suavizamiento Laplaciano, no el tamño del \n",
    "    vocabulario de palabras. No dice en el libro pero es intuición.\n",
    "    '''\n",
    "    lenVB = len(freqB)\n",
    "    if cond:\n",
    "        if trigram not in freq:\n",
    "            return 1 / (freqB[(trigram[0],trigram[1])] + lenVB)\n",
    "        return (freq[trigram]+1) / (freqB[(trigram[0],trigram[1])] + lenVB)\n",
    "    \n",
    "    else:\n",
    "        ans = np.log(P_uni[trigram[2]])\n",
    "        ans += np.log(P_bigr((trigram[1],trigram[2]), freqB, freqU, True))\n",
    "        ans += np.log((freq[trigram]+1) / (freqB[(trigram[0],trigram[1])] + lenVB))\n",
    "        return  np.exp(ans)"
   ]
  },
  {
   "cell_type": "code",
   "execution_count": 425,
   "metadata": {},
   "outputs": [],
   "source": [
    "freqTrigr = Counter(trigrams)"
   ]
  },
  {
   "cell_type": "markdown",
   "metadata": {},
   "source": [
    "Ejemplos:"
   ]
  },
  {
   "cell_type": "code",
   "execution_count": 426,
   "metadata": {},
   "outputs": [
    {
     "name": "stdout",
     "output_type": "stream",
     "text": [
      "P ('<s>', '<s>', 'the')\n",
      "0.0003150517639765688\n",
      "\n",
      "P( the | <s> <s> )\n",
      "0.034508264008192076\n"
     ]
    }
   ],
   "source": [
    "trigram = trigrams[1]\n",
    "print('P', trigram)\n",
    "print(P_trigr(trigram, freqTrigr, freqBigr, freqUni))\n",
    "print('\\nP(', trigram[2],'|',trigram[0],trigram[1],')')\n",
    "print(P_trigr(trigram, freqTrigr, freqBigr, freqUni, cond=True))"
   ]
  },
  {
   "cell_type": "code",
   "execution_count": 427,
   "metadata": {},
   "outputs": [
    {
     "name": "stdout",
     "output_type": "stream",
     "text": [
      "P ('how', 'are', 'you')\n",
      "6.692910125256305e-10\n",
      "\n",
      "P( you | how are )\n",
      "2.8772984537059604e-05\n"
     ]
    }
   ],
   "source": [
    "trigram = ('how', 'are', 'you')\n",
    "print('P', trigram)\n",
    "print(P_trigr(trigram, freqTrigr, freqBigr, freqUni))\n",
    "print('\\nP(', trigram[2],'|',trigram[0],trigram[1],')')\n",
    "print(P_trigr(trigram, freqTrigr, freqBigr, freqUni, cond=True))"
   ]
  },
  {
   "cell_type": "markdown",
   "metadata": {},
   "source": [
    "#### 3.1.3 Interpolación y EM para los parámetros\n",
    "Función de EM con la que vamos a trabajar:"
   ]
  },
  {
   "cell_type": "code",
   "execution_count": 519,
   "metadata": {},
   "outputs": [],
   "source": [
    "def perplexity(trigrams, lm=1, interpol=False):\n",
    "    '''\n",
    "    Función de la perplexidad para trigramas\n",
    "    '''\n",
    "    N = len(trigrams)\n",
    "    ans = 1.\n",
    "    for i in range(N):\n",
    "        if interpol:\n",
    "            p  = lm[0] * P_uni[trigram[2]]\n",
    "            p += lm[1] * P_bigr((trigram[1],trigram[2]), freqBigr, freqUni, cond=True)\n",
    "            p += lm[2] * P_trigr(trigram, freqTrigr, freqBigr, freqUni, cond=True)\n",
    "        else:\n",
    "            p  = P_trigr(trigram, freqTrigr, freqBigr, freqUni, cond=True)\n",
    "        ans /= p**(1/N)\n",
    "    return ans\n",
    "    \n",
    "def EM_trigrams(lm, val_trigrams, N_max=1000):\n",
    "    '''\n",
    "    Función que encuentra los mejores parámetros lambda para\n",
    "    la probabilidad de los trigramas usando datos de validación.\n",
    "    '''\n",
    "    perp  = [perplexity(val_trigrams, interpol=False)]\n",
    "    perp += [perplexity(val_trigrams, lm, interpol=True)]\n",
    "    for i in range(N_max):\n",
    "        q_m = []\n",
    "        for trigram in val_trigrams:\n",
    "            q  = [lm[0] * P_uni[trigram[2]]]\n",
    "            q += [lm[1] * P_bigr((trigram[1],trigram[2]), freqBigr, freqUni, cond=True)]\n",
    "            q += [lm[2] * P_trigr(trigram, freqTrigr, freqBigr, freqUni, cond=True)]\n",
    "            q_m += [normalize(np.array([q]), axis=1)[0]]\n",
    "        aux = np.mean(q_m, axis=0)\n",
    "        if (aux == lm).all():\n",
    "            break\n",
    "        else:\n",
    "            lm = aux\n",
    "            perp += [perplexity(val_trigrams, lm, interpol=True)]\n",
    "    return lm, perp"
   ]
  },
  {
   "cell_type": "markdown",
   "metadata": {},
   "source": [
    "Trigramas de validación:"
   ]
  },
  {
   "cell_type": "code",
   "execution_count": 496,
   "metadata": {},
   "outputs": [],
   "source": [
    "val_trigr = []\n",
    "start = dict_ind['<s>']\n",
    "end = dict_ind['</s>']\n",
    "for i in range(2, len(validation)):\n",
    "    if dict_ind[validation[i-2]] == start:\n",
    "        val_trigr += [('<s>', '<s>', validation[i-1])]\n",
    "    if dict_ind[validation[i-1]] == end:\n",
    "        val_trigr.append((validation[i-2], '</s>', '</s>'))\n",
    "    elif dict_ind[validation[i-2]] != end:\n",
    "        val_trigr.append((validation[i-2], validation[i-1], validation[i]))"
   ]
  },
  {
   "cell_type": "markdown",
   "metadata": {},
   "source": [
    "A continuación, en lugar de probar con $\\lambda$'s distintas y comparar su perplexidad entre ellas, ya vamos a probar las $\\lambda$'s encontradas con el algoritmo de EM. Con el algoritmoo de EM convergemos a una solución, sin embargo, nos faltaría explorar los puntos iniciales por los que podemos empezar a encontrar la solución y no estancarnos en máximos locales:\n",
    "\n",
    "Prueba 1:"
   ]
  },
  {
   "cell_type": "code",
   "execution_count": 520,
   "metadata": {},
   "outputs": [
    {
     "name": "stdout",
     "output_type": "stream",
     "text": [
      "Lambda encontrado: [5.49431225e-01 6.58872268e-01 1.90851475e-14]\n"
     ]
    }
   ],
   "source": [
    "#Lambda inicial\n",
    "lm_i = [1/3, 1/3, 1/3]\n",
    "lm_f, perps = EM_trigrams(lm_i, val_trigr, 10)\n",
    "print('Lambda encontrado:',lm_f)"
   ]
  },
  {
   "cell_type": "code",
   "execution_count": 521,
   "metadata": {},
   "outputs": [
    {
     "data": {
      "image/png": "[encoded data removed]",
      "text/plain": [
       "<Figure size 1440x360 with 2 Axes>"
      ]
     },
     "metadata": {
      "needs_background": "light"
     },
     "output_type": "display_data"
    }
   ],
   "source": [
    "plt.figure(figsize=(20,5))\n",
    "plt.subplot(121)\n",
    "plt.plot(perps)\n",
    "plt.title('Perplexidad')\n",
    "\n",
    "plt.subplot(122)\n",
    "plt.plot(perps)\n",
    "plt.ylim((118,125))\n",
    "plt.title('Perplexidad con zoom')\n",
    "plt.show()"
   ]
  },
  {
   "cell_type": "markdown",
   "metadata": {},
   "source": [
    "La perplexidad baja y se estnaca a un valor aproximadamente 118.4 el cual es bastante mejor que la perplexidad inicial de 35000.\n",
    "\n",
    "Probemos con otro punto inicial:"
   ]
  },
  {
   "cell_type": "code",
   "execution_count": 522,
   "metadata": {},
   "outputs": [
    {
     "name": "stdout",
     "output_type": "stream",
     "text": [
      "Lambda encontrado: [5.49557105e-01 6.58774887e-01 4.58792527e-15]\n"
     ]
    }
   ],
   "source": [
    "#Lambda inicial\n",
    "lm_i = [5, 4, 1]\n",
    "lm_f2, perps2 = EM_trigrams(lm_i, val_trigr, 10)\n",
    "print('Lambda encontrado:',lm_f2)"
   ]
  },
  {
   "cell_type": "code",
   "execution_count": 530,
   "metadata": {},
   "outputs": [
    {
     "data": {
      "image/png": "[encoded data removed]",
      "text/plain": [
       "<Figure size 1440x360 with 2 Axes>"
      ]
     },
     "metadata": {
      "needs_background": "light"
     },
     "output_type": "display_data"
    }
   ],
   "source": [
    "plt.figure(figsize=(20,5))\n",
    "plt.subplot(121)\n",
    "plt.plot(perps2)\n",
    "plt.title('Perplexidad')\n",
    "\n",
    "plt.subplot(122)\n",
    "plt.plot(perps2)\n",
    "plt.ylim((15,130))\n",
    "plt.title('Perplexidad con zoom')\n",
    "plt.show()"
   ]
  },
  {
   "cell_type": "markdown",
   "metadata": {},
   "source": [
    "Similarmente, esta baja bruscamente a perplexidad 20 pero el algoritmo EM hace que luego suba y se estanca en el mismo valor de la perplexidad, puede ser indicio de que es la más baja. Esto nos quiere decir que tomar más en cuenta la probabilidad de una palabra, luego la del bigrama y por último la del trigrama puede ser mejor para el modelo debido a que la iteracion 1 corresponde al $\\lambda$ inicial.\n",
    "\n",
    "Probemos el último punto inicial:"
   ]
  },
  {
   "cell_type": "code",
   "execution_count": 524,
   "metadata": {},
   "outputs": [
    {
     "name": "stdout",
     "output_type": "stream",
     "text": [
      "Lambda encontrado: [5.48766583e-01 6.59386187e-01 3.41067905e-14]\n"
     ]
    }
   ],
   "source": [
    "#Lambda inicial\n",
    "lm_i = [.1, .4, .5]\n",
    "lm_f3, perps3 = EM_trigrams(lm_i, val_trigr, 10)\n",
    "print('Lambda encontrado:',lm_f3)"
   ]
  },
  {
   "cell_type": "code",
   "execution_count": 525,
   "metadata": {},
   "outputs": [
    {
     "data": {
      "image/png": "[encoded data removed]",
      "text/plain": [
       "<Figure size 1440x360 with 2 Axes>"
      ]
     },
     "metadata": {
      "needs_background": "light"
     },
     "output_type": "display_data"
    }
   ],
   "source": [
    "plt.figure(figsize=(20,5))\n",
    "plt.subplot(121)\n",
    "plt.plot(perps3)\n",
    "plt.title('Perplexidad')\n",
    "\n",
    "plt.subplot(122)\n",
    "plt.plot(perps3)\n",
    "plt.ylim((105,125))\n",
    "plt.title('Perplexidad con zoom')\n",
    "plt.show()"
   ]
  },
  {
   "cell_type": "markdown",
   "metadata": {},
   "source": [
    "Con este punto inicial, al primer paso se logra bajar mucho la perplexidad, sin embargo, el algoritmo EM hace que suba y converja nuevamente al 118."
   ]
  },
  {
   "cell_type": "markdown",
   "metadata": {},
   "source": [
    "Finalmente lo probamos con los datos en test:\n",
    "\n",
    "Trigramas de test:"
   ]
  },
  {
   "cell_type": "code",
   "execution_count": 531,
   "metadata": {},
   "outputs": [],
   "source": [
    "test_trigr = []\n",
    "start = dict_ind['<s>']\n",
    "end = dict_ind['</s>']\n",
    "for i in range(2, len(test)):\n",
    "    if dict_ind[test[i-2]] == start:\n",
    "        test_trigr += [('<s>', '<s>', test[i-1])]\n",
    "    if dict_ind[test[i-1]] == end:\n",
    "        test_trigr.append((test[i-2], '</s>', '</s>'))\n",
    "    elif dict_ind[test[i-2]] != end:\n",
    "        test_trigr.append((test[i-2], test[i-1], test[i]))"
   ]
  },
  {
   "cell_type": "markdown",
   "metadata": {},
   "source": [
    "El mejor hasta ahorita es $\\lambda=[5, 4, 1]$. en test tiene una perplexidad de:"
   ]
  },
  {
   "cell_type": "code",
   "execution_count": 533,
   "metadata": {},
   "outputs": [
    {
     "data": {
      "text/plain": [
       "18.24690461523338"
      ]
     },
     "execution_count": 533,
     "metadata": {},
     "output_type": "execute_result"
    }
   ],
   "source": [
    "lm = [5, 4, 1]\n",
    "perplexity(test_trigr, lm, interpol=True)"
   ]
  },
  {
   "cell_type": "markdown",
   "metadata": {},
   "source": [
    "Tiene una perplexidad muy buena al igual que en validación.\n",
    "\n",
    "Ahora solamente probemos a manera de experimentación el valor de $\\lambda$ al que siemrpre convergen"
   ]
  },
  {
   "cell_type": "code",
   "execution_count": 534,
   "metadata": {},
   "outputs": [
    {
     "data": {
      "text/plain": [
       "array([5.49431225e-01, 6.58872268e-01, 1.90851475e-14])"
      ]
     },
     "execution_count": 534,
     "metadata": {},
     "output_type": "execute_result"
    }
   ],
   "source": [
    "lm_f"
   ]
  },
  {
   "cell_type": "code",
   "execution_count": 535,
   "metadata": {},
   "outputs": [
    {
     "data": {
      "text/plain": [
       "118.39695910869112"
      ]
     },
     "execution_count": 535,
     "metadata": {},
     "output_type": "execute_result"
    }
   ],
   "source": [
    "perplexity(test_trigr, lm_f, interpol=True)"
   ]
  },
  {
   "cell_type": "markdown",
   "metadata": {},
   "source": [
    "El cual tiene una perplexidad similar a validación. Como pequeña conclusión, notar queen cualquiera de los casos, el valor de $\\lambda$ para ponderar a la probabilidad del trigrama es baja, y alta para la probabilidad del unigrama y bigrama. Esto sugiere que tal vez para modelar mejor la probabilidad de una palabra dada una secuencia de 2 palabras anteriores, es más importante la palabra en si, y la inmediatamente anterior a ella para su predicción."
   ]
  },
  {
   "cell_type": "markdown",
   "metadata": {},
   "source": [
    "### 3.2 Corrección ortográfica\n"
   ]
  },
  {
   "cell_type": "code",
   "execution_count": 601,
   "metadata": {},
   "outputs": [],
   "source": [
    "def spellCorrection(sentence, vocabulary, lm):\n",
    "    '''\n",
    "    input_text: a text with possible misspellings represented as a word list\n",
    "    Returns: a list with corrected misspellings by language model and Norvig model\n",
    "    '''\n",
    "    corrected = []\n",
    "    correctedNorvig = []\n",
    "    for word in sentence:\n",
    "        if word not in vocabulary:\n",
    "            cand = candidates(word)\n",
    "            if word in cand:\n",
    "                corrected += ['<unk>']\n",
    "                correctedNorvig += ['<unk>']\n",
    "            else:\n",
    "                corrected += [bestCandidate(cand, corrected, lm)]\n",
    "                correctedNorvig += [max(cand, key=P)]\n",
    "        else:\n",
    "            corrected += [word]\n",
    "            correctedNorvig += [word]\n",
    "    return corrected, correctedNorvig\n",
    "\n",
    "def bestCandidate(candidates, sentence, lm):\n",
    "    '''\n",
    "    Elige el mejor candidato dada la ponderación de interpolación de lambda.\n",
    "    '''\n",
    "    p_max = 0\n",
    "    best_cand = ''\n",
    "    if len(sentence) > 1:\n",
    "        for cand in candidates:\n",
    "            trigram = (sentence[-2], sentence[-1], cand)\n",
    "            bigram = (sentence[-1], cand)\n",
    "            p = interpolation(trigram, lm)\n",
    "            p *= P_bigr(bigram, freqBigr, freqUni, cond=True)\n",
    "            p *= P_uni[cand]\n",
    "            if p > p_max:\n",
    "                p_max = p\n",
    "                best_cand = cand\n",
    "            p = P_bigr(bigram, freqBigr, freqUni, cond=True)\n",
    "            p *= P_uni[cand]\n",
    "            if p > p_max:\n",
    "                p_max = p\n",
    "                best_cand = cand\n",
    "    elif len(sentence) > 0:\n",
    "        for cand in candidates:\n",
    "            bigram = (sentence[-1], cand)\n",
    "            p = P_bigr(bigram, freqBigr, freqUni, cond=True)\n",
    "            p *= P_uni[cand]\n",
    "            if p > p_max:\n",
    "                p_max = p\n",
    "                best_cand = cand\n",
    "    else:\n",
    "        for cand in candidates:\n",
    "            p = P_uni[cand]\n",
    "            if p > p_max:\n",
    "                p_max = p\n",
    "                best_cand = cand\n",
    "    \n",
    "    return best_cand\n",
    "\n",
    "def interpolation(trigram, lm):\n",
    "    p  = lm[0] * P_uni[trigram[2]]\n",
    "    p += lm[1] * P_bigr((trigram[1],trigram[2]), freqBigr, freqUni, cond=True)\n",
    "    p += lm[2] * P_trigr(trigram, freqTrigr, freqBigr, freqUni, cond=True)\n",
    "    return p\n",
    "\n",
    "def P(word, N=sum(freqUni.values())): \n",
    "    \"Probability of `word`.\"\n",
    "    return freqUni[word] / N\n",
    "\n",
    "def candidates(word): \n",
    "    \"Generate possible spelling corrections for word.\"\n",
    "    return (known([word]) or known(edits1(word)) or known(edits2(word)) or [word])\n",
    "\n",
    "def known(words): \n",
    "    \"The subset of `words` that appear in the dictionary of WORDS.\"\n",
    "    return set(w for w in words if w in freqUni)\n",
    "\n",
    "def edits1(word):\n",
    "    \"All edits that are one edit away from `word`.\"\n",
    "    letters    = 'abcdefghijklmnopqrstuvwxyz'\n",
    "    splits     = [(word[:i], word[i:])    for i in range(len(word) + 1)]\n",
    "    deletes    = [L + R[1:]               for L, R in splits if R]\n",
    "    transposes = [L + R[1] + R[0] + R[2:] for L, R in splits if len(R)>1]\n",
    "    replaces   = [L + c + R[1:]           for L, R in splits if R for c in letters]\n",
    "    inserts    = [L + c + R               for L, R in splits for c in letters]\n",
    "    return set(deletes + transposes + replaces + inserts)\n",
    "\n",
    "def edits2(word): \n",
    "    \"All edits that are two edits away from `word`.\"\n",
    "    return (e2 for e1 in edits1(word) for e2 in edits1(e1))"
   ]
  },
  {
   "cell_type": "markdown",
   "metadata": {},
   "source": [
    "Ejemplos:"
   ]
  },
  {
   "cell_type": "code",
   "execution_count": 602,
   "metadata": {},
   "outputs": [],
   "source": [
    "txt_test = [['i', 'hav', 'a', 'ham'],\n",
    "            ['my', 'countr', 'is', 'biig'],\n",
    "            ['i', 'want', 't00', 'eat'],\n",
    "            ['the', 'science', '0ff', 'computer'],\n",
    "            ['hola', 'my', 'name', 'si', 'diegomoreno']]"
   ]
  },
  {
   "cell_type": "code",
   "execution_count": 606,
   "metadata": {},
   "outputs": [
    {
     "name": "stdout",
     "output_type": "stream",
     "text": [
      "Texto original:\n",
      "['i', 'hav', 'a', 'ham']\n",
      "Texto corregido por Norvig:\n",
      "['i', 'had', 'a', 'had']\n",
      "Texto corregido por nuestro Modelo:\n",
      "['i', 'have', 'a', 'had'] \n",
      "\n",
      "Texto original:\n",
      "['my', 'countr', 'is', 'biig']\n",
      "Texto corregido por Norvig:\n",
      "['my', 'country', 'is', 'big']\n",
      "Texto corregido por nuestro Modelo:\n",
      "['my', 'country', 'is', 'big'] \n",
      "\n",
      "Texto original:\n",
      "['i', 'want', 't00', 'eat']\n",
      "Texto corregido por Norvig:\n",
      "['i', 'want', 'the', 'eat']\n",
      "Texto corregido por nuestro Modelo:\n",
      "['i', 'want', 'to', 'eat'] \n",
      "\n",
      "Texto original:\n",
      "['the', 'science', '0ff', 'computer']\n",
      "Texto corregido por Norvig:\n",
      "['the', 'science', 'off', 'computer']\n",
      "Texto corregido por nuestro Modelo:\n",
      "['the', 'science', 'off', 'computer'] \n",
      "\n",
      "Texto original:\n",
      "['hola', 'my', 'name', 'si', 'diegomoreno']\n",
      "Texto corregido por Norvig:\n",
      "['hold', 'my', 'name', 's', '<unk>']\n",
      "Texto corregido por nuestro Modelo:\n",
      "['hold', 'my', 'name', 'is', '<unk>'] \n",
      "\n"
     ]
    }
   ],
   "source": [
    "corrected_txt = []\n",
    "corrected_txt_norvig = []\n",
    "\n",
    "for txt in txt_test:\n",
    "    model, norvig = spellCorrection(txt, freqUni, lm)\n",
    "    corrected_txt += [model]\n",
    "    corrected_txt_norvig += [norvig]\n",
    "    print('Texto original:')\n",
    "    print(txt)\n",
    "    print('Texto corregido por Norvig:')\n",
    "    print(corrected_txt_norvig[-1])\n",
    "    print('Texto corregido por nuestro Modelo:')\n",
    "    print(corrected_txt[-1], '\\n')"
   ]
  },
  {
   "cell_type": "markdown",
   "metadata": {},
   "source": [
    "La estrategia que se siguió para la corrección ortográfica es seguir con las operaciones básicas de Norvig (reemplazo, transposición, etc.) para generar nuevas posibles palabras cuando una palabra no esta en el vocabulario. Si no se encuentra una posible palabra después de las operaciones, se reemplaza por un token \\<unk\\>. La estategía para corrección otográfica siguiente se basa en la corrección por la probabilidad de una palabra dada su contexto anterior.\n",
    "\n",
    "Cuando se encuentran las posibles palabras, primero se procede a calcular la probabilidad condicional interpolada (ya que es de menor perplexidad) de cada una de ellas, dependiendo si se puede formar un trigrama, solamente un bigrama o unigrama. Quedándonos así con la palabra que tenga mayor probabilidad. Luego se probó no solo usar la probabilidad condicional, sino probar con la probabilidad del trigrama (bigrama, unigrama) en si. La cual, dió mejores resultados pues en los ejemplos de arriba, solamente usando probabilidad condicional de la oración i want t00 eat, la corregía de la misma forma que el de Norvig, es decir, a i want the eat. Sin embargo, al usar la probabilidad del trigrama (no condicional al bigrama anterior) se corrige como: i want to eat, que es lo esperado.\n",
    "\n",
    "Finalmente, notar que el desempeño es notablemente mejor con el modelo del lenguaje que con el de Norvig, pues tanto en el ejemplo de: i hav a ham, como en: i want t00 eat, y en: hola my name si diegomoreno, el corrector del modelo responde de mejor manera que el de Norvig."
   ]
  },
  {
   "cell_type": "markdown",
   "metadata": {},
   "source": [
    "### 3.3 Corrector gramatical"
   ]
  },
  {
   "cell_type": "markdown",
   "metadata": {},
   "source": [
    "La estrategía para este caso es: \n",
    "* Barrer la oración y cada palabra hacerle una pequeña modificación para que sea un error ortográfico.\n",
    "* Corregir ahi mismo la palabra y generar posible palabras\n",
    "* poner la palabra de mayor probabilidad bajo el contexto anterior (bigramas o unigramas)"
   ]
  },
  {
   "cell_type": "code",
   "execution_count": 744,
   "metadata": {},
   "outputs": [],
   "source": [
    "def badGrammar(sentence, vocabulary, lm):\n",
    "    '''\n",
    "    input_text: a text with possible bad grammar represented as a word list\n",
    "    Returns: a list with suggested good grammar by language model\n",
    "    '''\n",
    "    corrected = []\n",
    "    for word in sentence:\n",
    "        if len(word) > 1:\n",
    "            pos = int(np.random.rand()*(len(word)-1))+2\n",
    "            word = word[:pos-1] + '_' + word[pos:]\n",
    "        if word not in vocabulary:\n",
    "            cand = candidates(word)\n",
    "            if word in cand:\n",
    "                corrected += ['<unk>']\n",
    "            else:\n",
    "                corrected += [bestCandidate2(cand, corrected, lm)]\n",
    "        else:\n",
    "            corrected += [word]\n",
    "    return corrected\n",
    "\n",
    "def bestCandidate2(candidates, sentence, lm):\n",
    "    '''\n",
    "    Elige el mejor candidato dada la ponderación de interpolación de lambda.\n",
    "    '''\n",
    "    p_max = 0\n",
    "    best_cand = ''\n",
    "    if len(sentence) > 1:\n",
    "        for cand in candidates:\n",
    "            trigram = (sentence[-2], sentence[-1], cand)\n",
    "            p = interpolation(trigram, lm)\n",
    "            if p > p_max:\n",
    "                p_max = p\n",
    "                best_cand = cand\n",
    "    elif len(sentence) > 0:\n",
    "        for cand in candidates:\n",
    "            bigram = (sentence[-1], cand)\n",
    "            p = P_bigr(bigram, freqBigr, freqUni, cond=True)\n",
    "            if p > p_max:\n",
    "                p_max = p\n",
    "                best_cand = cand\n",
    "    else:\n",
    "        for cand in candidates:\n",
    "            p = P_uni[cand]\n",
    "            if p > p_max:\n",
    "                p_max = p\n",
    "                best_cand = cand\n",
    "    \n",
    "    return best_cand"
   ]
  },
  {
   "cell_type": "markdown",
   "metadata": {},
   "source": [
    "Ejemplos en los que la estrategia funciona:"
   ]
  },
  {
   "cell_type": "code",
   "execution_count": 777,
   "metadata": {},
   "outputs": [],
   "source": [
    "txt_test = [['i', 'have', 'an', 'horse'],\n",
    "            ['i', 'want', 'too', 'eat'],\n",
    "            ['the', 'science', 'off', 'computer']]"
   ]
  },
  {
   "cell_type": "code",
   "execution_count": 778,
   "metadata": {},
   "outputs": [
    {
     "name": "stdout",
     "output_type": "stream",
     "text": [
      "Texto original:\n",
      "['i', 'have', 'an', 'horse']\n",
      "Sugerencia gramatical:\n",
      "['i', 'have', 'a', 'horse'] \n",
      "\n",
      "Texto original:\n",
      "['i', 'want', 'too', 'eat']\n",
      "Sugerencia gramatical:\n",
      "['i', 'want', 'to', 'eat'] \n",
      "\n",
      "Texto original:\n",
      "['the', 'science', 'off', 'computer']\n",
      "Sugerencia gramatical:\n",
      "['the', 'science', 'of', 'computer'] \n",
      "\n"
     ]
    }
   ],
   "source": [
    "corrected_txt = []\n",
    "\n",
    "for txt in txt_test:\n",
    "    model = badGrammar(txt, freqUni, lm_f)\n",
    "    corrected_txt += [model]\n",
    "    print('Texto original:')\n",
    "    print(txt)\n",
    "    print('Sugerencia gramatical:')\n",
    "    print(corrected_txt[-1], '\\n')"
   ]
  },
  {
   "cell_type": "markdown",
   "metadata": {},
   "source": [
    "Notar que son errores gramaticales en los cuales se puso una palabra por otra que no tenía sentido en el contexto y además son parecidas. Un pro a favor de la estrategia es que va a colocar una palabra que mejor contexto tenga dado el bigrama anterior.\n",
    "\n",
    "Sin embargo un contra, es que si las palabras están en un error gramatical, tal que el orden de las palabras no es el adecuado, esta estrategia no funcionariá pues solo juega con las posibles palabras dado el contexto, no intercambia orden. \n",
    "\n",
    "En los siguientes ejemplos podemos observar lo antes descrito."
   ]
  },
  {
   "cell_type": "code",
   "execution_count": 774,
   "metadata": {},
   "outputs": [],
   "source": [
    "txt_test = [['my', 'country', 'is', 'dig'],\n",
    "            ['i', 'feel', 'better', 'much'],\n",
    "            ['this', 'exercise', 'too', 'is', 'hard']]"
   ]
  },
  {
   "cell_type": "code",
   "execution_count": 775,
   "metadata": {},
   "outputs": [
    {
     "name": "stdout",
     "output_type": "stream",
     "text": [
      "Texto original:\n",
      "['my', 'country', 'is', 'dig']\n",
      "Sugerencia gramatical:\n",
      "['my', 'country', 'in', 'did'] \n",
      "\n",
      "Texto original:\n",
      "['i', 'feel', 'better', 'much']\n",
      "Sugerencia gramatical:\n",
      "['i', 'feel', 'better', 'much'] \n",
      "\n",
      "Texto original:\n",
      "['this', 'exercise', 'too', 'is', 'hard']\n",
      "Sugerencia gramatical:\n",
      "['this', 'exercise', 'to', 'in', 'had'] \n",
      "\n"
     ]
    }
   ],
   "source": [
    "corrected_txt = []\n",
    "\n",
    "for txt in txt_test:\n",
    "    model = badGrammar(txt, freqUni, lm_f)\n",
    "    corrected_txt += [model]\n",
    "    print('Texto original:')\n",
    "    print(txt)\n",
    "    print('Sugerencia gramatical:')\n",
    "    print(corrected_txt[-1], '\\n')"
   ]
  },
  {
   "cell_type": "markdown",
   "metadata": {},
   "source": [
    "Notamos que otro contra, es que la palabra dig no es tan común, pero en vez de sugerir la palabra big que es lo que se espera, coloca la palabra did que tiene más frecuencia o probabilidad pero no va en el contexto. En los siguientes ejemplo se esperaría que se cambiara el orden de las palabras, sin embargo la estrategia no funciona en estos casos."
   ]
  },
  {
   "cell_type": "markdown",
   "metadata": {},
   "source": [
    "### 3.4 Autocompletado\n",
    "La estrategia será dada la oración, vamos a buscar la probabilidad más alta de una palabra nueva del vocabulario dado un bigrama o unigrama anterior. Nos quedaremos con las de mayor probabilidad."
   ]
  },
  {
   "cell_type": "code",
   "execution_count": 1130,
   "metadata": {},
   "outputs": [],
   "source": [
    "def autocomplete_and_candidates(sentence, vocabulary, lm):\n",
    "    '''\n",
    "    input_text: a text represented as a word list\n",
    "    Returns: a list with suggested autocomplete\n",
    "    '''\n",
    "    corrected = []\n",
    "    top = {-5 : '', -4 : '', -3 : '', -2 : '', -1 : ''} \n",
    "    if len(sentence) > 1:\n",
    "        corrected = [sentence[-2], sentence[-1]]\n",
    "        for word in vocabulary:\n",
    "            autoc, prob = bestCandidate3(word, corrected, lm)\n",
    "            pos = min(top)\n",
    "            if prob > pos:\n",
    "                top.pop(pos)\n",
    "                top[prob] = autoc\n",
    "    elif len(sentence) > 0:\n",
    "        corrected = [sentence[0]]\n",
    "        for word in vocabulary:\n",
    "            autoc, prob = bestCandidate3(word, corrected, lm)\n",
    "            pos = min(top)\n",
    "            if prob > pos:\n",
    "                top.pop(pos)\n",
    "                top[prob] = autoc\n",
    "    else:\n",
    "        corrected = []\n",
    "        for word in vocabulary:\n",
    "            autoc, prob = bestCandidate3(word, corrected, lm)\n",
    "            pos = min(top)\n",
    "            if prob > pos:\n",
    "                top.pop(pos)\n",
    "                top[prob] = autoc\n",
    "    return sentence + [top[max(top)]], top\n",
    "\n",
    "def bestCandidate3(cand, sentence, lm):\n",
    "    '''\n",
    "    Elige el mejor candidato dada la ponderación de interpolación de lambda.\n",
    "    '''\n",
    "    p_max = 0\n",
    "    best_cand = ''\n",
    "    if len(sentence) > 1:\n",
    "        #for cand in candidates:\n",
    "        trigram = (sentence[-2], sentence[-1], cand)\n",
    "        bigram = (sentence[-1], cand)\n",
    "        p = interpolation(trigram, lm)\n",
    "        p *= P_bigr(bigram, freqBigr, freqUni, cond=True)\n",
    "        p *= P_uni[cand]\n",
    "        if p > p_max:\n",
    "            p_max = p\n",
    "            best_cand = cand\n",
    "        p = P_bigr(bigram, freqBigr, freqUni, cond=True)\n",
    "        if p > p_max:\n",
    "            p_max = p\n",
    "            best_cand = cand\n",
    "    elif len(sentence) > 0:\n",
    "        #for cand in candidates:\n",
    "        bigram = (sentence[-1], cand)\n",
    "        p = P_bigr(bigram, freqBigr, freqUni, cond=True)\n",
    "        if p > p_max:\n",
    "            p_max = p\n",
    "            best_cand = cand\n",
    "    else:\n",
    "        #for cand in candidates:\n",
    "        p = P_uni[cand]\n",
    "        if p > p_max:\n",
    "            p_max = p\n",
    "            best_cand = cand\n",
    "    \n",
    "    return best_cand, p_max"
   ]
  },
  {
   "cell_type": "markdown",
   "metadata": {},
   "source": [
    "A continuación 3 ejemplos donde la estrategia no sirve:\n",
    "* stand up no aparece en el top 5 aunque puede ser adecuada \n",
    "* like to (verbo) no pone un verbo y prefiere poner 'the', aunque el verbo 'be'si aparece en el top\n",
    "* high speed no aparece y prefiere poner high school, es adecuada en forma pero no en el contexto"
   ]
  },
  {
   "cell_type": "code",
   "execution_count": 886,
   "metadata": {},
   "outputs": [
    {
     "name": "stdout",
     "output_type": "stream",
     "text": [
      "Auto completed:\n",
      "['you', 'need', 'to', 'stand', 'in']\n",
      "Top 5 words:\n",
      "{0.00186347587289133: 'in', 0.001569242840329541: '</s>'}\n"
     ]
    }
   ],
   "source": [
    "s = ['you', 'need', 'to', 'stand']\n",
    "new_s, top = autocomplete_and_candidates(s, freqUni, lm_f)\n",
    "print('Auto completed:')\n",
    "print(new_s)\n",
    "print('Top 5 words:')\n",
    "print(top)"
   ]
  },
  {
   "cell_type": "code",
   "execution_count": 887,
   "metadata": {},
   "outputs": [
    {
     "name": "stdout",
     "output_type": "stream",
     "text": [
      "Auto completed:\n",
      "['i', 'would', 'like', 'to', 'the']\n",
      "Top 5 words:\n",
      "{0.13427688220115985: 'the', 0.08065299031755359: '<unk>', 0.04768413253966226: 'be'}\n"
     ]
    }
   ],
   "source": [
    "s = ['i', 'would', 'like', 'to']\n",
    "new_s, top = autocomplete_and_candidates(s, freqUni, lm_f)\n",
    "print('Auto completed:')\n",
    "print(new_s)\n",
    "print('Top 5 words:')\n",
    "print(top)"
   ]
  },
  {
   "cell_type": "code",
   "execution_count": 888,
   "metadata": {},
   "outputs": [
    {
     "name": "stdout",
     "output_type": "stream",
     "text": [
      "Auto completed:\n",
      "['my', 'car', 'is', 'just', 'for', 'high', 'school']\n",
      "Top 5 words:\n",
      "{0.01241847583310998: 'school'}\n"
     ]
    }
   ],
   "source": [
    "s = ['my', 'car', 'is', 'just', 'for', 'high']\n",
    "new_s, top = autocomplete_and_candidates(s, freqUni, lm_f)\n",
    "print('Auto completed:')\n",
    "print(new_s)\n",
    "print('Top 5 words:')\n",
    "print(top)"
   ]
  },
  {
   "cell_type": "markdown",
   "metadata": {},
   "source": [
    "Ahora 3 ejemplos en los que funciona:\n",
    "* sherlock holmes lo completa bien\n",
    "* new york la completa bien y sugiere otras.\n",
    "* the united states lo completa bien y sugiere united kingdom tambien"
   ]
  },
  {
   "cell_type": "code",
   "execution_count": 889,
   "metadata": {},
   "outputs": [
    {
     "name": "stdout",
     "output_type": "stream",
     "text": [
      "Auto completed:\n",
      "['sherlock', 'holmes']\n",
      "Top 5 words:\n",
      "{0.01058672207381023: 'holmes'}\n"
     ]
    }
   ],
   "source": [
    "s = ['sherlock']\n",
    "new_s, top = autocomplete_and_candidates(s, freqUni, lm_f)\n",
    "print('Auto completed:')\n",
    "print(new_s)\n",
    "print('Top 5 words:')\n",
    "print(top)"
   ]
  },
  {
   "cell_type": "code",
   "execution_count": 890,
   "metadata": {},
   "outputs": [
    {
     "name": "stdout",
     "output_type": "stream",
     "text": [
      "Auto completed:\n",
      "['i', 'would', 'like', 'to', 'visit', 'new', 'york']\n",
      "Top 5 words:\n",
      "{0.021681574239713775: '<unk>', 0.04958855098389982: 'york'}\n"
     ]
    }
   ],
   "source": [
    "s = ['i', 'would', 'like', 'to', 'visit', 'new']\n",
    "new_s, top = autocomplete_and_candidates(s, freqUni, lm_f)\n",
    "print('Auto completed:')\n",
    "print(new_s)\n",
    "print('Top 5 words:')\n",
    "print(top)"
   ]
  },
  {
   "cell_type": "code",
   "execution_count": 891,
   "metadata": {},
   "outputs": [
    {
     "name": "stdout",
     "output_type": "stream",
     "text": [
      "Auto completed:\n",
      "['i', 'would', 'like', 'to', 'visit', 'the', 'united', 'states']\n",
      "Top 5 words:\n",
      "{0.014522292993630573: 'kingdom', 0.10276008492569003: 'states'}\n"
     ]
    }
   ],
   "source": [
    "s = ['i', 'would', 'like', 'to', 'visit', 'the', 'united']\n",
    "new_s, top = autocomplete_and_candidates(s, freqUni, lm_f)\n",
    "print('Auto completed:')\n",
    "print(new_s)\n",
    "print('Top 5 words:')\n",
    "print(top)"
   ]
  },
  {
   "cell_type": "markdown",
   "metadata": {},
   "source": [
    "Falla porque muchas veces la probabilidad del trigrama no es suficiente para el contexto en el que se habla, puesto que en un ejemplo anterior, hablabamos de la velocidad de un carro y puso high schol cuando debería ser relacionado al auto como high speed."
   ]
  },
  {
   "cell_type": "markdown",
   "metadata": {},
   "source": [
    "## 4. Generación de Texto:\n",
    "#### 4.1 Cargamos los tuits:"
   ]
  },
  {
   "cell_type": "code",
   "execution_count": 953,
   "metadata": {},
   "outputs": [],
   "source": [
    "def words_with_points2(text): \n",
    "    return re.findall('[^\\d\\W]+|[\\n]', text.lower())"
   ]
  },
  {
   "cell_type": "code",
   "execution_count": 954,
   "metadata": {},
   "outputs": [],
   "source": [
    "tr_txt, tr_y = get_text_from_file('mex_train.txt', 'mex_train_labels.txt')\n",
    "tr_y = list(map(int, tr_y))\n",
    "val_txt, val_y = get_text_from_file('mex_val.txt', 'mex_val_labels.txt')\n",
    "val_y = list(map(int, val_y))"
   ]
  },
  {
   "cell_type": "code",
   "execution_count": 955,
   "metadata": {},
   "outputs": [],
   "source": [
    "tuits_tr = words_with_points2(open('mex_train.txt').read())\n",
    "tuits_te = words_with_points2(open('mex_val.txt').read())"
   ]
  },
  {
   "cell_type": "markdown",
   "metadata": {},
   "source": [
    "Los primeros 500 de training se van a ir para test"
   ]
  },
  {
   "cell_type": "code",
   "execution_count": 956,
   "metadata": {},
   "outputs": [],
   "source": [
    "train = ['<s>']\n",
    "valid = ['<s>']\n",
    "\n",
    "count = 0\n",
    "count_y = 0\n",
    "for i in range(len(tuits_tr)):\n",
    "    if count < 550 and tr_y[count_y] == 1:\n",
    "        if tuits_tr[i] == '\\n':\n",
    "            valid += ['</s>', '<s>'] \n",
    "            count_y += 1\n",
    "            count += 1\n",
    "        else:\n",
    "            valid += [tuits_tr[i]]\n",
    "    else:\n",
    "        if tuits_tr[i] == '\\n':\n",
    "            train += ['</s>', '<s>'] \n",
    "            count_y += 1\n",
    "        else:\n",
    "            train += [tuits_tr[i]]\n",
    "    \n",
    "train = train[:-1]\n",
    "valid = valid[:-1]"
   ]
  },
  {
   "cell_type": "code",
   "execution_count": 957,
   "metadata": {},
   "outputs": [],
   "source": [
    "test = ['<s>']\n",
    "for i in range(len(tuits_va)):\n",
    "    if tuits_va[i] == '\\n':\n",
    "        test += ['</s>', '<s>'] \n",
    "    else:\n",
    "        test += [tuits_va[i]]\n",
    "test = test[:-1] "
   ]
  },
  {
   "cell_type": "markdown",
   "metadata": {},
   "source": [
    "#### 4.2 EM para encontrar la probabilidad de un tuit agresivo\n",
    "La estrategia será entrenar con los datos de tuits de entrenamiento mezclados en agrsivo y no agresivo. Después al realizar EM para datos de validación solo le meteremos datos agresivos, así que el modelo estimará los $\\lambda$'s adecuados para que sea un modelo agresivo mmaximizando la probabilidad de este (minimizando su perplexidad)."
   ]
  },
  {
   "cell_type": "code",
   "execution_count": 1109,
   "metadata": {},
   "outputs": [],
   "source": [
    "v = sort_freq_dict(Counter(train)) \n",
    "V = v[:10000]\n",
    "\n",
    "dict_ind = {}\n",
    "dict_ind_inv = {}\n",
    "count = 0\n",
    "for _, word in V:\n",
    "    dict_ind[word] = count\n",
    "    dict_ind_inv[count] = word\n",
    "    count += 1"
   ]
  },
  {
   "cell_type": "code",
   "execution_count": 1110,
   "metadata": {},
   "outputs": [],
   "source": [
    "dict_ind['<unk>'] = 10000\n",
    "dict_ind_inv[10000] = '<unk>'"
   ]
  },
  {
   "cell_type": "code",
   "execution_count": 1111,
   "metadata": {},
   "outputs": [],
   "source": [
    "for i in range(len(train)):\n",
    "    if not (train[i] in dict_ind):\n",
    "        train[i] = '<unk>'\n",
    "for i in range(len(valid)):\n",
    "    if not (valid[i] in dict_ind):\n",
    "        valid[i] = '<unk>'\n",
    "for i in range(len(test)):\n",
    "    if not (test[i] in dict_ind):\n",
    "        test[i] = '<unk>'"
   ]
  },
  {
   "cell_type": "code",
   "execution_count": 1112,
   "metadata": {},
   "outputs": [],
   "source": [
    "P_uni = {}\n",
    "N = len(train)\n",
    "len_V = len(V)\n",
    "for frec, word in V:\n",
    "    P_uni[word] = (frec+1) / (N+len_V)"
   ]
  },
  {
   "cell_type": "code",
   "execution_count": 1113,
   "metadata": {},
   "outputs": [],
   "source": [
    "bigrams = [('<s>', '<s>')]\n",
    "end = dict_ind['</s>']\n",
    "for i in range(1, len(train)):\n",
    "    #if dict_ind[corpus[i-1]] != end:\n",
    "    bigrams.append((train[i-1], train[i]))\n",
    "bigrams += [('</s>', '</s>')]"
   ]
  },
  {
   "cell_type": "code",
   "execution_count": 1114,
   "metadata": {},
   "outputs": [],
   "source": [
    "freqBigr = Counter(bigrams)\n",
    "freqUni = Counter(train)"
   ]
  },
  {
   "cell_type": "code",
   "execution_count": 1115,
   "metadata": {},
   "outputs": [],
   "source": [
    "trigrams = [('<s>', '<s>', '<s>')]\n",
    "start = dict_ind['<s>']\n",
    "end = dict_ind['</s>']\n",
    "for i in range(2, len(train)):\n",
    "    if dict_ind[train[i-2]] == start:\n",
    "        trigrams += [('<s>', '<s>', train[i-1])]\n",
    "    if dict_ind[train[i-1]] == end:\n",
    "        trigrams.append((train[i-2], '</s>', '</s>'))\n",
    "    elif dict_ind[train[i-2]] != end:\n",
    "        trigrams.append((train[i-2], train[i-1], train[i]))\n",
    "trigrams += [('</s>', '</s>', '</s>')]"
   ]
  },
  {
   "cell_type": "code",
   "execution_count": 1116,
   "metadata": {},
   "outputs": [],
   "source": [
    "freqTrigr = Counter(trigrams)"
   ]
  },
  {
   "cell_type": "code",
   "execution_count": 1117,
   "metadata": {},
   "outputs": [],
   "source": [
    "val_trigr = []\n",
    "start = dict_ind['<s>']\n",
    "end = dict_ind['</s>']\n",
    "for i in range(2, len(valid)):\n",
    "    if dict_ind[valid[i-2]] == start:\n",
    "        val_trigr += [('<s>', '<s>', valid[i-1])]\n",
    "    if dict_ind[valid[i-1]] == end:\n",
    "        val_trigr.append((valid[i-2], '</s>', '</s>'))\n",
    "    elif dict_ind[valid[i-2]] != end:\n",
    "        val_trigr.append((valid[i-2], valid[i-1], valid[i]))"
   ]
  },
  {
   "cell_type": "markdown",
   "metadata": {},
   "source": [
    "Entrenamiento de los lambdas para agresividad:"
   ]
  },
  {
   "cell_type": "code",
   "execution_count": 1118,
   "metadata": {},
   "outputs": [
    {
     "name": "stdout",
     "output_type": "stream",
     "text": [
      "Lambda encontrado: [9.90808496e-01 7.11608054e-02 4.45382854e-10]\n"
     ]
    }
   ],
   "source": [
    "#Lambda inicial\n",
    "lm_i = [.1, .5, 1]\n",
    "lm_f, perps = EM_trigrams(lm_i, val_trigr, 10)\n",
    "print('Lambda encontrado:',lm_f)"
   ]
  },
  {
   "cell_type": "code",
   "execution_count": 1119,
   "metadata": {},
   "outputs": [
    {
     "data": {
      "image/png": "[encoded data removed]",
      "text/plain": [
       "<Figure size 1440x360 with 2 Axes>"
      ]
     },
     "metadata": {
      "needs_background": "light"
     },
     "output_type": "display_data"
    }
   ],
   "source": [
    "plt.figure(figsize=(20,5))\n",
    "plt.subplot(121)\n",
    "plt.plot(perps)\n",
    "plt.title('Perplexidad')\n",
    "\n",
    "plt.subplot(122)\n",
    "plt.plot(perps)\n",
    "plt.ylim((8000,25000))\n",
    "plt.title('Perplexidad con zoom')\n",
    "plt.show()"
   ]
  },
  {
   "cell_type": "markdown",
   "metadata": {},
   "source": [
    "Seleccionamos el lambda final para evaluar en los datos de test:"
   ]
  },
  {
   "cell_type": "code",
   "execution_count": 1120,
   "metadata": {},
   "outputs": [],
   "source": [
    "test_trigr = []\n",
    "start = dict_ind['<s>']\n",
    "end = dict_ind['</s>']\n",
    "for i in range(2, len(test)):\n",
    "    if dict_ind[test[i-2]] == start:\n",
    "        test_trigr += [('<s>', '<s>', test[i-1])]\n",
    "    if dict_ind[test[i-1]] == end:\n",
    "        test_trigr.append((test[i-2], '</s>', '</s>'))\n",
    "    elif dict_ind[test[i-2]] != end:\n",
    "        test_trigr.append((test[i-2], test[i-1], test[i]))\n",
    "test_trigr += [(test[-2], '</s>', '</s>')]\n"
   ]
  },
  {
   "cell_type": "markdown",
   "metadata": {},
   "source": [
    "Para clasificar, necesitamos calcular la probabilidad de ser agresivo:"
   ]
  },
  {
   "cell_type": "code",
   "execution_count": 1121,
   "metadata": {},
   "outputs": [],
   "source": [
    "def probability(trigrams, lm=[]):\n",
    "    '''\n",
    "    Función de probabilidad para trigramas\n",
    "    '''\n",
    "    N = len(trigrams)\n",
    "    probs = []\n",
    "    ans = 1.\n",
    "    for trigram in trigrams:\n",
    "        p  = lm[0] * P_uni[trigram[2]]\n",
    "        p += lm[1] * P_bigr((trigram[1],trigram[2]), freqBigr, freqUni, cond=True)\n",
    "        p += lm[2] * P_trigr(trigram, freqTrigr, freqBigr, freqUni, cond=True)\n",
    "        ans *= p\n",
    "        if trigram[1]==trigram[2] and trigram[1]=='</s>':\n",
    "            probs += [ans]\n",
    "            ans = 1.\n",
    "    return probs"
   ]
  },
  {
   "cell_type": "code",
   "execution_count": 1122,
   "metadata": {},
   "outputs": [],
   "source": [
    "probs = probability(test_trigr, lm_f)"
   ]
  },
  {
   "cell_type": "code",
   "execution_count": 1123,
   "metadata": {},
   "outputs": [],
   "source": [
    "y = np.zeros(len(probs))\n",
    "m = np.percentile(probs, 85)\n",
    "idx = probs >= m\n",
    "y[idx] = 1"
   ]
  },
  {
   "cell_type": "code",
   "execution_count": 1125,
   "metadata": {},
   "outputs": [
    {
     "name": "stdout",
     "output_type": "stream",
     "text": [
      "Se logra una buena clasificación del:  0.5714285714285714\n"
     ]
    }
   ],
   "source": [
    "accuracy = sum(y==val_y)/len(val_y)\n",
    "print('Se logra una buena clasificación del: ', accuracy)"
   ]
  },
  {
   "cell_type": "markdown",
   "metadata": {},
   "source": [
    "Con dicha probabilidad logra clasificarse un 0.6 de buena clasificacion en tuits agrsivos y no agresivos:"
   ]
  },
  {
   "cell_type": "markdown",
   "metadata": {},
   "source": [
    "#### 4.3 Tuitear\n",
    "La estrategia para tuitear será generar palabras dada un bigrama o unigrama anterior de manera aleatoria dentro del top 5 de mejores respuestas, la estrategia para aumentar la probabilidad de terminar el tuit cerca de las 50 palabras es poner el token de terminación si este aparece en el top 5"
   ]
  },
  {
   "cell_type": "code",
   "execution_count": 1205,
   "metadata": {},
   "outputs": [],
   "source": [
    "def tuitear(tuit=[]):\n",
    "    '''\n",
    "    Función que produce un tuit generando de manera aleatoria posibles trigramas\n",
    "    '''\n",
    "    for i in range(50):\n",
    "        word, top = autocomplete_and_candidates2(tuit, freqUni, lm_f)\n",
    "        # random\n",
    "        pos = int(np.random.rand()*len(top))\n",
    "        count = 0\n",
    "        #Probabilidad de paro\n",
    "        if i > 45:\n",
    "            if '</s>' in top:\n",
    "                tuit += ['</s>']\n",
    "                break\n",
    "        for p in top:\n",
    "            if count == pos:\n",
    "                tuit += [top[p]]\n",
    "                break\n",
    "            count += 1\n",
    "        if tuit[-1] == '</s>':\n",
    "            break\n",
    "    print(top)\n",
    "    return tuit\n",
    "\n",
    "def autocomplete_and_candidates2(sentence, vocabulary, lm):\n",
    "    '''\n",
    "    input_text: a text represented as a word list\n",
    "    Returns: a list with suggested autocomplete\n",
    "    '''\n",
    "    corrected = []\n",
    "    top = {-5 : '', -4 : '', -3 : '', -2 : '', -1 : ''} \n",
    "    if len(sentence) > 1:\n",
    "        corrected = [sentence[-2], sentence[-1]]\n",
    "        for word in vocabulary:\n",
    "            autoc, prob = bestCandidate4(word, corrected, lm)\n",
    "            pos = min(top)\n",
    "            if prob > pos:\n",
    "                top.pop(pos)\n",
    "                top[prob] = autoc\n",
    "    elif len(sentence) > 0:\n",
    "        corrected = [sentence[0]]\n",
    "        for word in vocabulary:\n",
    "            autoc, prob = bestCandidate4(word, corrected, lm)\n",
    "            pos = min(top)\n",
    "            if prob > pos:\n",
    "                top.pop(pos)\n",
    "                top[prob] = autoc\n",
    "    else:\n",
    "        corrected = []\n",
    "        for word in vocabulary:\n",
    "            autoc, prob = bestCandidate4(word, corrected, lm)\n",
    "            pos = min(top)\n",
    "            if prob > pos:\n",
    "                top.pop(pos)\n",
    "                top[prob] = autoc\n",
    "    return sentence + [top[max(top)]], top\n",
    "\n",
    "def bestCandidate4(cand, sentence, lm):\n",
    "    '''\n",
    "    Elige el mejor candidato dada la ponderación de interpolación de lambda.\n",
    "    '''\n",
    "    p_max = 0\n",
    "    best_cand = ''\n",
    "    if len(sentence) > 1:\n",
    "        #for cand in candidates:\n",
    "        trigram = (sentence[-2], sentence[-1], cand)\n",
    "        bigram = (sentence[-1], cand)\n",
    "        p = interpolation(trigram, lm)\n",
    "        if p > p_max:\n",
    "            p_max = p\n",
    "            best_cand = cand\n",
    "    elif len(sentence) > 0:\n",
    "        #for cand in candidates:\n",
    "        bigram = (sentence[-1], cand)\n",
    "        p = P_bigr(bigram, freqBigr, freqUni, cond=True)\n",
    "        if p > p_max:\n",
    "            p_max = p\n",
    "            best_cand = cand\n",
    "    else:\n",
    "        #for cand in candidates:\n",
    "        p = P_uni[cand]\n",
    "        if p > p_max:\n",
    "            p_max = p\n",
    "            best_cand = cand\n",
    "    \n",
    "    return best_cand, p_max"
   ]
  },
  {
   "cell_type": "markdown",
   "metadata": {},
   "source": [
    "Ejemplos:"
   ]
  },
  {
   "cell_type": "code",
   "execution_count": 1203,
   "metadata": {},
   "outputs": [
    {
     "name": "stdout",
     "output_type": "stream",
     "text": [
      "{0.04904386623707999: '<s>', 0.029724166604148058: 'de', 0.03060554147094211: 'que', 0.04903912028500655: '</s>', 0.02313906250322629: 'a'}\n"
     ]
    },
    {
     "data": {
      "text/plain": [
       "['que', 'me', 'de', 'la', '<s>', '</s>']"
      ]
     },
     "execution_count": 1203,
     "metadata": {},
     "output_type": "execute_result"
    }
   ],
   "source": [
    "tuitear()"
   ]
  },
  {
   "cell_type": "code",
   "execution_count": 1204,
   "metadata": {},
   "outputs": [
    {
     "name": "stdout",
     "output_type": "stream",
     "text": [
      "{0.04904386623708977: '<s>', 0.029724166604480448: 'de', 0.030605541472584506: 'que', 0.04903912028500655: '</s>', 0.023139062504330996: 'a'}\n"
     ]
    },
    {
     "data": {
      "text/plain": [
       "['hola', 'pinche', '<s>', 'a', 'la', 'que', '<s>', '<s>', '</s>']"
      ]
     },
     "execution_count": 1204,
     "metadata": {},
     "output_type": "execute_result"
    }
   ],
   "source": [
    "tuitear(['hola'])"
   ]
  },
  {
   "cell_type": "markdown",
   "metadata": {},
   "source": [
    "#### 4.4 Conferencias AMLO\n",
    "La estrategia será similar al de tuitear, sin embargo para que dure más la conferencia, se evitará poner el token de final hasta las 290 palabras.\n",
    "\n",
    "Lectura y entrenamiento:"
   ]
  },
  {
   "cell_type": "code",
   "execution_count": 1210,
   "metadata": {},
   "outputs": [],
   "source": [
    "import nltk\n",
    "import glob\n",
    "from nltk import FreqDist\n",
    "from nltk.tokenize import RegexpTokenizer\n",
    "from nltk.text import Text\n",
    "from nltk.tokenize import TweetTokenizer \n",
    "from datetime import datetime\n",
    "import matplotlib.pyplot as plt\n",
    "from nltk.corpus import stopwords"
   ]
  },
  {
   "cell_type": "code",
   "execution_count": 1222,
   "metadata": {},
   "outputs": [],
   "source": [
    "str_conf = []\n",
    "# Tokenizador con expresion regular solo para letras mayúsculas o minúsculas\n",
    "tokenizer = RegexpTokenizer('[^\\d\\W]+|[\\x2E]')\n",
    "\n",
    "# Ciclo para abrir todos los archivos de las conferencias\n",
    "for f_page in glob.glob('./corpus/*'):\n",
    "    conf_i = open(f_page, 'r', encoding='utf-8').read().lower()\n",
    "    # Separamos la conferencia i por palabras separadas por espacio\n",
    "    conf_s = tokenizer.tokenize(conf_i)\n",
    "    # Agregamos a la lista de conferencias\n",
    "    str_conf += conf_s\n",
    "\n",
    "# Descargamos los datos de la lista a un Text\n",
    "text_conf = Text(str_conf)"
   ]
  },
  {
   "cell_type": "code",
   "execution_count": 1306,
   "metadata": {},
   "outputs": [],
   "source": [
    "train = ['<s>']\n",
    "for i in range(len(str_conf)):\n",
    "    if str_conf[i] == '.':\n",
    "        train += ['</s>', '<s>'] \n",
    "    else:\n",
    "        train += [str_conf[i]]\n",
    "train = train[:-1] #+ ['<unk>']*25"
   ]
  },
  {
   "cell_type": "code",
   "execution_count": 1307,
   "metadata": {},
   "outputs": [],
   "source": [
    "v = sort_freq_dict(Counter(train)) \n",
    "V = v[:10000]\n",
    "V = v\n",
    "\n",
    "dict_ind = {}\n",
    "dict_ind_inv = {}\n",
    "count = 0\n",
    "for _, word in V:\n",
    "    dict_ind[word] = count\n",
    "    dict_ind_inv[count] = word\n",
    "    count += 1"
   ]
  },
  {
   "cell_type": "code",
   "execution_count": 1276,
   "metadata": {},
   "outputs": [],
   "source": [
    "#dict_ind['<unk>'] = 10000\n",
    "#dict_ind_inv[10000] = '<unk>'"
   ]
  },
  {
   "cell_type": "code",
   "execution_count": 1308,
   "metadata": {},
   "outputs": [],
   "source": [
    "#for i in range(len(train)):\n",
    " #   if not (train[i] in dict_ind):\n",
    "  #      train[i] = '<unk>'"
   ]
  },
  {
   "cell_type": "code",
   "execution_count": 1309,
   "metadata": {},
   "outputs": [],
   "source": [
    "freqUni = Counter(train)"
   ]
  },
  {
   "cell_type": "code",
   "execution_count": 1310,
   "metadata": {},
   "outputs": [],
   "source": [
    "P_uni = {}\n",
    "N = len(train)\n",
    "len_V = len(V)\n",
    "for frec, word in V:\n",
    "    P_uni[word] = (frec+1) / (N+len_V)"
   ]
  },
  {
   "cell_type": "code",
   "execution_count": 1311,
   "metadata": {},
   "outputs": [],
   "source": [
    "bigrams = [('<s>', '<s>')]\n",
    "end = dict_ind['</s>']\n",
    "for i in range(1, len(train)):\n",
    "    #if dict_ind[corpus[i-1]] != end:\n",
    "    bigrams.append((train[i-1], train[i]))\n",
    "bigrams += [('</s>', '</s>')]"
   ]
  },
  {
   "cell_type": "code",
   "execution_count": 1312,
   "metadata": {},
   "outputs": [],
   "source": [
    "freqBigr = Counter(bigrams)"
   ]
  },
  {
   "cell_type": "code",
   "execution_count": 1313,
   "metadata": {},
   "outputs": [],
   "source": [
    "trigrams = [('<s>', '<s>', '<s>')]\n",
    "start = dict_ind['<s>']\n",
    "end = dict_ind['</s>']\n",
    "for i in range(2, len(train)):\n",
    "    if dict_ind[train[i-2]] == start:\n",
    "        trigrams += [('<s>', '<s>', train[i-1])]\n",
    "    if dict_ind[train[i-1]] == end:\n",
    "        trigrams.append((train[i-2], '</s>', '</s>'))\n",
    "    elif dict_ind[train[i-2]] != end:\n",
    "        trigrams.append((train[i-2], train[i-1], train[i]))\n",
    "trigrams += [('</s>', '</s>', '</s>')]"
   ]
  },
  {
   "cell_type": "code",
   "execution_count": 1314,
   "metadata": {},
   "outputs": [],
   "source": [
    "freqTrigr = Counter(trigrams)"
   ]
  },
  {
   "cell_type": "markdown",
   "metadata": {},
   "source": [
    "Función de dar conferencia:"
   ]
  },
  {
   "cell_type": "code",
   "execution_count": 1315,
   "metadata": {},
   "outputs": [],
   "source": [
    "def dar_conferencia(tuit=[]):\n",
    "    '''\n",
    "    Función que produce un tuit generando de manera aleatoria posibles trigramas\n",
    "    '''\n",
    "    for i in range(300):\n",
    "        word, top = autocomplete_and_candidates3(tuit, freqUni, lm_f)\n",
    "        \n",
    "        #Probabilidad de paro\n",
    "        if i > 290:\n",
    "            if '</s>' in top:\n",
    "                tuit += ['</s>']\n",
    "                break\n",
    "        # random\n",
    "        pos = int(np.random.rand()*len(top))\n",
    "        count = 0\n",
    "        for p in top:\n",
    "            if count == pos:\n",
    "                if top[p] == '</s>':\n",
    "                    tuit = word\n",
    "                else:\n",
    "                    tuit += [top[p]]\n",
    "                break\n",
    "            count += 1\n",
    "        if tuit[-1] == '</s>':\n",
    "            break\n",
    "    return tuit\n",
    "\n",
    "def autocomplete_and_candidates3(sentence, vocabulary, lm):\n",
    "    '''\n",
    "    input_text: a text represented as a word list\n",
    "    Returns: a list with suggested autocomplete\n",
    "    '''\n",
    "    corrected = []\n",
    "    top = {-5 : '', -4 : '', -3 : '', -2 : '', -1 : ''} \n",
    "    if len(sentence) > 1:\n",
    "        corrected = [sentence[-2], sentence[-1]]\n",
    "        for word in vocabulary:\n",
    "            autoc, prob = bestCandidate5(word, corrected, lm)\n",
    "            pos = min(top)\n",
    "            if prob > pos:\n",
    "                top.pop(pos)\n",
    "                top[prob] = autoc\n",
    "    elif len(sentence) > 0:\n",
    "        corrected = [sentence[0]]\n",
    "        for word in vocabulary:\n",
    "            autoc, prob = bestCandidate5(word, corrected, lm)\n",
    "            pos = min(top)\n",
    "            if prob > pos:\n",
    "                top.pop(pos)\n",
    "                top[prob] = autoc\n",
    "    else:\n",
    "        corrected = []\n",
    "        for word in vocabulary:\n",
    "            autoc, prob = bestCandidate5(word, corrected, lm)\n",
    "            pos = min(top)\n",
    "            if prob > pos:\n",
    "                top.pop(pos)\n",
    "                top[prob] = autoc\n",
    "    return sentence + [top[max(top)]], top\n",
    "\n",
    "def bestCandidate5(cand, sentence, lm):\n",
    "    '''\n",
    "    Elige el mejor candidato dada la ponderación de interpolación de lambda.\n",
    "    '''\n",
    "    p_max = 0\n",
    "    best_cand = ''\n",
    "    if len(sentence) > 1:\n",
    "        #for cand in candidates:\n",
    "        trigram = (sentence[-2], sentence[-1], cand)\n",
    "        bigram = (sentence[-1], cand)\n",
    "        p = P_trigr(trigram, freqTrigr, freqBigr, freqUni, cond=True)\n",
    "        if p > p_max:\n",
    "            p_max = p\n",
    "            best_cand = cand\n",
    "        p = P_bigr(bigram, freqBigr, freqUni, cond=True)\n",
    "        if p > p_max:\n",
    "            p_max = p\n",
    "            best_cand = cand\n",
    "    elif len(sentence) > 0:\n",
    "        #for cand in candidates:\n",
    "        bigram = (sentence[-1], cand)\n",
    "        p = P_bigr(bigram, freqBigr, freqUni, cond=True)\n",
    "        if p > p_max:\n",
    "            p_max = p\n",
    "            best_cand = cand\n",
    "    else:\n",
    "        #for cand in candidates:\n",
    "        p = P_uni[cand]\n",
    "        if p > p_max:\n",
    "            p_max = p\n",
    "            best_cand = cand\n",
    "    \n",
    "    return best_cand, p_max"
   ]
  },
  {
   "cell_type": "code",
   "execution_count": 1316,
   "metadata": {},
   "outputs": [
    {
     "data": {
      "text/plain": [
       "['que',\n",
       " 'no',\n",
       " 'hay',\n",
       " 'que',\n",
       " 'no',\n",
       " 'hay',\n",
       " 'que',\n",
       " 'no',\n",
       " 'es',\n",
       " 'un',\n",
       " 'asunto',\n",
       " 'que',\n",
       " 'no',\n",
       " 'hay',\n",
       " 'que',\n",
       " 'no',\n",
       " 'hay',\n",
       " 'un',\n",
       " 'asunto',\n",
       " 'de',\n",
       " 'los',\n",
       " 'estados',\n",
       " 'unidos',\n",
       " 'y',\n",
       " 'que',\n",
       " 'se',\n",
       " 'está',\n",
       " 'el',\n",
       " 'que',\n",
       " 'se',\n",
       " 'va',\n",
       " 'a',\n",
       " 'la',\n",
       " 'corrupción',\n",
       " 'y',\n",
       " 'en',\n",
       " 'el',\n",
       " 'gobierno',\n",
       " 'de',\n",
       " 'los',\n",
       " 'trabajadores',\n",
       " 'de',\n",
       " 'la',\n",
       " 'gente',\n",
       " 'de',\n",
       " 'méxico',\n",
       " '</s>']"
      ]
     },
     "execution_count": 1316,
     "metadata": {},
     "output_type": "execute_result"
    }
   ],
   "source": [
    "dar_conferencia()"
   ]
  },
  {
   "cell_type": "code",
   "execution_count": null,
   "metadata": {},
   "outputs": [],
   "source": []
  }
 ],
 "metadata": {
  "kernelspec": {
   "display_name": "Python 3",
   "language": "python",
   "name": "python3"
  },
  "language_info": {
   "codemirror_mode": {
    "name": "ipython",
    "version": 3
   },
   "file_extension": ".py",
   "mimetype": "text/x-python",
   "name": "python",
   "nbconvert_exporter": "python",
   "pygments_lexer": "ipython3",
   "version": "3.8.8"
  }
 },
 "nbformat": 4,
 "nbformat_minor": 4
}
